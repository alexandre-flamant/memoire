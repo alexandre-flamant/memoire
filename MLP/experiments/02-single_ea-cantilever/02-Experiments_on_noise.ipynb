{
 "cells": [
  {
   "metadata": {
    "ExecuteTime": {
     "end_time": "2025-02-22T15:17:47.401625Z",
     "start_time": "2025-02-22T15:17:47.347638Z"
    }
   },
   "cell_type": "code",
   "source": [
    "from sqlalchemy.sql.base import elements\n",
    "%pwd\n",
    "%cd ../.."
   ],
   "id": "58fd7167621b4c64",
   "outputs": [
    {
     "name": "stdout",
     "output_type": "stream",
     "text": [
      "/Users/aflamant/Documents/courses/2024-2025/mémoire/03-code/memoire/MLP\n"
     ]
    }
   ],
   "execution_count": 1
  },
  {
   "metadata": {
    "ExecuteTime": {
     "end_time": "2025-02-22T15:17:49.357403Z",
     "start_time": "2025-02-22T15:17:48.017184Z"
    }
   },
   "cell_type": "code",
   "source": [
    "# General\n",
    "import numpy as np\n",
    "import re\n",
    "import ast\n",
    "import torch\n",
    "import mlflow\n",
    "import matplotlib.pyplot as plt\n",
    "\n",
    "from torch import nn\n",
    "from torch.distributions import Normal\n",
    "from torch.nn import functional as F\n",
    "from torch.utils.data import random_split, DataLoader, Subset\n",
    "from sklearn.metrics import d2_absolute_error_score as D2\n",
    "from sklearn.model_selection import KFold\n",
    "import torchmetrics.regression as R\n",
    "\n",
    "# Model\n",
    "from MLP.loss import StiffnessToLoadLoss, construct_k_from_ea\n",
    "from MLP.dataset import TenBarsCantileverTrussSingleEADataset\n",
    "from MLP.models.architecture import MultiLayerPerceptron\n",
    "from MLP.models.processing import StandardScaler\n",
    "\n",
    "# Setup randomness\n",
    "RANDOM_STATE = 42\n",
    "np.random.seed(RANDOM_STATE)\n",
    "device = torch.device(\n",
    "    'cuda' if torch.cuda.is_available()\n",
    "    else 'mps' if torch.backends.mps.is_available()\n",
    "    else 'cpu'\n",
    ")"
   ],
   "id": "f073667fcbebe50c",
   "outputs": [],
   "execution_count": 2
  },
  {
   "metadata": {
    "ExecuteTime": {
     "end_time": "2025-02-22T15:17:51.707657Z",
     "start_time": "2025-02-22T15:17:49.361289Z"
    }
   },
   "cell_type": "code",
   "source": [
    "data_path = \"./data/dataset/cantilever/data.hdf5\"\n",
    "_ds = TenBarsCantileverTrussSingleEADataset(data_path)\n",
    "\n",
    "ds = _ds\n",
    "train_ds, val_ds = random_split(ds, (len(ds) - 25_000, 25_000))\n",
    "\n",
    "in_dim = ds[0][0].__len__()\n",
    "out_dim = ds[0][1].__len__()\n",
    "\n",
    "print(f\"Dataset size: {len(ds)}\")\n",
    "print(f\"  Sample dimension: {in_dim}\")\n",
    "print(f\"  Target dimension: {out_dim}\")\n",
    "print()\n",
    "print(f\"Train dataset size: {len(train_ds)}\")\n",
    "print()\n",
    "print(f\"Validation dataset size: {len(val_ds)}\")"
   ],
   "id": "b7defd6db3180a34",
   "outputs": [
    {
     "name": "stdout",
     "output_type": "stream",
     "text": [
      "Dataset size: 150000\n",
      "  Sample dimension: 31\n",
      "  Target dimension: 1\n",
      "\n",
      "Train dataset size: 125000\n",
      "\n",
      "Validation dataset size: 25000\n"
     ]
    }
   ],
   "execution_count": 3
  },
  {
   "metadata": {
    "ExecuteTime": {
     "end_time": "2025-02-22T15:25:28.414270Z",
     "start_time": "2025-02-22T15:25:28.394448Z"
    }
   },
   "cell_type": "code",
   "source": [
    "test_dataset =  TenBarsCantileverTrussSingleEADataset(\"./data/dataset/real_cantilever_test/data.hdf5\")\n",
    "\n",
    "test_ds = test_dataset\n",
    "\n",
    "reference = test_dataset[len(test_dataset) - 1]"
   ],
   "id": "181cc650d89ada01",
   "outputs": [],
   "execution_count": 6
  },
  {
   "metadata": {
    "jupyter": {
     "is_executing": true
    },
    "ExecuteTime": {
     "start_time": "2025-02-22T15:38:27.301170Z"
    }
   },
   "cell_type": "code",
   "source": [
    "mlflow.set_tracking_uri(uri=\"http://127.0.0.1:5000/\")\n",
    "mlflow.set_experiment(\"MLP_Cantilever_noise_test\")\n",
    "\n",
    "CCC = R.ConcordanceCorrCoef().to(device)\n",
    "R2 = R.R2Score(multioutput='uniform_average').to(device)\n",
    "MAPE = R.MeanAbsolutePercentageError().to(device)\n",
    "MSE = R.MeanSquaredError().to(device)\n",
    "\n",
    "print(\"Starting training\")\n",
    "\n",
    "with mlflow.start_run():\n",
    "    LR = 1e-4\n",
    "    N_NEURONS = 40\n",
    "    N_LAYERS = 3\n",
    "    N_EPOCHS = 2_500\n",
    "    BATCH_SIZE = 2048\n",
    "    ACTIVATION = nn.Tanh\n",
    "    ACTIVATION_PARAMS = {}\n",
    "\n",
    "    device = torch.device(\n",
    "        'cuda' if torch.cuda.is_available()\n",
    "        else 'mps' if torch.backends.mps.is_available()\n",
    "        else 'cpu'\n",
    "    )\n",
    "\n",
    "    model = MultiLayerPerceptron(in_dim, out_dim, N_NEURONS, N_LAYERS, ACTIVATION,\n",
    "                                 ACTIVATION_PARAMS).to(device)\n",
    "\n",
    "    model_parameters = filter(lambda p: p.requires_grad, model.parameters())\n",
    "    n_params = sum(np.prod(p.size()) for p in model_parameters)\n",
    "    mlflow.log_params({\n",
    "        'n_neurons': N_NEURONS, 'n_layers': N_LAYERS, 'lr': LR,\n",
    "        'activation': ACTIVATION.__name__, \"capacity\": n_params, \"n_epochs\": N_EPOCHS,\n",
    "    })\n",
    "\n",
    "    train_dl = DataLoader(train_ds, batch_size=BATCH_SIZE, shuffle=True)\n",
    "    val_dl = DataLoader(val_ds, batch_size=BATCH_SIZE, drop_last=False)\n",
    "    test_dl = DataLoader(test_ds, batch_size=BATCH_SIZE, drop_last=False)\n",
    "\n",
    "    x_scaler = StandardScaler(in_dim).to(device)\n",
    "    y_scaler = StandardScaler(out_dim).to(device)\n",
    "    for x, y, _, _, _ in train_dl:\n",
    "        x_scaler.partial_fit(x.to(device))\n",
    "        y_scaler.partial_fit(y.to(device))\n",
    "\n",
    "    criterion = nn.MSELoss()\n",
    "    optimizer = torch.optim.Adam(model.parameters(), lr=LR)\n",
    "\n",
    "    train_losses = []\n",
    "    val_losses = []\n",
    "    test_losses = []\n",
    "    train_MAPE = []\n",
    "    val_MAPE = []\n",
    "    test_MAPE = []\n",
    "\n",
    "    noise = True\n",
    "    std = 0.0025\n",
    "    normal = Normal(1, std)\n",
    "    for epoch in range(N_EPOCHS):\n",
    "        model.train()\n",
    "        train_loss_epoch = []\n",
    "        train_MAPE_epoch = []\n",
    "\n",
    "        for batch in train_dl:\n",
    "            x, y, _, _, _ = batch\n",
    "            x, y = x.to(device), y.to(device)\n",
    "\n",
    "            if noise:\n",
    "                e = normal.sample(sample_shape=x.shape).to(device)\n",
    "                x *= e\n",
    "            #noise = not noise\n",
    "\n",
    "            x = x_scaler.transform(x)\n",
    "            y = y_scaler.transform(y)\n",
    "\n",
    "            optimizer.zero_grad()\n",
    "            y_pred = model(x)\n",
    "            loss = criterion(y, y_pred)\n",
    "            loss.backward()\n",
    "            optimizer.step()\n",
    "\n",
    "            y_unscaled = y_scaler.inverse_transform(y).cpu().detach()\n",
    "            y_pred_unscaled = y_scaler.inverse_transform(y_pred).cpu().detach()\n",
    "\n",
    "            train_loss_epoch.append(loss.item())\n",
    "            train_MAPE_epoch.append(MAPE(y_pred_unscaled, y_unscaled).item())\n",
    "\n",
    "        model.eval()\n",
    "        val_loss_epoch = []\n",
    "        val_MAPE_epoch = []\n",
    "        for batch in val_dl:\n",
    "            x, y, _, _, _ = batch\n",
    "            x, y = x.to(device), y.to(device)\n",
    "\n",
    "            x = x_scaler.transform(x)\n",
    "            y = y_scaler.transform(y)\n",
    "\n",
    "            y_pred = model(x)\n",
    "            loss = criterion(y_pred, y)\n",
    "\n",
    "            y_unscaled = y_scaler.inverse_transform(y).cpu().detach()\n",
    "            y_pred_unscaled = y_scaler.inverse_transform(y_pred).cpu().detach()\n",
    "\n",
    "            val_loss_epoch.append(loss.item())\n",
    "            val_MAPE_epoch.append(MAPE(y_pred_unscaled, y_unscaled).item())\n",
    "\n",
    "        model.eval()\n",
    "        test_loss_epoch = []\n",
    "        test_MSE_epoch = []\n",
    "        test_MAPE_epoch = []\n",
    "        for batch in test_dl:\n",
    "            x, y, _, _, _ = batch\n",
    "            x, y = x.to(device), y.to(device)\n",
    "\n",
    "            x = x_scaler.transform(x)\n",
    "            y = y_scaler.transform(y)\n",
    "\n",
    "            y_pred = model(x)\n",
    "            loss = criterion(y_pred, y)\n",
    "\n",
    "            y_unscaled = y_scaler.inverse_transform(y).cpu().detach()\n",
    "            y_pred_unscaled = y_scaler.inverse_transform(y_pred).cpu().detach()\n",
    "\n",
    "            test_loss_epoch.append(loss.item())\n",
    "            test_MAPE_epoch.append(MAPE(y_pred_unscaled, y_unscaled).item())\n",
    "\n",
    "        mean_train_loss = np.mean(train_loss_epoch)\n",
    "        mean_train_MAPE = np.mean(train_MAPE_epoch)\n",
    "\n",
    "        mean_val_loss = np.mean(val_loss_epoch)\n",
    "        mean_val_MAPE = np.mean(val_MAPE_epoch)\n",
    "\n",
    "        mean_test_loss = np.mean(test_loss_epoch)\n",
    "        mean_test_MAPE = np.mean(test_MAPE_epoch)\n",
    "\n",
    "        # Logging\n",
    "        mlflow.log_metrics({\n",
    "            \"train_loss\": mean_train_loss,\n",
    "            \"train_mape\": mean_train_MAPE,\n",
    "\n",
    "            \"val_loss\": mean_val_loss,\n",
    "            \"val_mape\": mean_val_MAPE,\n",
    "\n",
    "            \"test_loss\": mean_test_loss,\n",
    "            \"test_mape\": mean_test_MAPE\n",
    "        }, step=epoch)\n",
    "\n",
    "\n",
    "        if (epoch + 1) % 100 == 0:\n",
    "            print(f\"[Epoch] {epoch + 1:{len(str(N_EPOCHS))}d}/{N_EPOCHS:d}\", end='  ')\n",
    "            print(f\"TRAIN\", end='   ')\n",
    "            print(f\"Loss: {mean_train_loss:1.4f}\", end='   ')\n",
    "            print(f\"MAPE: {mean_train_MAPE:1.4f}\", end='   ')\n",
    "            print(\" ## \", end='')\n",
    "            print(f\"VALIDATION\", end='   ')\n",
    "            print(f\"Loss: {mean_val_loss:1.4f}\", end='   ')\n",
    "            print(f\"MAPE: {mean_val_MAPE:1.4f}\", end='   ')\n",
    "\n",
    "    signature = mlflow.models.infer_signature(x.cpu().detach().numpy(), model(x).cpu().detach().numpy())\n",
    "\n",
    "    # Log all models\n",
    "    mlflow.pytorch.log_model(\n",
    "        pytorch_model=model,\n",
    "        input_example=x.cpu().detach().numpy(),\n",
    "        artifact_path='model',\n",
    "        signature=signature,\n",
    "    )\n",
    "\n",
    "    signature = mlflow.models.infer_signature(x.cpu().detach().numpy(), x_scaler.transform(x).cpu().detach().numpy())\n",
    "    mlflow.pytorch.log_model(\n",
    "        pytorch_model=x_scaler,\n",
    "        artifact_path='x_scaler',\n",
    "        signature=signature,\n",
    "    )\n",
    "\n",
    "    signature = mlflow.models.infer_signature(y_pred.cpu().detach().numpy(),\n",
    "                                              y_scaler.transform(y_pred).cpu().detach().numpy())\n",
    "    mlflow.pytorch.log_model(\n",
    "        pytorch_model=y_scaler,\n",
    "        artifact_path='y_scaler',\n",
    "        signature=signature,\n",
    "    )"
   ],
   "id": "4844ba1bf8bede59",
   "outputs": [
    {
     "name": "stdout",
     "output_type": "stream",
     "text": [
      "Starting training\n"
     ]
    }
   ],
   "execution_count": null
  },
  {
   "metadata": {},
   "cell_type": "markdown",
   "source": [
    "# 5. Prediction on real data\n",
    "We will use as *real* data, data with shared multiplicative noise:\n",
    "$$\\varepsilon \\sim \\mathcal N \\left( \\mu = 1, \\sigma = 0.0025 \\right)$$\n",
    "\n",
    "Such that $\\hat x = x * \\varepsilon$ has 95% chance of being within +- 0.5% of the true value. Which is the same order of magnitude observed with HBM sensors.\n",
    "\n",
    "This noise will be applied to a set of data from which a subset will be extracted for fine-tuning. The noised features are:\n",
    "- Displacement\n",
    "- Bar strain\n",
    "- Bars forces"
   ],
   "id": "3d54db98c5c73fbe"
  },
  {
   "metadata": {},
   "cell_type": "raw",
   "source": [
    "from MLP.dataset.generator import TenBarsCantileverTrussGenerator\n",
    "from MLP.dataset import TenBarsCantileverTrussDataset\n",
    "\n",
    "g = TenBarsCantileverTrussGenerator(\"data/config/cantilever_concrete.yaml\")\n",
    "\n",
    "default_config = g.default_config\n",
    "\n",
    "default_config['__area__'] = {'distribution': 'constant', 'value': 0.01}\n",
    "default_config['__young__'] = {'distribution': 'constant', 'value': 30.0e9}\n",
    "default_config['length'] = {'distribution': 'constant', 'value': 5.}\n",
    "default_config['height'] = {'distribution': 'constant', 'value': 5.}\n",
    "default_config['P_y_4']['shared_with'] = 'load'\n",
    "default_config['P_y_5']['shared_with'] = 'load'\n",
    "default_config['load'] = {'distribution': 'constant', 'value': 100.0e3}\n",
    "\n",
    "configs = []\n",
    "for q in np.arange(0, 751.e3, 1.e3):\n",
    "    config = default_config.copy()\n",
    "    config['load'] = {'distribution': 'constant', 'value': q}\n",
    "    configs.append(config)\n",
    "\n",
    "results = []\n",
    "for config in configs:\n",
    "    results.append(g.__iter__(config, 1).__next__())"
   ],
   "id": "c6cea77e1184e7d1"
  },
  {
   "metadata": {},
   "cell_type": "raw",
   "source": [
    "# Adding noise\n",
    "for result in results:\n",
    "    e = np.random.normal(1, 0.0025, size=result[\"nodes_displacement\"].shape)\n",
    "    result[\"nodes_displacement\"] *= e\n",
    "\n",
    "    e = np.random.normal(1, 0.0025, size=result[\"bars_elongation\"].shape)\n",
    "    result[\"bars_elongation\"] *= e\n",
    "    result[\"bars_strain\"] = result[\"bars_elongation\"]/result[\"bars_length_init\"]\n",
    "\n",
    "    e = np.random.normal(1, 0.0025, size=result[\"bars_force\"].shape)\n",
    "    result[\"bars_force\"] *= e"
   ],
   "id": "24d8bdb6a1be5a9e"
  },
  {
   "metadata": {},
   "cell_type": "raw",
   "source": "g.save_from_iterator(results, directory=\"./data/dataset/real_cantilever\", max_size=len(results))",
   "id": "f6653dc2e4f408ef"
  },
  {
   "metadata": {},
   "cell_type": "markdown",
   "source": [
    "The fine-tuning will be done on a dataset comprised of noised data from a single test to \"capture\" experiment \"noise\".\n",
    "\n",
    "We will then test it on a different structure with similar loss distribution."
   ],
   "id": "302739202c8aa67f"
  },
  {
   "metadata": {
    "ExecuteTime": {
     "end_time": "2025-02-22T14:06:39.721388Z",
     "start_time": "2025-02-22T14:06:39.692084Z"
    }
   },
   "cell_type": "code",
   "source": [
    "fine_tuning_dataset = TenBarsCantileverTrussSingleEADataset(\"./data/dataset/real_cantilever_train/data.hdf5\")\n",
    "test_dataset =  TenBarsCantileverTrussSingleEADataset(\"./data/dataset/real_cantilever_test/data.hdf5\")\n",
    "\n",
    "train_ds = Subset(fine_tuning_dataset, np.arange(0,len(fine_tuning_dataset), 5))\n",
    "test_ds = test_dataset\n",
    "\n",
    "reference = test_dataset[len(test_dataset) - 1]"
   ],
   "id": "4b657618f2bfa102",
   "outputs": [],
   "execution_count": 51
  },
  {
   "metadata": {
    "ExecuteTime": {
     "end_time": "2025-02-22T14:02:36.770012Z",
     "start_time": "2025-02-22T14:02:36.758577Z"
    }
   },
   "cell_type": "code",
   "source": [
    "CCC = R.ConcordanceCorrCoef().to(device)\n",
    "R2 = R.R2Score(multioutput='uniform_average').to(device)\n",
    "MAPE = R.MeanAbsolutePercentageError().to(device)\n",
    "MSE = R.MeanSquaredError().to(device)"
   ],
   "id": "7d121ff6d2a4adeb",
   "outputs": [],
   "execution_count": 48
  },
  {
   "metadata": {},
   "cell_type": "markdown",
   "source": [
    "## a. Non fine-tuned prediction\n",
    "Scores using the foundation model for prediction"
   ],
   "id": "29dadd240cc35cd7"
  },
  {
   "metadata": {
    "ExecuteTime": {
     "end_time": "2025-02-22T13:47:25.641293Z",
     "start_time": "2025-02-22T13:47:25.638610Z"
    }
   },
   "cell_type": "code",
   "source": [
    "class Model(nn.Module):\n",
    "    def __init__(self, x_scaler, model, y_scaler):\n",
    "        super().__init__()\n",
    "        self.x_scaler = x_scaler\n",
    "        self.model = model\n",
    "        self.y_scaler = y_scaler\n",
    "\n",
    "    def forward(self, x):\n",
    "        x = self.x_scaler.transform(x)\n",
    "        x = self.model(x)\n",
    "        x = self.y_scaler.inverse_transform(x)\n",
    "        return x"
   ],
   "id": "13cc509e3b8eb707",
   "outputs": [],
   "execution_count": 10
  },
  {
   "metadata": {
    "ExecuteTime": {
     "end_time": "2025-02-22T13:47:26.245317Z",
     "start_time": "2025-02-22T13:47:25.985089Z"
    }
   },
   "cell_type": "code",
   "source": [
    "mlflow.set_tracking_uri(uri=\"http://127.0.0.1:5000/\")\n",
    "\n",
    "# Load the model\n",
    "artifact_dir = 'runs:/32ba2bcaf225416e82c55ae552dbb628'\n",
    "\n",
    "model = Model(mlflow.pytorch.load_model(f\"{artifact_dir}/x_scaler\"),\n",
    "              mlflow.pytorch.load_model(f\"{artifact_dir}/model\"),\n",
    "              mlflow.pytorch.load_model(f\"{artifact_dir}/y_scaler\"))"
   ],
   "id": "5d4bf08b6103e02e",
   "outputs": [
    {
     "data": {
      "text/plain": [
       "Downloading artifacts:   0%|          | 0/6 [00:00<?, ?it/s]"
      ],
      "application/vnd.jupyter.widget-view+json": {
       "version_major": 2,
       "version_minor": 0,
       "model_id": "5152651044a542009f09afd1498d614a"
      }
     },
     "metadata": {},
     "output_type": "display_data"
    },
    {
     "data": {
      "text/plain": [
       "Downloading artifacts:   0%|          | 0/8 [00:00<?, ?it/s]"
      ],
      "application/vnd.jupyter.widget-view+json": {
       "version_major": 2,
       "version_minor": 0,
       "model_id": "f0ab84be97234e7493577dacaa55b1e7"
      }
     },
     "metadata": {},
     "output_type": "display_data"
    },
    {
     "data": {
      "text/plain": [
       "Downloading artifacts:   0%|          | 0/6 [00:00<?, ?it/s]"
      ],
      "application/vnd.jupyter.widget-view+json": {
       "version_major": 2,
       "version_minor": 0,
       "model_id": "e36ec18a410f4065866eed88461f3fc3"
      }
     },
     "metadata": {},
     "output_type": "display_data"
    }
   ],
   "execution_count": 11
  },
  {
   "metadata": {
    "ExecuteTime": {
     "end_time": "2025-02-22T13:47:27.831177Z",
     "start_time": "2025-02-22T13:47:27.795091Z"
    }
   },
   "cell_type": "code",
   "source": "y_pred_init = model(reference[0].to(device))",
   "id": "346e8a0229fe5f99",
   "outputs": [],
   "execution_count": 12
  },
  {
   "metadata": {
    "ExecuteTime": {
     "end_time": "2025-02-22T13:47:31.809731Z",
     "start_time": "2025-02-22T13:47:31.788972Z"
    }
   },
   "cell_type": "code",
   "source": "error_init = MAPE(y_pred_init.reshape(1).to(device), reference[1].to(device))",
   "id": "9fff6093a813f2d4",
   "outputs": [],
   "execution_count": 13
  },
  {
   "metadata": {
    "ExecuteTime": {
     "end_time": "2025-02-22T13:47:38.227721Z",
     "start_time": "2025-02-22T13:47:38.217988Z"
    }
   },
   "cell_type": "code",
   "source": [
    "print(f\"Prediction: {y_pred_init.item() * 1e-6:.3f} MN\")\n",
    "print(f\"Expected: {reference[1].to(device).item() * 1e-6:.3f} MN\")\n",
    "print(f\"MAPE: {error_init * 100:.3f}%\")"
   ],
   "id": "ae071410eb067122",
   "outputs": [
    {
     "name": "stdout",
     "output_type": "stream",
     "text": [
      "Prediction: 2053.750 MN\n",
      "Expected: 420.000 MN\n",
      "MAPE: 388.988%\n"
     ]
    }
   ],
   "execution_count": 15
  },
  {
   "metadata": {},
   "cell_type": "markdown",
   "source": [
    "## b. Fine-tuned model\n",
    "We will finetune the foundation model using the subset of real data as input\n"
   ],
   "id": "5dd04240f84aaa01"
  },
  {
   "metadata": {},
   "cell_type": "markdown",
   "source": [
    "### I. Experiment on the size of fine-tuning set\n",
    "These experiments will help us define how many real example are needed for *sufficient* fine-tuning."
   ],
   "id": "a5058d47065dfffa"
  },
  {
   "metadata": {},
   "cell_type": "markdown",
   "source": "##### Without PINN",
   "id": "2ad2ad24581a628f"
  },
  {
   "metadata": {
    "ExecuteTime": {
     "end_time": "2025-02-22T14:02:20.878882Z",
     "start_time": "2025-02-22T14:02:20.866978Z"
    }
   },
   "cell_type": "code",
   "source": [
    "def finetune_no_pinn(train_ds, test_ds, reference, train_size, n_epoch=100, verbose=False):\n",
    "    artifact_dir = 'runs:/32ba2bcaf225416e82c55ae552dbb628'\n",
    "    x_scaler = mlflow.pytorch.load_model(f\"{artifact_dir}/x_scaler\")\n",
    "    model = mlflow.pytorch.load_model(f\"{artifact_dir}/model\")\n",
    "    y_scaler = mlflow.pytorch.load_model(f\"{artifact_dir}/y_scaler\")\n",
    "\n",
    "    MAPE = R.MeanAbsolutePercentageError().to(device)\n",
    "\n",
    "    with mlflow.start_run():\n",
    "        LR = 1e-4\n",
    "        N_NEURONS = 40\n",
    "        N_LAYERS = 3\n",
    "        N_EPOCHS = n_epoch\n",
    "        BATCH_SIZE = min(8, train_size)\n",
    "        ACTIVATION = nn.Tanh\n",
    "\n",
    "        model_parameters = filter(lambda p: p.requires_grad, model.parameters())\n",
    "        n_params = sum(np.prod(p.size()) for p in model_parameters)\n",
    "        mlflow.log_params({\n",
    "            'n_neurons': N_NEURONS, 'n_layers': N_LAYERS, 'lr': LR,\n",
    "            'activation': ACTIVATION.__name__, \"capacity\": n_params, \"n_epochs\": N_EPOCHS,\n",
    "            'FEI': False, 'train_size': train_size\n",
    "        })\n",
    "\n",
    "        train_dl = DataLoader(train_ds, batch_size=BATCH_SIZE, shuffle=True, drop_last=False)\n",
    "        val_dl = DataLoader(test_ds, batch_size=len(test_ds), shuffle=True, )\n",
    "\n",
    "        criterion = nn.MSELoss()\n",
    "        optimizer = torch.optim.Adam(model.parameters(), lr=LR)\n",
    "\n",
    "        train_losses = []\n",
    "        val_losses = []\n",
    "        train_MAPE = []\n",
    "        val_MAPE = []\n",
    "        for epoch in range(N_EPOCHS):\n",
    "            model.train()\n",
    "            train_loss_epoch = []\n",
    "            train_MAPE_epoch = []\n",
    "\n",
    "            for batch in train_dl:\n",
    "                x, y, _, _, _ = batch\n",
    "                x, y = x.to(device), y.to(device)\n",
    "\n",
    "                x = x_scaler.transform(x)\n",
    "                y = y_scaler.transform(y)\n",
    "\n",
    "                optimizer.zero_grad()\n",
    "                y_pred = model(x)\n",
    "                loss = criterion(y, y_pred)\n",
    "                loss.backward()\n",
    "                optimizer.step()\n",
    "\n",
    "                y_unscaled = y_scaler.inverse_transform(y).cpu().detach()\n",
    "                y_pred_unscaled = y_scaler.inverse_transform(y_pred).cpu().detach()\n",
    "\n",
    "                train_loss_epoch.append(loss.item())\n",
    "                train_MAPE_epoch.append(MAPE(y_pred_unscaled, y_unscaled).item())\n",
    "\n",
    "            model.eval()\n",
    "            val_loss_epoch = []\n",
    "            val_MAPE_epoch = []\n",
    "            for batch in val_dl:\n",
    "                x, y, _, _, _ = batch\n",
    "                x, y = x.to(device), y.to(device)\n",
    "\n",
    "                x = x_scaler.transform(x)\n",
    "                y = y_scaler.transform(y)\n",
    "\n",
    "                y_pred = model(x)\n",
    "                loss = criterion(y_pred, y)\n",
    "\n",
    "                y_unscaled = y_scaler.inverse_transform(y).cpu().detach()\n",
    "                y_pred_unscaled = y_scaler.inverse_transform(y_pred).cpu().detach()\n",
    "\n",
    "                val_loss_epoch.append(loss.item())\n",
    "                val_MAPE_epoch.append(MAPE(y_pred_unscaled, y_unscaled).item())\n",
    "\n",
    "            mean_train_loss = np.mean(train_loss_epoch)\n",
    "            mean_train_MAPE = np.mean(train_MAPE_epoch)\n",
    "\n",
    "            mean_val_loss = np.mean(val_loss_epoch)\n",
    "            mean_val_MAPE = np.mean(val_MAPE_epoch)\n",
    "\n",
    "            # Reference structure score\n",
    "            x, y, _, _, _ = reference\n",
    "            x = x_scaler.transform(x.to(device))\n",
    "            y_pred = model(x)\n",
    "            y_pred = y_scaler.inverse_transform(y_pred)\n",
    "\n",
    "            reference_MAPE = MAPE(y_pred, y.to(device))\n",
    "\n",
    "            # Logging\n",
    "            mlflow.log_metrics({\n",
    "                \"train_loss\": mean_train_loss,\n",
    "                \"train_mape\": mean_train_MAPE,\n",
    "\n",
    "                \"val_loss\": mean_val_loss,\n",
    "                \"val_mape\": mean_val_MAPE,\n",
    "\n",
    "                \"reference_MAPE\": reference_MAPE,\n",
    "            }, step=epoch + 1)\n",
    "\n",
    "            train_losses.append(mean_train_loss)\n",
    "            val_losses.append(mean_val_loss)\n",
    "            train_MAPE.append(mean_train_MAPE)\n",
    "            val_MAPE.append(mean_val_MAPE)\n",
    "\n",
    "            if (epoch + 1) % 100 == 0 and verbose:\n",
    "                print(f\"[Epoch] {epoch + 1:{len(str(N_EPOCHS))}d}/{N_EPOCHS:d}\", end='  ')\n",
    "                print(f\"TRAIN\", end='   ')\n",
    "                print(f\"Loss: {mean_train_loss:1.4f}\", end='   ')\n",
    "                print(f\"MAPE: {mean_train_MAPE:1.4f}\", end='   ')\n",
    "                print(\" ## \", end='')\n",
    "                print(f\"VALIDATION\", end='   ')\n",
    "                print(f\"Loss: {mean_val_loss:1.4f}\", end='   ')\n",
    "                print(f\"MAPE: {mean_val_MAPE:1.4f}\", end='   ')"
   ],
   "id": "fde930edda682760",
   "outputs": [],
   "execution_count": 45
  },
  {
   "metadata": {
    "ExecuteTime": {
     "end_time": "2025-02-22T14:08:07.116630Z",
     "start_time": "2025-02-22T14:06:52.295603Z"
    }
   },
   "cell_type": "code",
   "source": [
    "import logging\n",
    "mlflow.set_tracking_uri(uri=\"http://127.0.0.1:5000/\")\n",
    "mlflow.set_experiment(\"MLP_Cantilever_finetuning_2\")\n",
    "\n",
    "logging.getLogger(\"mlflow\").setLevel(logging.WARNING)\n",
    "\n",
    "print(\"Start\")\n",
    "\n",
    "for i in range(5, len(train_ds), 10):\n",
    "    idx = np.linspace(0, len(train_ds) - 1, i + 1, dtype=int)\n",
    "    finetune_no_pinn(Subset(train_ds, idx), test_ds, reference, i + 1, n_epoch=100, verbose=False)"
   ],
   "id": "88b5ecd5e1864468",
   "outputs": [
    {
     "name": "stdout",
     "output_type": "stream",
     "text": [
      "Start\n"
     ]
    },
    {
     "data": {
      "text/plain": [
       "Downloading artifacts:   0%|          | 0/6 [00:00<?, ?it/s]"
      ],
      "application/vnd.jupyter.widget-view+json": {
       "version_major": 2,
       "version_minor": 0,
       "model_id": "1f6d8b3aa4a64a55b3d9edb068045fae"
      }
     },
     "metadata": {},
     "output_type": "display_data"
    },
    {
     "data": {
      "text/plain": [
       "Downloading artifacts:   0%|          | 0/8 [00:00<?, ?it/s]"
      ],
      "application/vnd.jupyter.widget-view+json": {
       "version_major": 2,
       "version_minor": 0,
       "model_id": "f0bffd9643d94683ace078ba78e6f047"
      }
     },
     "metadata": {},
     "output_type": "display_data"
    },
    {
     "data": {
      "text/plain": [
       "Downloading artifacts:   0%|          | 0/6 [00:00<?, ?it/s]"
      ],
      "application/vnd.jupyter.widget-view+json": {
       "version_major": 2,
       "version_minor": 0,
       "model_id": "464f98e72f094e80a65a45bf7c3fdfc2"
      }
     },
     "metadata": {},
     "output_type": "display_data"
    },
    {
     "name": "stdout",
     "output_type": "stream",
     "text": [
      "🏃 View run chill-rook-883 at: http://127.0.0.1:5000/#/experiments/792915948073873252/runs/f5074c84573c40cf8152840695ec5d36\n",
      "🧪 View experiment at: http://127.0.0.1:5000/#/experiments/792915948073873252\n"
     ]
    },
    {
     "data": {
      "text/plain": [
       "Downloading artifacts:   0%|          | 0/6 [00:00<?, ?it/s]"
      ],
      "application/vnd.jupyter.widget-view+json": {
       "version_major": 2,
       "version_minor": 0,
       "model_id": "b7a297d319fd42cfa2294776d0ac5b52"
      }
     },
     "metadata": {},
     "output_type": "display_data"
    },
    {
     "data": {
      "text/plain": [
       "Downloading artifacts:   0%|          | 0/8 [00:00<?, ?it/s]"
      ],
      "application/vnd.jupyter.widget-view+json": {
       "version_major": 2,
       "version_minor": 0,
       "model_id": "c7436754f4c94d37b2db2e7e60deb1ea"
      }
     },
     "metadata": {},
     "output_type": "display_data"
    },
    {
     "data": {
      "text/plain": [
       "Downloading artifacts:   0%|          | 0/6 [00:00<?, ?it/s]"
      ],
      "application/vnd.jupyter.widget-view+json": {
       "version_major": 2,
       "version_minor": 0,
       "model_id": "d9523fa797964a7db6a53328aa3ed024"
      }
     },
     "metadata": {},
     "output_type": "display_data"
    },
    {
     "name": "stdout",
     "output_type": "stream",
     "text": [
      "🏃 View run zealous-snipe-211 at: http://127.0.0.1:5000/#/experiments/792915948073873252/runs/cb51518c42974ed48a7b54e4133aee69\n",
      "🧪 View experiment at: http://127.0.0.1:5000/#/experiments/792915948073873252\n"
     ]
    },
    {
     "data": {
      "text/plain": [
       "Downloading artifacts:   0%|          | 0/6 [00:00<?, ?it/s]"
      ],
      "application/vnd.jupyter.widget-view+json": {
       "version_major": 2,
       "version_minor": 0,
       "model_id": "21f160f7495d4810ab3fc1182e9359d4"
      }
     },
     "metadata": {},
     "output_type": "display_data"
    },
    {
     "data": {
      "text/plain": [
       "Downloading artifacts:   0%|          | 0/8 [00:00<?, ?it/s]"
      ],
      "application/vnd.jupyter.widget-view+json": {
       "version_major": 2,
       "version_minor": 0,
       "model_id": "abaacac51d3a4410a975a24a3ca0cdff"
      }
     },
     "metadata": {},
     "output_type": "display_data"
    },
    {
     "data": {
      "text/plain": [
       "Downloading artifacts:   0%|          | 0/6 [00:00<?, ?it/s]"
      ],
      "application/vnd.jupyter.widget-view+json": {
       "version_major": 2,
       "version_minor": 0,
       "model_id": "dd108a7537d84f9bbc67fb0a94055e25"
      }
     },
     "metadata": {},
     "output_type": "display_data"
    },
    {
     "name": "stdout",
     "output_type": "stream",
     "text": [
      "🏃 View run monumental-moose-759 at: http://127.0.0.1:5000/#/experiments/792915948073873252/runs/29c30e4e72c7406b8dc05f607d3e1643\n",
      "🧪 View experiment at: http://127.0.0.1:5000/#/experiments/792915948073873252\n"
     ]
    },
    {
     "data": {
      "text/plain": [
       "Downloading artifacts:   0%|          | 0/6 [00:00<?, ?it/s]"
      ],
      "application/vnd.jupyter.widget-view+json": {
       "version_major": 2,
       "version_minor": 0,
       "model_id": "52388f52da1846bb82172606e54b50f7"
      }
     },
     "metadata": {},
     "output_type": "display_data"
    },
    {
     "data": {
      "text/plain": [
       "Downloading artifacts:   0%|          | 0/8 [00:00<?, ?it/s]"
      ],
      "application/vnd.jupyter.widget-view+json": {
       "version_major": 2,
       "version_minor": 0,
       "model_id": "10eacf2697c1482da8e134ed8c2afb5a"
      }
     },
     "metadata": {},
     "output_type": "display_data"
    },
    {
     "data": {
      "text/plain": [
       "Downloading artifacts:   0%|          | 0/6 [00:00<?, ?it/s]"
      ],
      "application/vnd.jupyter.widget-view+json": {
       "version_major": 2,
       "version_minor": 0,
       "model_id": "c02b06c7753f4ef281573280096515e0"
      }
     },
     "metadata": {},
     "output_type": "display_data"
    },
    {
     "name": "stdout",
     "output_type": "stream",
     "text": [
      "🏃 View run debonair-frog-566 at: http://127.0.0.1:5000/#/experiments/792915948073873252/runs/7f1bb110c35f46d980c47b3b66ba0cfe\n",
      "🧪 View experiment at: http://127.0.0.1:5000/#/experiments/792915948073873252\n"
     ]
    },
    {
     "data": {
      "text/plain": [
       "Downloading artifacts:   0%|          | 0/6 [00:00<?, ?it/s]"
      ],
      "application/vnd.jupyter.widget-view+json": {
       "version_major": 2,
       "version_minor": 0,
       "model_id": "c4b5f3b5b5274157802c480b7d6c06d5"
      }
     },
     "metadata": {},
     "output_type": "display_data"
    },
    {
     "data": {
      "text/plain": [
       "Downloading artifacts:   0%|          | 0/8 [00:00<?, ?it/s]"
      ],
      "application/vnd.jupyter.widget-view+json": {
       "version_major": 2,
       "version_minor": 0,
       "model_id": "53e7ee9260864f80bf49361a8607b877"
      }
     },
     "metadata": {},
     "output_type": "display_data"
    },
    {
     "data": {
      "text/plain": [
       "Downloading artifacts:   0%|          | 0/6 [00:00<?, ?it/s]"
      ],
      "application/vnd.jupyter.widget-view+json": {
       "version_major": 2,
       "version_minor": 0,
       "model_id": "fbb49535fadc40db89770c5bea3f70a1"
      }
     },
     "metadata": {},
     "output_type": "display_data"
    },
    {
     "name": "stdout",
     "output_type": "stream",
     "text": [
      "🏃 View run nervous-auk-821 at: http://127.0.0.1:5000/#/experiments/792915948073873252/runs/605999669d9248d99c79c958288e5375\n",
      "🧪 View experiment at: http://127.0.0.1:5000/#/experiments/792915948073873252\n"
     ]
    },
    {
     "data": {
      "text/plain": [
       "Downloading artifacts:   0%|          | 0/6 [00:00<?, ?it/s]"
      ],
      "application/vnd.jupyter.widget-view+json": {
       "version_major": 2,
       "version_minor": 0,
       "model_id": "1d7aad9fb40a4ee6b31b9f9c91594b02"
      }
     },
     "metadata": {},
     "output_type": "display_data"
    },
    {
     "data": {
      "text/plain": [
       "Downloading artifacts:   0%|          | 0/8 [00:00<?, ?it/s]"
      ],
      "application/vnd.jupyter.widget-view+json": {
       "version_major": 2,
       "version_minor": 0,
       "model_id": "c048bbf6286d41199a737a48ef58f319"
      }
     },
     "metadata": {},
     "output_type": "display_data"
    },
    {
     "data": {
      "text/plain": [
       "Downloading artifacts:   0%|          | 0/6 [00:00<?, ?it/s]"
      ],
      "application/vnd.jupyter.widget-view+json": {
       "version_major": 2,
       "version_minor": 0,
       "model_id": "e8280558fd5b44b2a116dd9dd09c9a6c"
      }
     },
     "metadata": {},
     "output_type": "display_data"
    },
    {
     "name": "stdout",
     "output_type": "stream",
     "text": [
      "🏃 View run gifted-shark-33 at: http://127.0.0.1:5000/#/experiments/792915948073873252/runs/d0a73867cc4b4a2bb28418fe878c61aa\n",
      "🧪 View experiment at: http://127.0.0.1:5000/#/experiments/792915948073873252\n"
     ]
    },
    {
     "data": {
      "text/plain": [
       "Downloading artifacts:   0%|          | 0/6 [00:00<?, ?it/s]"
      ],
      "application/vnd.jupyter.widget-view+json": {
       "version_major": 2,
       "version_minor": 0,
       "model_id": "a8443dc9df4b4827867d794624f21767"
      }
     },
     "metadata": {},
     "output_type": "display_data"
    },
    {
     "data": {
      "text/plain": [
       "Downloading artifacts:   0%|          | 0/8 [00:00<?, ?it/s]"
      ],
      "application/vnd.jupyter.widget-view+json": {
       "version_major": 2,
       "version_minor": 0,
       "model_id": "60cdda09e45e4e3ebce3278322f223f6"
      }
     },
     "metadata": {},
     "output_type": "display_data"
    },
    {
     "data": {
      "text/plain": [
       "Downloading artifacts:   0%|          | 0/6 [00:00<?, ?it/s]"
      ],
      "application/vnd.jupyter.widget-view+json": {
       "version_major": 2,
       "version_minor": 0,
       "model_id": "1d7c0c86d73b4f8880251d44ee1499ac"
      }
     },
     "metadata": {},
     "output_type": "display_data"
    },
    {
     "name": "stdout",
     "output_type": "stream",
     "text": [
      "🏃 View run caring-pug-58 at: http://127.0.0.1:5000/#/experiments/792915948073873252/runs/55e39b9012484551bceec80269d98822\n",
      "🧪 View experiment at: http://127.0.0.1:5000/#/experiments/792915948073873252\n"
     ]
    },
    {
     "data": {
      "text/plain": [
       "Downloading artifacts:   0%|          | 0/6 [00:00<?, ?it/s]"
      ],
      "application/vnd.jupyter.widget-view+json": {
       "version_major": 2,
       "version_minor": 0,
       "model_id": "17b33759059848aab09a8abc77db5d85"
      }
     },
     "metadata": {},
     "output_type": "display_data"
    },
    {
     "data": {
      "text/plain": [
       "Downloading artifacts:   0%|          | 0/8 [00:00<?, ?it/s]"
      ],
      "application/vnd.jupyter.widget-view+json": {
       "version_major": 2,
       "version_minor": 0,
       "model_id": "d1a2c845407d40e89bc38b2ef3084536"
      }
     },
     "metadata": {},
     "output_type": "display_data"
    },
    {
     "data": {
      "text/plain": [
       "Downloading artifacts:   0%|          | 0/6 [00:00<?, ?it/s]"
      ],
      "application/vnd.jupyter.widget-view+json": {
       "version_major": 2,
       "version_minor": 0,
       "model_id": "07368c857534485f872695e19d30fd22"
      }
     },
     "metadata": {},
     "output_type": "display_data"
    },
    {
     "name": "stdout",
     "output_type": "stream",
     "text": [
      "🏃 View run enchanting-hawk-441 at: http://127.0.0.1:5000/#/experiments/792915948073873252/runs/fe63d01a4e2842d49097d212ee7d2787\n",
      "🧪 View experiment at: http://127.0.0.1:5000/#/experiments/792915948073873252\n"
     ]
    },
    {
     "data": {
      "text/plain": [
       "Downloading artifacts:   0%|          | 0/6 [00:00<?, ?it/s]"
      ],
      "application/vnd.jupyter.widget-view+json": {
       "version_major": 2,
       "version_minor": 0,
       "model_id": "d341a0ccd3c54b60ba7d7cf739f1d03c"
      }
     },
     "metadata": {},
     "output_type": "display_data"
    },
    {
     "data": {
      "text/plain": [
       "Downloading artifacts:   0%|          | 0/8 [00:00<?, ?it/s]"
      ],
      "application/vnd.jupyter.widget-view+json": {
       "version_major": 2,
       "version_minor": 0,
       "model_id": "8757f18aaeed45f7b8c3804cca329759"
      }
     },
     "metadata": {},
     "output_type": "display_data"
    },
    {
     "data": {
      "text/plain": [
       "Downloading artifacts:   0%|          | 0/6 [00:00<?, ?it/s]"
      ],
      "application/vnd.jupyter.widget-view+json": {
       "version_major": 2,
       "version_minor": 0,
       "model_id": "42bedcdc51ba4d8fb70637f92d0630f0"
      }
     },
     "metadata": {},
     "output_type": "display_data"
    },
    {
     "name": "stdout",
     "output_type": "stream",
     "text": [
      "🏃 View run agreeable-dog-711 at: http://127.0.0.1:5000/#/experiments/792915948073873252/runs/c8876acfeeb046a1903a9cff493a85e5\n",
      "🧪 View experiment at: http://127.0.0.1:5000/#/experiments/792915948073873252\n"
     ]
    },
    {
     "data": {
      "text/plain": [
       "Downloading artifacts:   0%|          | 0/6 [00:00<?, ?it/s]"
      ],
      "application/vnd.jupyter.widget-view+json": {
       "version_major": 2,
       "version_minor": 0,
       "model_id": "119006f33095448ebda7333d7c8379eb"
      }
     },
     "metadata": {},
     "output_type": "display_data"
    },
    {
     "data": {
      "text/plain": [
       "Downloading artifacts:   0%|          | 0/8 [00:00<?, ?it/s]"
      ],
      "application/vnd.jupyter.widget-view+json": {
       "version_major": 2,
       "version_minor": 0,
       "model_id": "e5a1f94161b449ffb78250b28acfaa90"
      }
     },
     "metadata": {},
     "output_type": "display_data"
    },
    {
     "data": {
      "text/plain": [
       "Downloading artifacts:   0%|          | 0/6 [00:00<?, ?it/s]"
      ],
      "application/vnd.jupyter.widget-view+json": {
       "version_major": 2,
       "version_minor": 0,
       "model_id": "138621d7104a4c65b0e7aeba1cf77f7f"
      }
     },
     "metadata": {},
     "output_type": "display_data"
    },
    {
     "name": "stdout",
     "output_type": "stream",
     "text": [
      "🏃 View run whimsical-lamb-28 at: http://127.0.0.1:5000/#/experiments/792915948073873252/runs/188e6a252138468abf49586c9ef4ce3f\n",
      "🧪 View experiment at: http://127.0.0.1:5000/#/experiments/792915948073873252\n"
     ]
    },
    {
     "data": {
      "text/plain": [
       "Downloading artifacts:   0%|          | 0/6 [00:00<?, ?it/s]"
      ],
      "application/vnd.jupyter.widget-view+json": {
       "version_major": 2,
       "version_minor": 0,
       "model_id": "e5f7c90bc4ae411d88b478ebc81b0ff5"
      }
     },
     "metadata": {},
     "output_type": "display_data"
    },
    {
     "data": {
      "text/plain": [
       "Downloading artifacts:   0%|          | 0/8 [00:00<?, ?it/s]"
      ],
      "application/vnd.jupyter.widget-view+json": {
       "version_major": 2,
       "version_minor": 0,
       "model_id": "e6e7819ff7bc45528e9da830e6008a46"
      }
     },
     "metadata": {},
     "output_type": "display_data"
    },
    {
     "data": {
      "text/plain": [
       "Downloading artifacts:   0%|          | 0/6 [00:00<?, ?it/s]"
      ],
      "application/vnd.jupyter.widget-view+json": {
       "version_major": 2,
       "version_minor": 0,
       "model_id": "c0814bbf65e7455c99b6d3baf103b020"
      }
     },
     "metadata": {},
     "output_type": "display_data"
    },
    {
     "name": "stdout",
     "output_type": "stream",
     "text": [
      "🏃 View run blushing-midge-704 at: http://127.0.0.1:5000/#/experiments/792915948073873252/runs/1dca719c37e14d8a92e74972fc0f013e\n",
      "🧪 View experiment at: http://127.0.0.1:5000/#/experiments/792915948073873252\n"
     ]
    },
    {
     "data": {
      "text/plain": [
       "Downloading artifacts:   0%|          | 0/6 [00:00<?, ?it/s]"
      ],
      "application/vnd.jupyter.widget-view+json": {
       "version_major": 2,
       "version_minor": 0,
       "model_id": "cc36443d16ee4dcfb8a936a166c27ca4"
      }
     },
     "metadata": {},
     "output_type": "display_data"
    },
    {
     "data": {
      "text/plain": [
       "Downloading artifacts:   0%|          | 0/8 [00:00<?, ?it/s]"
      ],
      "application/vnd.jupyter.widget-view+json": {
       "version_major": 2,
       "version_minor": 0,
       "model_id": "bf3b37213ca34f0fa87cc8fca418e957"
      }
     },
     "metadata": {},
     "output_type": "display_data"
    },
    {
     "data": {
      "text/plain": [
       "Downloading artifacts:   0%|          | 0/6 [00:00<?, ?it/s]"
      ],
      "application/vnd.jupyter.widget-view+json": {
       "version_major": 2,
       "version_minor": 0,
       "model_id": "4acdd214c3ae454cb3da0515a5ed1dc0"
      }
     },
     "metadata": {},
     "output_type": "display_data"
    },
    {
     "name": "stdout",
     "output_type": "stream",
     "text": [
      "🏃 View run invincible-boar-330 at: http://127.0.0.1:5000/#/experiments/792915948073873252/runs/38b712509e6e43a6b7e386c937e778b9\n",
      "🧪 View experiment at: http://127.0.0.1:5000/#/experiments/792915948073873252\n"
     ]
    },
    {
     "data": {
      "text/plain": [
       "Downloading artifacts:   0%|          | 0/6 [00:00<?, ?it/s]"
      ],
      "application/vnd.jupyter.widget-view+json": {
       "version_major": 2,
       "version_minor": 0,
       "model_id": "9aed8b05db574ee191b7c778d8344ead"
      }
     },
     "metadata": {},
     "output_type": "display_data"
    },
    {
     "data": {
      "text/plain": [
       "Downloading artifacts:   0%|          | 0/8 [00:00<?, ?it/s]"
      ],
      "application/vnd.jupyter.widget-view+json": {
       "version_major": 2,
       "version_minor": 0,
       "model_id": "01b0de0ac2754c02b5ce1b1a2a5ac487"
      }
     },
     "metadata": {},
     "output_type": "display_data"
    },
    {
     "data": {
      "text/plain": [
       "Downloading artifacts:   0%|          | 0/6 [00:00<?, ?it/s]"
      ],
      "application/vnd.jupyter.widget-view+json": {
       "version_major": 2,
       "version_minor": 0,
       "model_id": "fab0208e55ca41fb8f8db75772cee234"
      }
     },
     "metadata": {},
     "output_type": "display_data"
    },
    {
     "name": "stdout",
     "output_type": "stream",
     "text": [
      "🏃 View run auspicious-seal-605 at: http://127.0.0.1:5000/#/experiments/792915948073873252/runs/c3070ae7e4e84c5ca1f4df5aa4f7cbee\n",
      "🧪 View experiment at: http://127.0.0.1:5000/#/experiments/792915948073873252\n"
     ]
    },
    {
     "data": {
      "text/plain": [
       "Downloading artifacts:   0%|          | 0/6 [00:00<?, ?it/s]"
      ],
      "application/vnd.jupyter.widget-view+json": {
       "version_major": 2,
       "version_minor": 0,
       "model_id": "21773ea24a414fdf8d6e62a5bf2e90d2"
      }
     },
     "metadata": {},
     "output_type": "display_data"
    },
    {
     "data": {
      "text/plain": [
       "Downloading artifacts:   0%|          | 0/8 [00:00<?, ?it/s]"
      ],
      "application/vnd.jupyter.widget-view+json": {
       "version_major": 2,
       "version_minor": 0,
       "model_id": "6ac88d12738049ff88061cc5aa743971"
      }
     },
     "metadata": {},
     "output_type": "display_data"
    },
    {
     "data": {
      "text/plain": [
       "Downloading artifacts:   0%|          | 0/6 [00:00<?, ?it/s]"
      ],
      "application/vnd.jupyter.widget-view+json": {
       "version_major": 2,
       "version_minor": 0,
       "model_id": "eb66c8119e524e708517a99f9ca0fd30"
      }
     },
     "metadata": {},
     "output_type": "display_data"
    },
    {
     "name": "stdout",
     "output_type": "stream",
     "text": [
      "🏃 View run puzzled-shrew-815 at: http://127.0.0.1:5000/#/experiments/792915948073873252/runs/a2ca84d23554415e8c95fddbf3214fd9\n",
      "🧪 View experiment at: http://127.0.0.1:5000/#/experiments/792915948073873252\n"
     ]
    },
    {
     "data": {
      "text/plain": [
       "Downloading artifacts:   0%|          | 0/6 [00:00<?, ?it/s]"
      ],
      "application/vnd.jupyter.widget-view+json": {
       "version_major": 2,
       "version_minor": 0,
       "model_id": "3865194387ba4f65923c93215706e8a1"
      }
     },
     "metadata": {},
     "output_type": "display_data"
    },
    {
     "data": {
      "text/plain": [
       "Downloading artifacts:   0%|          | 0/8 [00:00<?, ?it/s]"
      ],
      "application/vnd.jupyter.widget-view+json": {
       "version_major": 2,
       "version_minor": 0,
       "model_id": "d436754b21a94a6c9ba7103408b201dd"
      }
     },
     "metadata": {},
     "output_type": "display_data"
    },
    {
     "data": {
      "text/plain": [
       "Downloading artifacts:   0%|          | 0/6 [00:00<?, ?it/s]"
      ],
      "application/vnd.jupyter.widget-view+json": {
       "version_major": 2,
       "version_minor": 0,
       "model_id": "7130e5dd23ae44309f67dc76b781c350"
      }
     },
     "metadata": {},
     "output_type": "display_data"
    },
    {
     "name": "stdout",
     "output_type": "stream",
     "text": [
      "🏃 View run placid-bug-742 at: http://127.0.0.1:5000/#/experiments/792915948073873252/runs/d478f523703143ebb14038fc391930b6\n",
      "🧪 View experiment at: http://127.0.0.1:5000/#/experiments/792915948073873252\n"
     ]
    }
   ],
   "execution_count": 53
  },
  {
   "metadata": {},
   "cell_type": "markdown",
   "source": "##### With PINN",
   "id": "bf331aa03af2263a"
  },
  {
   "metadata": {
    "ExecuteTime": {
     "end_time": "2025-02-22T14:12:24.553197Z",
     "start_time": "2025-02-22T14:12:24.545573Z"
    }
   },
   "cell_type": "code",
   "source": [
    "elems = torch.tensor([[0, 1],\n",
    "                      [1, 2],\n",
    "                      [3, 4],\n",
    "                      [4, 5],\n",
    "                      [1, 4],\n",
    "                      [2, 5],\n",
    "                      [0, 4],\n",
    "                      [3, 1],\n",
    "                      [1, 5],\n",
    "                      [4, 2]]).to(device)\n",
    "supports = torch.tensor([0, 1, 6, 7]).to(device)"
   ],
   "id": "9e5c827dd49b9b3",
   "outputs": [],
   "execution_count": 57
  },
  {
   "metadata": {
    "ExecuteTime": {
     "end_time": "2025-02-22T14:12:25.249235Z",
     "start_time": "2025-02-22T14:12:25.227073Z"
    }
   },
   "cell_type": "code",
   "source": [
    "def finetune_with_pinn(train_ds, val_ds, reference, train_size, n_epoch=100, verbose=False):\n",
    "    artifact_dir = 'runs:/32ba2bcaf225416e82c55ae552dbb628'\n",
    "    x_scaler = mlflow.pytorch.load_model(f\"{artifact_dir}/x_scaler\")\n",
    "    model = mlflow.pytorch.load_model(f\"{artifact_dir}/model\")\n",
    "    y_scaler = mlflow.pytorch.load_model(f\"{artifact_dir}/y_scaler\")\n",
    "\n",
    "    MAPE = R.MeanAbsolutePercentageError().to(device)\n",
    "\n",
    "    with mlflow.start_run():\n",
    "        LR = 1e-4\n",
    "        N_NEURONS = 40\n",
    "        N_LAYERS = 3\n",
    "        N_EPOCHS = n_epoch\n",
    "        BATCH_SIZE = min(8, train_size)\n",
    "        ACTIVATION = nn.Tanh\n",
    "\n",
    "        model_parameters = filter(lambda p: p.requires_grad, model.parameters())\n",
    "        n_params = sum(np.prod(p.size()) for p in model_parameters)\n",
    "        mlflow.log_params({\n",
    "            'n_neurons': N_NEURONS, 'n_layers': N_LAYERS, 'lr': LR,\n",
    "            'activation': ACTIVATION.__name__, \"capacity\": n_params, \"n_epochs\": N_EPOCHS,\n",
    "            'FEI': True, 'train_size': train_size\n",
    "        })\n",
    "\n",
    "        train_dl = DataLoader(train_ds, batch_size=BATCH_SIZE, shuffle=True, drop_last=False)\n",
    "        val_dl = DataLoader(val_ds, batch_size=len(val_ds), shuffle=True, )\n",
    "\n",
    "        criterion = nn.MSELoss()\n",
    "        physics_criterion = StiffnessToLoadLoss()\n",
    "        physics_loss_scale = None\n",
    "        optimizer = torch.optim.Adam(model.parameters(), lr=LR)\n",
    "\n",
    "        for epoch in range(N_EPOCHS):\n",
    "            model.train()\n",
    "            train_loss_epoch = []\n",
    "            train_data_loss_epoch = []\n",
    "            train_physics_loss_epoch = []\n",
    "            train_MAPE_epoch = []\n",
    "            for batch in train_dl:\n",
    "                data, ea, nodes, u, q = batch\n",
    "\n",
    "                data, ea = data.to(device), ea.to(device)\n",
    "                nodes, u, q = nodes.to(device), u.to(device), q.to(device)\n",
    "\n",
    "                data = x_scaler.transform(data)\n",
    "                ea = y_scaler.transform(ea)\n",
    "                ea_unscaled = y_scaler.inverse_transform(ea)\n",
    "\n",
    "                ea_pred = model(data)\n",
    "                ea_pred_unscaled = y_scaler.inverse_transform(ea_pred)\n",
    "\n",
    "                stiffness_pred = construct_k_from_ea(ea_pred_unscaled, nodes, elems, supports, device=device)\n",
    "\n",
    "                data_loss = criterion(ea, ea_pred)\n",
    "                physics_loss = physics_criterion(stiffness_pred, u, q)\n",
    "\n",
    "                if physics_loss_scale is None: physics_loss_scale = physics_loss.item()\n",
    "                physics_loss /= physics_loss_scale\n",
    "\n",
    "                optimizer.zero_grad()\n",
    "                loss = data_loss + physics_loss\n",
    "                loss.backward()\n",
    "                optimizer.step()\n",
    "\n",
    "                train_loss_epoch.append(loss.item())\n",
    "                train_data_loss_epoch.append(data_loss.item())\n",
    "                train_physics_loss_epoch.append(physics_loss.item())\n",
    "                train_MAPE_epoch.append(MAPE(ea_pred_unscaled, ea_unscaled).item())\n",
    "\n",
    "            model.eval()\n",
    "            val_loss_epoch = []\n",
    "            val_data_loss_epoch = []\n",
    "            val_physics_loss_epoch = []\n",
    "            val_MAPE_epoch = []\n",
    "            for batch in val_dl:\n",
    "                data, ea, nodes, u, q = batch\n",
    "\n",
    "                data, ea = data.to(device), ea.to(device)\n",
    "                nodes, u, q = nodes.to(device), u.to(device), q.to(device)\n",
    "\n",
    "                data = x_scaler.transform(data)\n",
    "                ea = y_scaler.transform(ea)\n",
    "                ea_unscaled = y_scaler.inverse_transform(ea)\n",
    "\n",
    "                ea_pred = model(data)\n",
    "                ea_pred_unscaled = y_scaler.inverse_transform(ea_pred)\n",
    "\n",
    "                stiffness_pred = construct_k_from_ea(ea_pred_unscaled, nodes, elems, supports, device=device)\n",
    "\n",
    "                data_loss = criterion(ea, ea_pred)\n",
    "                physics_loss = physics_criterion(stiffness_pred, u, q)\n",
    "\n",
    "                physics_loss /= physics_loss_scale\n",
    "\n",
    "                optimizer.zero_grad()\n",
    "                loss = data_loss + physics_loss\n",
    "                loss.backward()\n",
    "                optimizer.step()\n",
    "\n",
    "                val_loss_epoch.append(loss.item())\n",
    "                val_data_loss_epoch.append(data_loss.item())\n",
    "                val_physics_loss_epoch.append(physics_loss.item())\n",
    "                val_MAPE_epoch.append(MAPE(ea_pred_unscaled, ea_unscaled).item())\n",
    "\n",
    "            mean_train_loss = np.mean(train_loss_epoch)\n",
    "            mean_train_MAPE = np.mean(train_MAPE_epoch)\n",
    "            mean_train_data_loss = np.mean(train_data_loss_epoch)\n",
    "            mean_train_physics_loss = np.mean(train_physics_loss_epoch)\n",
    "\n",
    "            mean_val_loss = np.mean(val_loss_epoch)\n",
    "            mean_val_MAPE = np.mean(val_MAPE_epoch)\n",
    "            mean_val_data_loss = np.mean(val_data_loss_epoch)\n",
    "            mean_val_physics_loss = np.mean(val_physics_loss_epoch)\n",
    "\n",
    "            # Reference structure score\n",
    "            data, ea, _, _, _ = reference\n",
    "            data = x_scaler.transform(data.to(device))\n",
    "            ea_pred = model(data)\n",
    "            ea_pred = y_scaler.inverse_transform(ea_pred)\n",
    "\n",
    "            reference_MAPE = MAPE(ea_pred, ea.to(device))\n",
    "\n",
    "            # Logging\n",
    "            mlflow.log_metrics({\n",
    "                \"train_loss\": mean_train_loss,\n",
    "                \"train_mape\": mean_train_MAPE,\n",
    "                \"train_data_loss\": mean_train_data_loss,\n",
    "                \"train_physics_loss\": mean_train_physics_loss,\n",
    "\n",
    "                \"val_loss\": mean_val_loss,\n",
    "                \"val_mape\": mean_val_MAPE,\n",
    "                \"val_data_loss\": mean_val_data_loss,\n",
    "                \"val_physics_loss\": mean_val_physics_loss,\n",
    "\n",
    "                \"reference_MAPE\": reference_MAPE,\n",
    "            }, step=epoch + 1)\n",
    "\n",
    "            if (epoch + 1) % 10 == 0 and verbose:\n",
    "                print(f\"[Epoch] {epoch + 1:{len(str(N_EPOCHS))}d}/{N_EPOCHS:d}\", end='  ')\n",
    "                print(f\"TRAIN\", end='   ')\n",
    "                print(f\"Loss: {mean_train_loss:1.4f}\", end='   ')\n",
    "                print(f\"Data Loss: {mean_train_data_loss:1.4f}\", end='   ')\n",
    "                print(f\"Physics Loss: {mean_train_physics_loss:1.4f}\", end='   ')\n",
    "                print(f\"MAPE: {mean_train_MAPE:1.4f}\", end='   ')\n",
    "                print(\" ## \", end='')\n",
    "                print(f\"VALIDATION\", end='   ')\n",
    "                print(f\"Loss: {mean_val_loss:1.4f}\", end='   ')\n",
    "                print(f\"Data Loss: {mean_val_data_loss:1.4f}\", end='   ')\n",
    "                print(f\"Physics Loss: {mean_val_physics_loss:1.4f}\", end='   ')\n",
    "                print(f\"MAPE: {mean_val_MAPE:1.4f}\", end='   ')"
   ],
   "id": "bca8c4bd40d754ff",
   "outputs": [],
   "execution_count": 58
  },
  {
   "metadata": {
    "ExecuteTime": {
     "end_time": "2025-02-22T14:58:32.445521Z",
     "start_time": "2025-02-22T14:12:27.178532Z"
    }
   },
   "cell_type": "code",
   "source": [
    "mlflow.set_tracking_uri(uri=\"http://127.0.0.1:5000/\")\n",
    "mlflow.set_experiment(\"MLP_Cantilever_finetuning_2\")\n",
    "\n",
    "print(\"Start\")\n",
    "for i in range(5, len(train_ds), 10):\n",
    "    idx = np.linspace(0, len(train_ds) - 1, i + 1, dtype=int)\n",
    "    finetune_with_pinn(Subset(train_ds, idx), test_ds, reference, i + 1, n_epoch=200, verbose=False)"
   ],
   "id": "37291d51806c9516",
   "outputs": [
    {
     "name": "stdout",
     "output_type": "stream",
     "text": [
      "Start\n"
     ]
    },
    {
     "data": {
      "text/plain": [
       "Downloading artifacts:   0%|          | 0/6 [00:00<?, ?it/s]"
      ],
      "application/vnd.jupyter.widget-view+json": {
       "version_major": 2,
       "version_minor": 0,
       "model_id": "8639d75c57754f88ba1d1e98e2b0cffc"
      }
     },
     "metadata": {},
     "output_type": "display_data"
    },
    {
     "data": {
      "text/plain": [
       "Downloading artifacts:   0%|          | 0/8 [00:00<?, ?it/s]"
      ],
      "application/vnd.jupyter.widget-view+json": {
       "version_major": 2,
       "version_minor": 0,
       "model_id": "28a80e063682464ca5b5d2ba058e2a74"
      }
     },
     "metadata": {},
     "output_type": "display_data"
    },
    {
     "data": {
      "text/plain": [
       "Downloading artifacts:   0%|          | 0/6 [00:00<?, ?it/s]"
      ],
      "application/vnd.jupyter.widget-view+json": {
       "version_major": 2,
       "version_minor": 0,
       "model_id": "970b90c5ae2d4ed081c06e408a79b086"
      }
     },
     "metadata": {},
     "output_type": "display_data"
    },
    {
     "name": "stdout",
     "output_type": "stream",
     "text": [
      "🏃 View run silent-bee-498 at: http://127.0.0.1:5000/#/experiments/792915948073873252/runs/78e16cf076cc4ecbaa4aff8b50acb327\n",
      "🧪 View experiment at: http://127.0.0.1:5000/#/experiments/792915948073873252\n"
     ]
    },
    {
     "data": {
      "text/plain": [
       "Downloading artifacts:   0%|          | 0/6 [00:00<?, ?it/s]"
      ],
      "application/vnd.jupyter.widget-view+json": {
       "version_major": 2,
       "version_minor": 0,
       "model_id": "47a38a0474454b3a834d615a36f150a1"
      }
     },
     "metadata": {},
     "output_type": "display_data"
    },
    {
     "data": {
      "text/plain": [
       "Downloading artifacts:   0%|          | 0/8 [00:00<?, ?it/s]"
      ],
      "application/vnd.jupyter.widget-view+json": {
       "version_major": 2,
       "version_minor": 0,
       "model_id": "978db50524954181bb9d8418035738a0"
      }
     },
     "metadata": {},
     "output_type": "display_data"
    },
    {
     "data": {
      "text/plain": [
       "Downloading artifacts:   0%|          | 0/6 [00:00<?, ?it/s]"
      ],
      "application/vnd.jupyter.widget-view+json": {
       "version_major": 2,
       "version_minor": 0,
       "model_id": "1c7e6daf7ffe499089e6ab1b6817d03a"
      }
     },
     "metadata": {},
     "output_type": "display_data"
    },
    {
     "name": "stdout",
     "output_type": "stream",
     "text": [
      "🏃 View run skillful-rook-196 at: http://127.0.0.1:5000/#/experiments/792915948073873252/runs/96bcd775ebbb475ea8d9490fbbfc70b4\n",
      "🧪 View experiment at: http://127.0.0.1:5000/#/experiments/792915948073873252\n"
     ]
    },
    {
     "data": {
      "text/plain": [
       "Downloading artifacts:   0%|          | 0/6 [00:00<?, ?it/s]"
      ],
      "application/vnd.jupyter.widget-view+json": {
       "version_major": 2,
       "version_minor": 0,
       "model_id": "c18942ab03d94dfabae951293951c905"
      }
     },
     "metadata": {},
     "output_type": "display_data"
    },
    {
     "data": {
      "text/plain": [
       "Downloading artifacts:   0%|          | 0/8 [00:00<?, ?it/s]"
      ],
      "application/vnd.jupyter.widget-view+json": {
       "version_major": 2,
       "version_minor": 0,
       "model_id": "49ca69be91d64b35b1c6383ed7996167"
      }
     },
     "metadata": {},
     "output_type": "display_data"
    },
    {
     "data": {
      "text/plain": [
       "Downloading artifacts:   0%|          | 0/6 [00:00<?, ?it/s]"
      ],
      "application/vnd.jupyter.widget-view+json": {
       "version_major": 2,
       "version_minor": 0,
       "model_id": "348d761e34a54e34b5e4ffa6482b8b3e"
      }
     },
     "metadata": {},
     "output_type": "display_data"
    },
    {
     "name": "stdout",
     "output_type": "stream",
     "text": [
      "🏃 View run glamorous-auk-939 at: http://127.0.0.1:5000/#/experiments/792915948073873252/runs/8ff778d74cbf47eaa1e0f57ccc5a47cf\n",
      "🧪 View experiment at: http://127.0.0.1:5000/#/experiments/792915948073873252\n"
     ]
    },
    {
     "data": {
      "text/plain": [
       "Downloading artifacts:   0%|          | 0/6 [00:00<?, ?it/s]"
      ],
      "application/vnd.jupyter.widget-view+json": {
       "version_major": 2,
       "version_minor": 0,
       "model_id": "4086ab9ef5ac43e296aeca5a6a3b5350"
      }
     },
     "metadata": {},
     "output_type": "display_data"
    },
    {
     "data": {
      "text/plain": [
       "Downloading artifacts:   0%|          | 0/8 [00:00<?, ?it/s]"
      ],
      "application/vnd.jupyter.widget-view+json": {
       "version_major": 2,
       "version_minor": 0,
       "model_id": "d15fd9f707e647b4827c1d1077ac8ce1"
      }
     },
     "metadata": {},
     "output_type": "display_data"
    },
    {
     "data": {
      "text/plain": [
       "Downloading artifacts:   0%|          | 0/6 [00:00<?, ?it/s]"
      ],
      "application/vnd.jupyter.widget-view+json": {
       "version_major": 2,
       "version_minor": 0,
       "model_id": "15f472118e8c4727b6e1465c16f4e41a"
      }
     },
     "metadata": {},
     "output_type": "display_data"
    },
    {
     "name": "stdout",
     "output_type": "stream",
     "text": [
      "🏃 View run rumbling-rat-79 at: http://127.0.0.1:5000/#/experiments/792915948073873252/runs/a198d220fbf249c9bdec22dbba07fb0a\n",
      "🧪 View experiment at: http://127.0.0.1:5000/#/experiments/792915948073873252\n"
     ]
    },
    {
     "data": {
      "text/plain": [
       "Downloading artifacts:   0%|          | 0/6 [00:00<?, ?it/s]"
      ],
      "application/vnd.jupyter.widget-view+json": {
       "version_major": 2,
       "version_minor": 0,
       "model_id": "83e1385ebce140cb8d58242916c2e4dc"
      }
     },
     "metadata": {},
     "output_type": "display_data"
    },
    {
     "data": {
      "text/plain": [
       "Downloading artifacts:   0%|          | 0/8 [00:00<?, ?it/s]"
      ],
      "application/vnd.jupyter.widget-view+json": {
       "version_major": 2,
       "version_minor": 0,
       "model_id": "39bd9a70eac64dea81a3982d97dec08a"
      }
     },
     "metadata": {},
     "output_type": "display_data"
    },
    {
     "data": {
      "text/plain": [
       "Downloading artifacts:   0%|          | 0/6 [00:00<?, ?it/s]"
      ],
      "application/vnd.jupyter.widget-view+json": {
       "version_major": 2,
       "version_minor": 0,
       "model_id": "1aca1eb8151c4e0daf017654276ae21c"
      }
     },
     "metadata": {},
     "output_type": "display_data"
    },
    {
     "name": "stdout",
     "output_type": "stream",
     "text": [
      "🏃 View run angry-crow-792 at: http://127.0.0.1:5000/#/experiments/792915948073873252/runs/d1fd4e282f714f02af622bfe125efab6\n",
      "🧪 View experiment at: http://127.0.0.1:5000/#/experiments/792915948073873252\n"
     ]
    },
    {
     "data": {
      "text/plain": [
       "Downloading artifacts:   0%|          | 0/6 [00:00<?, ?it/s]"
      ],
      "application/vnd.jupyter.widget-view+json": {
       "version_major": 2,
       "version_minor": 0,
       "model_id": "7a2f1e2eed844c0a831ef33da1df7400"
      }
     },
     "metadata": {},
     "output_type": "display_data"
    },
    {
     "data": {
      "text/plain": [
       "Downloading artifacts:   0%|          | 0/8 [00:00<?, ?it/s]"
      ],
      "application/vnd.jupyter.widget-view+json": {
       "version_major": 2,
       "version_minor": 0,
       "model_id": "3cbd55153c014a1bb73bd6c7d1204b0e"
      }
     },
     "metadata": {},
     "output_type": "display_data"
    },
    {
     "data": {
      "text/plain": [
       "Downloading artifacts:   0%|          | 0/6 [00:00<?, ?it/s]"
      ],
      "application/vnd.jupyter.widget-view+json": {
       "version_major": 2,
       "version_minor": 0,
       "model_id": "ae48c6370204444f9fb69aec849a7f19"
      }
     },
     "metadata": {},
     "output_type": "display_data"
    },
    {
     "name": "stdout",
     "output_type": "stream",
     "text": [
      "🏃 View run honorable-bee-525 at: http://127.0.0.1:5000/#/experiments/792915948073873252/runs/55d86c5b47944a6e9c3bfc50b1723025\n",
      "🧪 View experiment at: http://127.0.0.1:5000/#/experiments/792915948073873252\n"
     ]
    },
    {
     "data": {
      "text/plain": [
       "Downloading artifacts:   0%|          | 0/6 [00:00<?, ?it/s]"
      ],
      "application/vnd.jupyter.widget-view+json": {
       "version_major": 2,
       "version_minor": 0,
       "model_id": "bd60445d1b3d4c1ba375fd8eed3524aa"
      }
     },
     "metadata": {},
     "output_type": "display_data"
    },
    {
     "data": {
      "text/plain": [
       "Downloading artifacts:   0%|          | 0/8 [00:00<?, ?it/s]"
      ],
      "application/vnd.jupyter.widget-view+json": {
       "version_major": 2,
       "version_minor": 0,
       "model_id": "15d10a6fe3414cfd8e47aaaaec1828c7"
      }
     },
     "metadata": {},
     "output_type": "display_data"
    },
    {
     "data": {
      "text/plain": [
       "Downloading artifacts:   0%|          | 0/6 [00:00<?, ?it/s]"
      ],
      "application/vnd.jupyter.widget-view+json": {
       "version_major": 2,
       "version_minor": 0,
       "model_id": "3e8625728e5a45a7b830649eee6020c2"
      }
     },
     "metadata": {},
     "output_type": "display_data"
    },
    {
     "name": "stdout",
     "output_type": "stream",
     "text": [
      "🏃 View run dapper-newt-237 at: http://127.0.0.1:5000/#/experiments/792915948073873252/runs/b56f8cb4a2d943168ed2053ea9ac02e4\n",
      "🧪 View experiment at: http://127.0.0.1:5000/#/experiments/792915948073873252\n"
     ]
    },
    {
     "data": {
      "text/plain": [
       "Downloading artifacts:   0%|          | 0/6 [00:00<?, ?it/s]"
      ],
      "application/vnd.jupyter.widget-view+json": {
       "version_major": 2,
       "version_minor": 0,
       "model_id": "be2a28243d0940118c4adb388f954e8e"
      }
     },
     "metadata": {},
     "output_type": "display_data"
    },
    {
     "data": {
      "text/plain": [
       "Downloading artifacts:   0%|          | 0/8 [00:00<?, ?it/s]"
      ],
      "application/vnd.jupyter.widget-view+json": {
       "version_major": 2,
       "version_minor": 0,
       "model_id": "da1ecacaabdc4cf5b5cf5f89e8cd2511"
      }
     },
     "metadata": {},
     "output_type": "display_data"
    },
    {
     "data": {
      "text/plain": [
       "Downloading artifacts:   0%|          | 0/6 [00:00<?, ?it/s]"
      ],
      "application/vnd.jupyter.widget-view+json": {
       "version_major": 2,
       "version_minor": 0,
       "model_id": "27b6217eda4840139950f556214bc651"
      }
     },
     "metadata": {},
     "output_type": "display_data"
    },
    {
     "name": "stdout",
     "output_type": "stream",
     "text": [
      "🏃 View run redolent-croc-847 at: http://127.0.0.1:5000/#/experiments/792915948073873252/runs/879bf802014f432eb6d2da5f4c507c64\n",
      "🧪 View experiment at: http://127.0.0.1:5000/#/experiments/792915948073873252\n"
     ]
    },
    {
     "data": {
      "text/plain": [
       "Downloading artifacts:   0%|          | 0/6 [00:00<?, ?it/s]"
      ],
      "application/vnd.jupyter.widget-view+json": {
       "version_major": 2,
       "version_minor": 0,
       "model_id": "0f135700269f4efbb2b8bfc53e1f689f"
      }
     },
     "metadata": {},
     "output_type": "display_data"
    },
    {
     "data": {
      "text/plain": [
       "Downloading artifacts:   0%|          | 0/8 [00:00<?, ?it/s]"
      ],
      "application/vnd.jupyter.widget-view+json": {
       "version_major": 2,
       "version_minor": 0,
       "model_id": "c240851892a848f3b7ae9b19f014cb81"
      }
     },
     "metadata": {},
     "output_type": "display_data"
    },
    {
     "data": {
      "text/plain": [
       "Downloading artifacts:   0%|          | 0/6 [00:00<?, ?it/s]"
      ],
      "application/vnd.jupyter.widget-view+json": {
       "version_major": 2,
       "version_minor": 0,
       "model_id": "997f88fbb6b94580a549da502431341e"
      }
     },
     "metadata": {},
     "output_type": "display_data"
    },
    {
     "name": "stdout",
     "output_type": "stream",
     "text": [
      "🏃 View run luxuriant-panda-802 at: http://127.0.0.1:5000/#/experiments/792915948073873252/runs/9665ae544fc84553874c0c56ba3b970a\n",
      "🧪 View experiment at: http://127.0.0.1:5000/#/experiments/792915948073873252\n"
     ]
    },
    {
     "data": {
      "text/plain": [
       "Downloading artifacts:   0%|          | 0/6 [00:00<?, ?it/s]"
      ],
      "application/vnd.jupyter.widget-view+json": {
       "version_major": 2,
       "version_minor": 0,
       "model_id": "5272db3add524f29a440f0a194ef545b"
      }
     },
     "metadata": {},
     "output_type": "display_data"
    },
    {
     "data": {
      "text/plain": [
       "Downloading artifacts:   0%|          | 0/8 [00:00<?, ?it/s]"
      ],
      "application/vnd.jupyter.widget-view+json": {
       "version_major": 2,
       "version_minor": 0,
       "model_id": "b96966db488848cba9a2edf13760f9cf"
      }
     },
     "metadata": {},
     "output_type": "display_data"
    },
    {
     "data": {
      "text/plain": [
       "Downloading artifacts:   0%|          | 0/6 [00:00<?, ?it/s]"
      ],
      "application/vnd.jupyter.widget-view+json": {
       "version_major": 2,
       "version_minor": 0,
       "model_id": "dadf5ef35c804f8c87c69cc617fb5179"
      }
     },
     "metadata": {},
     "output_type": "display_data"
    },
    {
     "name": "stdout",
     "output_type": "stream",
     "text": [
      "🏃 View run bustling-perch-756 at: http://127.0.0.1:5000/#/experiments/792915948073873252/runs/151f0561f9b3427386aa0b5ddef63cb4\n",
      "🧪 View experiment at: http://127.0.0.1:5000/#/experiments/792915948073873252\n"
     ]
    },
    {
     "data": {
      "text/plain": [
       "Downloading artifacts:   0%|          | 0/6 [00:00<?, ?it/s]"
      ],
      "application/vnd.jupyter.widget-view+json": {
       "version_major": 2,
       "version_minor": 0,
       "model_id": "40e5155112484936a2d15ab34948f230"
      }
     },
     "metadata": {},
     "output_type": "display_data"
    },
    {
     "data": {
      "text/plain": [
       "Downloading artifacts:   0%|          | 0/8 [00:00<?, ?it/s]"
      ],
      "application/vnd.jupyter.widget-view+json": {
       "version_major": 2,
       "version_minor": 0,
       "model_id": "1b0f624df20a4458aeded24d3a076677"
      }
     },
     "metadata": {},
     "output_type": "display_data"
    },
    {
     "data": {
      "text/plain": [
       "Downloading artifacts:   0%|          | 0/6 [00:00<?, ?it/s]"
      ],
      "application/vnd.jupyter.widget-view+json": {
       "version_major": 2,
       "version_minor": 0,
       "model_id": "3cb02cb7db15449b8af9c741c33d0295"
      }
     },
     "metadata": {},
     "output_type": "display_data"
    },
    {
     "name": "stdout",
     "output_type": "stream",
     "text": [
      "🏃 View run rogue-chimp-496 at: http://127.0.0.1:5000/#/experiments/792915948073873252/runs/5f89260a344d4dd68c6b2638276e9b2c\n",
      "🧪 View experiment at: http://127.0.0.1:5000/#/experiments/792915948073873252\n"
     ]
    },
    {
     "data": {
      "text/plain": [
       "Downloading artifacts:   0%|          | 0/6 [00:00<?, ?it/s]"
      ],
      "application/vnd.jupyter.widget-view+json": {
       "version_major": 2,
       "version_minor": 0,
       "model_id": "5d47dcdeeea34bc49c1319ca2e5855ae"
      }
     },
     "metadata": {},
     "output_type": "display_data"
    },
    {
     "data": {
      "text/plain": [
       "Downloading artifacts:   0%|          | 0/8 [00:00<?, ?it/s]"
      ],
      "application/vnd.jupyter.widget-view+json": {
       "version_major": 2,
       "version_minor": 0,
       "model_id": "18e2eab3a4184e7b93d50498804d7030"
      }
     },
     "metadata": {},
     "output_type": "display_data"
    },
    {
     "data": {
      "text/plain": [
       "Downloading artifacts:   0%|          | 0/6 [00:00<?, ?it/s]"
      ],
      "application/vnd.jupyter.widget-view+json": {
       "version_major": 2,
       "version_minor": 0,
       "model_id": "67670f45881744df8c94c860bad9c360"
      }
     },
     "metadata": {},
     "output_type": "display_data"
    },
    {
     "name": "stdout",
     "output_type": "stream",
     "text": [
      "🏃 View run amazing-quail-385 at: http://127.0.0.1:5000/#/experiments/792915948073873252/runs/1a243d34408b4184b5f8fbecbe495464\n",
      "🧪 View experiment at: http://127.0.0.1:5000/#/experiments/792915948073873252\n"
     ]
    },
    {
     "data": {
      "text/plain": [
       "Downloading artifacts:   0%|          | 0/6 [00:00<?, ?it/s]"
      ],
      "application/vnd.jupyter.widget-view+json": {
       "version_major": 2,
       "version_minor": 0,
       "model_id": "8918342d41a145d499a94c0bdb041666"
      }
     },
     "metadata": {},
     "output_type": "display_data"
    },
    {
     "data": {
      "text/plain": [
       "Downloading artifacts:   0%|          | 0/8 [00:00<?, ?it/s]"
      ],
      "application/vnd.jupyter.widget-view+json": {
       "version_major": 2,
       "version_minor": 0,
       "model_id": "5be8c1fa823b4dd89960228399db2e1d"
      }
     },
     "metadata": {},
     "output_type": "display_data"
    },
    {
     "data": {
      "text/plain": [
       "Downloading artifacts:   0%|          | 0/6 [00:00<?, ?it/s]"
      ],
      "application/vnd.jupyter.widget-view+json": {
       "version_major": 2,
       "version_minor": 0,
       "model_id": "ca428b7868e548c5ad2fa5c882de0a1c"
      }
     },
     "metadata": {},
     "output_type": "display_data"
    },
    {
     "name": "stdout",
     "output_type": "stream",
     "text": [
      "🏃 View run debonair-hawk-563 at: http://127.0.0.1:5000/#/experiments/792915948073873252/runs/bc5b452f45614b998d420f9011459ddf\n",
      "🧪 View experiment at: http://127.0.0.1:5000/#/experiments/792915948073873252\n"
     ]
    },
    {
     "data": {
      "text/plain": [
       "Downloading artifacts:   0%|          | 0/6 [00:00<?, ?it/s]"
      ],
      "application/vnd.jupyter.widget-view+json": {
       "version_major": 2,
       "version_minor": 0,
       "model_id": "dbedf4b524544149b7408129889a495f"
      }
     },
     "metadata": {},
     "output_type": "display_data"
    },
    {
     "data": {
      "text/plain": [
       "Downloading artifacts:   0%|          | 0/8 [00:00<?, ?it/s]"
      ],
      "application/vnd.jupyter.widget-view+json": {
       "version_major": 2,
       "version_minor": 0,
       "model_id": "acaf43dfadb64d76a6ea500f8320ce16"
      }
     },
     "metadata": {},
     "output_type": "display_data"
    },
    {
     "data": {
      "text/plain": [
       "Downloading artifacts:   0%|          | 0/6 [00:00<?, ?it/s]"
      ],
      "application/vnd.jupyter.widget-view+json": {
       "version_major": 2,
       "version_minor": 0,
       "model_id": "db88a02b2ede4f71ab9d7c8a08d15f00"
      }
     },
     "metadata": {},
     "output_type": "display_data"
    },
    {
     "name": "stdout",
     "output_type": "stream",
     "text": [
      "🏃 View run victorious-elk-296 at: http://127.0.0.1:5000/#/experiments/792915948073873252/runs/8ed8a2bb840d4627aea7c7eebe0f32ff\n",
      "🧪 View experiment at: http://127.0.0.1:5000/#/experiments/792915948073873252\n"
     ]
    },
    {
     "data": {
      "text/plain": [
       "Downloading artifacts:   0%|          | 0/6 [00:00<?, ?it/s]"
      ],
      "application/vnd.jupyter.widget-view+json": {
       "version_major": 2,
       "version_minor": 0,
       "model_id": "f46dc06746b84e928f3f3f8d9f44ab76"
      }
     },
     "metadata": {},
     "output_type": "display_data"
    },
    {
     "data": {
      "text/plain": [
       "Downloading artifacts:   0%|          | 0/8 [00:00<?, ?it/s]"
      ],
      "application/vnd.jupyter.widget-view+json": {
       "version_major": 2,
       "version_minor": 0,
       "model_id": "a61487a05eb241dcb28382ccb1297b4f"
      }
     },
     "metadata": {},
     "output_type": "display_data"
    },
    {
     "data": {
      "text/plain": [
       "Downloading artifacts:   0%|          | 0/6 [00:00<?, ?it/s]"
      ],
      "application/vnd.jupyter.widget-view+json": {
       "version_major": 2,
       "version_minor": 0,
       "model_id": "a7fbf91a1d9a49189157a64ed1644fbb"
      }
     },
     "metadata": {},
     "output_type": "display_data"
    },
    {
     "name": "stdout",
     "output_type": "stream",
     "text": [
      "🏃 View run likeable-whale-398 at: http://127.0.0.1:5000/#/experiments/792915948073873252/runs/264905066621435c83986a7726fcc048\n",
      "🧪 View experiment at: http://127.0.0.1:5000/#/experiments/792915948073873252\n"
     ]
    }
   ],
   "execution_count": 59
  },
  {
   "metadata": {},
   "cell_type": "markdown",
   "source": "# Final test",
   "id": "2c6fa21a6a3014c"
  },
  {
   "metadata": {},
   "cell_type": "code",
   "outputs": [],
   "execution_count": null,
   "source": [
    "mlflow.set_tracking_uri(uri=\"http://127.0.0.1:5000/\")\n",
    "experiment = mlflow.get_experiment_by_name(\"MLP_Cantilever_finetuning\")\n",
    "runs_df = mlflow.search_runs(experiment_ids=[experiment.experiment_id])\n",
    "\n",
    "runs_df = runs_df[runs_df['tags.health'].isnull()]\n",
    "all_run_names = runs_df[\"tags.mlflow.runName\"].dropna().tolist()\n"
   ],
   "id": "685f3a242a26324c"
  }
 ],
 "metadata": {
  "kernelspec": {
   "display_name": "Python 3",
   "language": "python",
   "name": "python3"
  },
  "language_info": {
   "codemirror_mode": {
    "name": "ipython",
    "version": 2
   },
   "file_extension": ".py",
   "mimetype": "text/x-python",
   "name": "python",
   "nbconvert_exporter": "python",
   "pygments_lexer": "ipython2",
   "version": "2.7.6"
  }
 },
 "nbformat": 4,
 "nbformat_minor": 5
}
