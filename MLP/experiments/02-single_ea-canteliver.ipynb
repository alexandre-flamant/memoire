{
 "cells": [
  {
   "cell_type": "code",
   "id": "initial_id",
   "metadata": {
    "collapsed": true,
    "ExecuteTime": {
     "end_time": "2025-02-22T14:59:00.493323Z",
     "start_time": "2025-02-22T14:59:00.490562Z"
    }
   },
   "source": [
    "import numpy as np\n",
    "import torch\n",
    "from torch.distributions import LogNormal, Normal\n",
    "import matplotlib.pyplot as plt"
   ],
   "outputs": [],
   "execution_count": 22
  },
  {
   "metadata": {
    "ExecuteTime": {
     "end_time": "2025-02-22T15:09:59.514060Z",
     "start_time": "2025-02-22T15:09:59.510795Z"
    }
   },
   "cell_type": "code",
   "source": [
    "std = 0.0025\n",
    "log_normal = LogNormal(-std**2./2., std)\n",
    "normal = Normal(1, std)"
   ],
   "id": "19b80b800a98062",
   "outputs": [],
   "execution_count": 45
  },
  {
   "metadata": {
    "ExecuteTime": {
     "end_time": "2025-02-22T15:10:01.408462Z",
     "start_time": "2025-02-22T15:10:01.382352Z"
    }
   },
   "cell_type": "code",
   "source": [
    "print(torch.quantile(normal.sample((100000,)), 0.025))\n",
    "print(torch.quantile(normal.sample((100000,)), 1-0.025))"
   ],
   "id": "fc505b7c580ba195",
   "outputs": [
    {
     "name": "stdout",
     "output_type": "stream",
     "text": [
      "tensor(0.9951)\n",
      "tensor(1.0049)\n"
     ]
    }
   ],
   "execution_count": 46
  },
  {
   "metadata": {
    "ExecuteTime": {
     "end_time": "2025-02-22T15:10:02.144051Z",
     "start_time": "2025-02-22T15:10:02.118561Z"
    }
   },
   "cell_type": "code",
   "source": [
    "print(torch.quantile(log_normal.sample((100000,)), 0.025))\n",
    "print(torch.quantile(log_normal.sample((100000,)), 1-0.025))"
   ],
   "id": "cecdc0abad68b09b",
   "outputs": [
    {
     "name": "stdout",
     "output_type": "stream",
     "text": [
      "tensor(0.9951)\n",
      "tensor(1.0049)\n"
     ]
    }
   ],
   "execution_count": 47
  },
  {
   "metadata": {},
   "cell_type": "code",
   "outputs": [],
   "execution_count": null,
   "source": "",
   "id": "5a740c95cfb4c8aa"
  }
 ],
 "metadata": {
  "kernelspec": {
   "display_name": "Python 3",
   "language": "python",
   "name": "python3"
  },
  "language_info": {
   "codemirror_mode": {
    "name": "ipython",
    "version": 2
   },
   "file_extension": ".py",
   "mimetype": "text/x-python",
   "name": "python",
   "nbconvert_exporter": "python",
   "pygments_lexer": "ipython2",
   "version": "2.7.6"
  }
 },
 "nbformat": 4,
 "nbformat_minor": 5
}
