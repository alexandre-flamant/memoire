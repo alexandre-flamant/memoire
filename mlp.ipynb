{
 "cells": [
  {
   "cell_type": "raw",
   "id": "b5bce62c-4641-403a-b942-6a5b5c826dea",
   "metadata": {},
   "source": [
    "from sklearn.neural_network import MLPRegressor\n",
    "from sklearn.datasets import make_regression\n",
    "from sklearn.model_selection import train_test_split\n",
    "X, y = make_regression(n_samples=200, random_state=1)\n",
    "X_train, X_test, y_train, y_test = train_test_split(X, y,\n",
    "                                                    random_state=1)\n",
    "regr = MLPRegressor(random_state=1, max_iter=500).fit(X_train, y_train)\n",
    "regr.predict(X_test[:2])\n",
    "regr.score(X_test, y_test)"
   ]
  },
  {
   "cell_type": "code",
   "execution_count": 21,
   "id": "46f93c1f-ee5e-4ad6-8746-ad2513882d00",
   "metadata": {},
   "outputs": [],
   "source": [
    "import numpy as np\n",
    "import pandas as pd\n",
    "from sklearn.model_selection import train_test_split\n",
    "from sklearn.metrics import mean_squared_error\n",
    "import polars as pl\n",
    "from sklearn.neural_network import MLPRegressor\n",
    "from sklearn.preprocessing import StandardScaler"
   ]
  },
  {
   "cell_type": "code",
   "execution_count": null,
   "id": "4efb568c-a904-480c-a9bd-a9d3426c356c",
   "metadata": {},
   "outputs": [],
   "source": []
  },
  {
   "cell_type": "code",
   "execution_count": 16,
   "id": "39890f32-cd31-4ac0-a4f2-01d792ec24ac",
   "metadata": {},
   "outputs": [],
   "source": [
    "df = pl.read_csv(\"truss_10-Load_2_4-height_2.5_17.5-length_2.5_17.5-young_50e9_250e9_D_H_V-area_0.0001_0.005_D_H_V-1000K.csv\")"
   ]
  },
  {
   "cell_type": "code",
   "execution_count": 17,
   "id": "0af0e839-ec29-4e62-bec2-a70dd0bfba84",
   "metadata": {
    "scrolled": true
   },
   "outputs": [],
   "source": [
    "df = df.to_pandas()"
   ]
  },
  {
   "cell_type": "code",
   "execution_count": 23,
   "id": "a6b48bf7-b3ff-4516-9f80-df140394549e",
   "metadata": {},
   "outputs": [],
   "source": [
    "X = df.drop(['u_x1', 'u_y1', 'u_x2', 'u_y2', 'u_x3', 'u_y3', 'u_x4', 'u_y4', 'u_x5',\n",
    "       'u_y5', 'u_x6', 'u_y6', 'N_1', 'N_2', 'N_3', 'N_4', 'N_5', 'N_6', 'N_7',\n",
    "       'N_8', 'N_9', 'N_10'], axis=1)\n",
    "\n",
    "y = df[['u_x1', 'u_y1', 'u_x2', 'u_y2', 'u_x3', 'u_y3', 'u_x4', 'u_y4', 'u_x5',\n",
    "       'u_y5', 'u_x6', 'u_y6', 'N_1', 'N_2', 'N_3', 'N_4', 'N_5', 'N_6', 'N_7',\n",
    "       'N_8', 'N_9', 'N_10']]\n",
    "\n",
    "# Initialize scalers for X and y\n",
    "scaler_X = StandardScaler()\n",
    "scaler_y = StandardScaler()\n",
    "\n",
    "# Scale X and y\n",
    "X_scaled = scaler_X.fit_transform(X)\n",
    "y_scaled = scaler_y.fit_transform(y)\n",
    "\n",
    "X_train, X_test, y_train, y_test = train_test_split(X_scaled, y_scaled, test_size=0.2, random_state=42)"
   ]
  },
  {
   "cell_type": "code",
   "execution_count": 26,
   "id": "aebdddee-6063-4edc-97de-ddfa3a55f0db",
   "metadata": {},
   "outputs": [
    {
     "name": "stdout",
     "output_type": "stream",
     "text": [
      "Iteration 1, loss = 0.19685119\n",
      "Iteration 2, loss = 0.19067815\n",
      "Iteration 3, loss = 0.19134149\n",
      "Iteration 4, loss = 0.19192676\n",
      "Iteration 5, loss = 0.19182382\n",
      "Iteration 6, loss = 0.19251521\n",
      "Iteration 7, loss = 0.19194825\n",
      "Iteration 8, loss = 0.19170186\n",
      "Iteration 9, loss = 0.19167236\n",
      "Iteration 10, loss = 0.19153207\n",
      "Iteration 11, loss = 0.19291505\n",
      "Iteration 12, loss = 0.19181128\n",
      "Iteration 13, loss = 0.19262048\n",
      "Training loss did not improve more than tol=0.000100 for 10 consecutive epochs. Stopping.\n",
      "Model fitted\n"
     ]
    }
   ],
   "source": [
    "# Initialize and train the MLPRegressor\n",
    "mlp = MLPRegressor(random_state=42, hidden_layer_sizes=(50,50,50), max_iter=1000, learning_rate='constant', learning_rate_init=.1,verbose=1)\n",
    "mlp.fit(X_train, y_train)\n",
    "print(\"Model fitted\")"
   ]
  },
  {
   "cell_type": "code",
   "execution_count": 28,
   "id": "84126ba4-3b9a-49af-9883-1393820f4869",
   "metadata": {},
   "outputs": [
    {
     "name": "stdout",
     "output_type": "stream",
     "text": [
      "Mean Squared Error: 22350551720.33655\n"
     ]
    }
   ],
   "source": [
    "# Predict and evaluate the model\n",
    "y_pred_scaled = mlp.predict(X_test)\n",
    "y_pred = scaler_y.inverse_transform(y_pred_scaled)\n",
    "y_test_original = scaler_y.inverse_transform(y_test)\n",
    "mse = mean_squared_error(y_test_original, y_pred)\n",
    "\n",
    "print(f\"Mean Squared Error: {mse}\")"
   ]
  },
  {
   "cell_type": "code",
   "execution_count": 33,
   "id": "a1e3255c-89f2-433c-8873-d3348e44e8e7",
   "metadata": {},
   "outputs": [
    {
     "data": {
      "text/plain": [
       "<Axes: ylabel='Frequency'>"
      ]
     },
     "execution_count": 33,
     "metadata": {},
     "output_type": "execute_result"
    },
    {
     "data": {
      "image/png": "[encoded data removed]",
      "text/plain": [
       "<Figure size 640x480 with 1 Axes>"
      ]
     },
     "metadata": {},
     "output_type": "display_data"
    }
   ],
   "source": [
    "df['E_1'].plot(kind='hist', bins=10, edgecolor='black')"
   ]
  },
  {
   "cell_type": "code",
   "execution_count": null,
   "id": "58f20fa7-fc12-49bd-aedc-a9d6cbaa0b34",
   "metadata": {},
   "outputs": [],
   "source": []
  }
 ],
 "metadata": {
  "kernelspec": {
   "display_name": "Python 3 (ipykernel)",
   "language": "python",
   "name": "python3"
  },
  "language_info": {
   "codemirror_mode": {
    "name": "ipython",
    "version": 3
   },
   "file_extension": ".py",
   "mimetype": "text/x-python",
   "name": "python",
   "nbconvert_exporter": "python",
   "pygments_lexer": "ipython3",
   "version": "3.12.5"
  }
 },
 "nbformat": 4,
 "nbformat_minor": 5
}
