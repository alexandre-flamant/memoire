{
 "cells": [
  {
   "metadata": {
    "ExecuteTime": {
     "end_time": "2025-07-02T14:36:02.633730Z",
     "start_time": "2025-07-02T14:36:02.213288Z"
    }
   },
   "cell_type": "code",
   "source": [
    "from manim import *\n",
    "from manim_structures import *\n",
    "from manim_mobject_svg import *\n",
    "\n",
    "quality = \"ql\"\n",
    "config['background_color'] = WHITE"
   ],
   "id": "d9e35a85c1fb64b2",
   "outputs": [],
   "execution_count": 1
  },
  {
   "metadata": {
    "jupyter": {
     "is_executing": true
    },
    "ExecuteTime": {
     "end_time": "2025-07-02T14:35:22.506155Z",
     "start_time": "2025-07-02T14:34:48.945302Z"
    }
   },
   "cell_type": "code",
   "source": [
    "%%manim MLIllustration\n",
    "\n",
    "from manim import *\n",
    "\n",
    "from manim import *\n",
    "\n",
    "\n",
    "class DataTable(VGroup):\n",
    "    def __init__(self, n_rows=5, n_cols=3, width=1.5, height=2, corner_radius=0.3,\n",
    "                 stroke_width=2, fill_color=GRAY, stroke_color=BLACK, **kwargs):\n",
    "        super().__init__(**kwargs)\n",
    "\n",
    "        self.height = height\n",
    "        self.width = width\n",
    "        self.n_rows = n_rows\n",
    "        self.n_cols = n_cols\n",
    "\n",
    "        # Background Rounded Rectangle\n",
    "        self.bg = RoundedRectangle(\n",
    "            width=width,\n",
    "            height=height,\n",
    "            corner_radius=corner_radius,\n",
    "            stroke_color=stroke_color,\n",
    "            stroke_width=stroke_width,\n",
    "        )\n",
    "\n",
    "        self.row_group = VGroup(name='rows')\n",
    "        row_height = height / n_rows\n",
    "        for i in range(1, n_rows):\n",
    "            line = (Line(self.bg.get_left(), self.bg.get_right(),\n",
    "                         stroke_color=stroke_color,\n",
    "                         stroke_width=stroke_width)\n",
    "                    .align_to(self.bg, UP)\n",
    "                    .shift(i * row_height * DOWN))\n",
    "            self.row_group.add(line)\n",
    "\n",
    "        self.col_group = VGroup(name='cols')\n",
    "        col_width = width / n_cols\n",
    "        for i in range(1, n_cols):\n",
    "            line = (Line(self.bg.get_top(), self.bg.get_bottom(),\n",
    "                         stroke_color=stroke_color,\n",
    "                         stroke_width=stroke_width)\n",
    "                    .align_to(self.bg, LEFT)\n",
    "                    .shift(i * col_width * RIGHT))\n",
    "            self.col_group.add(line)\n",
    "\n",
    "        self.col_fill_group = VGroup(name='col_color')\n",
    "        for i in range(n_cols):\n",
    "            rect = Rectangle(height=row_height, width=col_width, fill_color=fill_color,\n",
    "                             fill_opacity=1, stroke_width=0.1, stroke_color=fill_color)\n",
    "            fill = rect.align_to(self.bg, UP).align_to(self.bg, LEFT).shift(i * width / n_cols * RIGHT)\n",
    "            if (i == 0) or (i==n_cols-1):\n",
    "                fill = Intersection(fill, self.bg, stroke_color=fill_color, stroke_width=.5, fill_color=fill_color, fill_opacity=1)\n",
    "                print(fill)\n",
    "            self.col_fill_group.add(fill)\n",
    "\n",
    "        self.add(self.row_group, self.col_group, self.bg)\n",
    "\n",
    "    def collapse_cols(self, n=-2):\n",
    "        if n < 0: n = self.n_cols + n\n",
    "        for i, col in enumerate(self.col_group):\n",
    "            if i >= n: break\n",
    "            col.put_start_and_end_on(col.get_start() + (self.height / self.n_rows) * DOWN,\n",
    "                                     col.get_end())\n",
    "\n",
    "\n",
    "group = VGroup()\n",
    "\n",
    "\n",
    "class MLIllustration(Scene):\n",
    "    def construct(self):\n",
    "        object_height = 2\n",
    "        experiment = SVGMobject(\"ref_img/erlenmeyer-flask.svg\")\n",
    "        experiment.scale(object_height / experiment.height).center()\n",
    "        train_set = DataTable(5, 3, stroke_width=5).center().shift(3 * RIGHT)\n",
    "        train_set.collapse_cols(n=-2)\n",
    "        arrow_1 = Arrow(experiment.get_right(), train_set.get_left(), color=BLACK)\n",
    "        self.add(experiment, train_set, arrow_1)"
   ],
   "id": "46c224b9646dca0f",
   "outputs": [
    {
     "data": {
      "text/plain": [
       "Manim Community \u001B[32mv0.\u001B[0m\u001B[32m19.0\u001B[0m\n",
       "\n"
      ],
      "text/html": [
       "<pre style=\"white-space:pre;overflow-x:auto;line-height:normal;font-family:Menlo,'DejaVu Sans Mono',consolas,'Courier New',monospace\">Manim Community <span style=\"color: #008000; text-decoration-color: #008000\">v0.19.0</span>\n",
       "\n",
       "</pre>\n"
      ]
     },
     "metadata": {},
     "output_type": "display_data"
    }
   ],
   "execution_count": null
  },
  {
   "metadata": {},
   "cell_type": "code",
   "outputs": [],
   "execution_count": null,
   "source": "",
   "id": "bf151e949cbebb52"
  }
 ],
 "metadata": {
  "kernelspec": {
   "display_name": "Python 3",
   "language": "python",
   "name": "python3"
  },
  "language_info": {
   "codemirror_mode": {
    "name": "ipython",
    "version": 2
   },
   "file_extension": ".py",
   "mimetype": "text/x-python",
   "name": "python",
   "nbconvert_exporter": "python",
   "pygments_lexer": "ipython2",
   "version": "2.7.6"
  }
 },
 "nbformat": 4,
 "nbformat_minor": 5
}
