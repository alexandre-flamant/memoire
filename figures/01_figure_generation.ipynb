{
 "cells": [
  {
   "cell_type": "code",
   "id": "initial_id",
   "metadata": {
    "collapsed": true,
    "ExecuteTime": {
     "end_time": "2025-07-04T12:51:54.580152Z",
     "start_time": "2025-07-04T12:51:54.178023Z"
    }
   },
   "source": [
    "import numpy as np\n",
    "import matplotlib.font_manager as fm\n",
    "from matplotlib import pyplot as plt\n",
    "from matplotlib.ticker import MaxNLocator\n",
    "\n",
    "font_path = \"cmunrm.otf\"\n",
    "fm.fontManager.addfont(font_path)\n",
    "plt.rcParams[\"font.family\"] = \"CMU Serif\""
   ],
   "outputs": [],
   "execution_count": 2
  },
  {
   "metadata": {
    "ExecuteTime": {
     "end_time": "2025-07-04T12:52:02.664087Z",
     "start_time": "2025-07-04T12:52:02.550325Z"
    }
   },
   "cell_type": "code",
   "source": [
    "# Figure 1\n",
    "stress_strain = np.loadtxt('../data/other/LP1_Specimen_1_processed_data.csv', delimiter=',', skiprows=1)[:, 2:]\n",
    "\n",
    "e_min = stress_strain[:, 0].min()\n",
    "e_max = stress_strain[:, 0].max()\n",
    "f_min = stress_strain[:, 1].min()\n",
    "f_max = stress_strain[:, 1].max()\n",
    "\n",
    "fig, (ax1, ax2, ax3) = plt.subplots(1, 3, figsize=(5.8, 1.7), sharex=True, sharey=True)\n",
    "ax1.plot(np.linspace(e_min, e_max), np.linspace(e_min, e_max) * 200e3, c='b', lw=1)\n",
    "ax2.plot(np.linspace(e_min, 0.001775), np.linspace(e_min, 0.001775) * 200e3, c='b', lw=1)\n",
    "ax2.plot(np.linspace(0.001775, e_max), 0.001775 * 200e3 + np.linspace(0.001775, e_max) * 1e3, c='b', lw=1)\n",
    "ax3.plot(stress_strain[:, 0], stress_strain[:, 1], c='b', lw=1)\n",
    "\n",
    "ax1.set_ylim(0, f_max)\n",
    "\n",
    "ax1.set_ylabel(r\"$\\sigma$ [MPa]\", fontsize=12)\n",
    "ax1.set_xlabel(r\"$\\epsilon$ [-]\", fontsize=12)\n",
    "ax2.set_xlabel(r\"$\\epsilon$ [-]\", fontsize=12)\n",
    "ax3.set_xlabel(r\"$\\epsilon$ [-]\", fontsize=12)\n",
    "\n",
    "ax1.set_title(\"(a)\", fontsize=12)\n",
    "ax2.set_title(\"(b)\", fontsize=12)\n",
    "ax3.set_title(\"(c)\", fontsize=12)\n",
    "\n",
    "for ax in [ax1, ax2, ax3]:\n",
    "    ax.yaxis.set_major_locator(MaxNLocator(nbins=6))\n",
    "\n",
    "plt.savefig('img/01-intro_strain_stress_graph.pdf', bbox_inches='tight',\n",
    "            pad_inches=0.0)"
   ],
   "id": "aa3899bc9560b71a",
   "outputs": [
    {
     "data": {
      "text/plain": [
       "<Figure size 580x170 with 3 Axes>"
      ],
      "image/png": "[encoded data removed]"
     },
     "metadata": {},
     "output_type": "display_data"
    }
   ],
   "execution_count": 4
  },
  {
   "metadata": {},
   "cell_type": "code",
   "outputs": [],
   "execution_count": null,
   "source": "",
   "id": "a253bcf51050a23"
  }
 ],
 "metadata": {
  "kernelspec": {
   "display_name": "Python 3",
   "language": "python",
   "name": "python3"
  },
  "language_info": {
   "codemirror_mode": {
    "name": "ipython",
    "version": 2
   },
   "file_extension": ".py",
   "mimetype": "text/x-python",
   "name": "python",
   "nbconvert_exporter": "python",
   "pygments_lexer": "ipython2",
   "version": "2.7.6"
  }
 },
 "nbformat": 4,
 "nbformat_minor": 5
}
