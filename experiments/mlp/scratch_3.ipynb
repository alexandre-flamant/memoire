{
 "cells": [
  {
   "metadata": {
    "ExecuteTime": {
     "end_time": "2025-06-12T18:57:57.009232Z",
     "start_time": "2025-06-12T18:57:57.005759Z"
    }
   },
   "cell_type": "code",
   "source": [
    "from default import PROJECT_HOME\n",
    "%cd {PROJECT_HOME}"
   ],
   "id": "61aeda62aaca28ca",
   "outputs": [
    {
     "name": "stdout",
     "output_type": "stream",
     "text": [
      "/Users/aflamant/Documents/courses/2024-2025/mémoire/03-code/memoire\n"
     ]
    }
   ],
   "execution_count": 2
  },
  {
   "metadata": {
    "ExecuteTime": {
     "end_time": "2025-06-12T18:57:57.883344Z",
     "start_time": "2025-06-12T18:57:57.199297Z"
    }
   },
   "cell_type": "code",
   "source": [
    "from dataset import FixedPrattTrussDataset, FixedPrattTrussDatasetSingleTarget, FixedPrattTrussDatasetThreeTargets\n",
    "import torch\n",
    "from torch import nn\n",
    "from torch.utils.data import DataLoader"
   ],
   "id": "39d8b36046953e7e",
   "outputs": [],
   "execution_count": 3
  },
  {
   "metadata": {
    "ExecuteTime": {
     "end_time": "2025-06-12T18:57:57.893095Z",
     "start_time": "2025-06-12T18:57:57.889589Z"
    }
   },
   "cell_type": "code",
   "source": [
    "def full_target_from_ea(EA: torch.Tensor, n: int = 29) -> torch.Tensor:\n",
    "    return EA.repeat((1, n))\n",
    "\n",
    "\n",
    "def full_target_from_ea(EA: torch.Tensor) -> torch.Tensor:\n",
    "    t = torch.zeros((len(EA), 29))\n",
    "    t[:, (0, 1, 2, 3, 4, 5, 6, 7, 8, 9, 10, 11, 12, 13, 21, 28)] = EA[:, 0].unsqueeze(1)\n",
    "    t[:, (14, 15, 16, 17, 18, 19, 20)] = EA[:, 1].unsqueeze(1)\n",
    "    t[:, (22, 23, 24, 25, 26, 27)] = EA[:, 2].unsqueeze(1)\n",
    "\n",
    "    return t"
   ],
   "id": "6c734c0fc0de74e6",
   "outputs": [],
   "execution_count": 4
  },
  {
   "metadata": {
    "ExecuteTime": {
     "end_time": "2025-06-12T18:57:57.901814Z",
     "start_time": "2025-06-12T18:57:57.898495Z"
    }
   },
   "cell_type": "code",
   "source": [
    "class EnergyLoss(nn.Module):\n",
    "    def __init__(self):\n",
    "        super().__init__()\n",
    "\n",
    "    def forward(self, EA, e, q, r, m_incidence):\n",
    "        n_sample = len(EA)\n",
    "        residual: torch.Tensor = torch.zeros((n_sample, ds.n_nodes, 2))\n",
    "        for node_idx, node_incidence in enumerate(m_incidence):\n",
    "            axial_forces: torch.Tensor = EA * e\n",
    "            for idx, vect in node_incidence.items():\n",
    "                residual[:, node_idx] += vect.repeat((n_sample, 1)) * axial_forces[:, idx].unsqueeze(1)\n",
    "            residual[:, node_idx] -= q[:, node_idx]\n",
    "            residual[:, node_idx] -= r[:, node_idx]\n",
    "\n",
    "        return residual.square().mean()\n",
    "\n",
    "\n",
    "loss = EnergyLoss()"
   ],
   "id": "fef6b74991164e59",
   "outputs": [],
   "execution_count": 5
  },
  {
   "metadata": {
    "ExecuteTime": {
     "end_time": "2025-06-12T18:57:59.250105Z",
     "start_time": "2025-06-12T18:57:59.235436Z"
    }
   },
   "cell_type": "code",
   "source": [
    "ds = FixedPrattTrussDataset(\"data/dataset/pratt_truss_bridge_isostatic/1_category_ea/train_128.hdf5\")\n",
    "dl = DataLoader(ds, batch_size=5)\n",
    "x, y, u, q, w, r = dl.__iter__().__next__()\n",
    "\n",
    "\n",
    "def compute_oriented_incidence_matrix(ds, n=0):\n",
    "    n_nodes: int = ds.n_nodes\n",
    "    n_elements: int = ds.n_elems\n",
    "    m = torch.zeros((n_nodes, n_elements, 2))\n",
    "    coordinates = torch.tensor(ds.nodes_coordinate[n].reshape((n_nodes, 2)))\n",
    "    for ele_idx, (n1_idx, n2_idx) in enumerate(ds.connectivity_matrix[n]):\n",
    "        n1 = coordinates[n1_idx]\n",
    "        n2 = coordinates[n2_idx]\n",
    "\n",
    "        v1 = n1 - n2\n",
    "        v2 = n2 - n1\n",
    "\n",
    "        m[n1_idx, ele_idx] = v1 / v1.norm()\n",
    "        m[n2_idx, ele_idx] = v2 / v2.norm()\n",
    "\n",
    "    return [{j: v for j, v in enumerate(n_incidence) if not torch.all(v == 0.)} for n_incidence in m]\n",
    "\n",
    "\n",
    "m_incidence = compute_oriented_incidence_matrix(ds)"
   ],
   "id": "239bac04aad7527b",
   "outputs": [],
   "execution_count": 6
  },
  {
   "metadata": {
    "ExecuteTime": {
     "end_time": "2025-06-12T19:07:43.930627Z",
     "start_time": "2025-06-12T19:07:43.928330Z"
    }
   },
   "cell_type": "code",
   "source": [
    "strain = ds.bars_strain[0]\n",
    "E = ds.bars_young[0]\n",
    "A = ds.bars_area[0]\n",
    "L = ds.bars_length_init[0]\n",
    "u = ds.nodes_displacement[0].reshape((-1,2))\n",
    "q = ds.load[0].reshape((-1,2))\n",
    "r = ds.support_reaction[0].reshape((-1,2))"
   ],
   "id": "332202662e0e0b16",
   "outputs": [],
   "execution_count": 14
  },
  {
   "metadata": {
    "ExecuteTime": {
     "end_time": "2025-06-12T19:33:42.217510Z",
     "start_time": "2025-06-12T19:33:42.214536Z"
    }
   },
   "cell_type": "code",
   "source": [
    "U = (E * A / L * (strain*L)**2).sum()\n",
    "U\n",
    "\n",
    "W = 0\n",
    "for i in range(16):\n",
    "    W += u[i] @ q[i]\n",
    "    W += u[i] @ r[i]\n",
    "W\n",
    "\n",
    "U - W"
   ],
   "id": "3c51c7ef2383e5a8",
   "outputs": [
    {
     "data": {
      "text/plain": [
       "3.6088749766349792e-09"
      ]
     },
     "execution_count": 65,
     "metadata": {},
     "output_type": "execute_result"
    }
   ],
   "execution_count": 65
  },
  {
   "metadata": {
    "ExecuteTime": {
     "end_time": "2025-06-12T19:21:04.451715Z",
     "start_time": "2025-06-12T19:21:04.446103Z"
    }
   },
   "cell_type": "code",
   "source": [
    "\n",
    "axial_forces = ds.bars_force[0]\n",
    "\n",
    "sum_forces = torch.zeros((ds.n_nodes, 2))\n",
    "for node_idx, node_incidence in enumerate(m_incidence):\n",
    "    axial_forces = ds.bars_strain[0] * ds.bars_young[0] * ds.bars_area[0]\n",
    "    q = ds.load[0].reshape((ds.n_nodes, 2))\n",
    "    r = ds.support_reaction[0].reshape((ds.n_nodes, 2))\n",
    "    for idx, vect in node_incidence.items():\n",
    "        sum_forces[node_idx] += vect * axial_forces[idx]\n",
    "    sum_forces[node_idx] -= q[node_idx]\n",
    "    sum_forces[node_idx] -= r[node_idx]\n",
    "\n",
    "print(sum_forces)"
   ],
   "id": "2009330b2321b5a7",
   "outputs": [
    {
     "name": "stdout",
     "output_type": "stream",
     "text": [
      "tensor([[-1.1642e-08, -1.8299e-02],\n",
      "        [ 0.0000e+00,  1.8289e-03],\n",
      "        [ 6.2500e-02, -4.1006e-02],\n",
      "        [-6.2500e-02,  2.1494e-02],\n",
      "        [-1.0938e-01,  3.5986e-02],\n",
      "        [ 1.2500e-01,  2.0173e-03],\n",
      "        [-2.5000e-01, -7.4493e-02],\n",
      "        [ 0.0000e+00,  4.4829e-03],\n",
      "        [ 2.5000e-01, -1.3930e-01],\n",
      "        [ 0.0000e+00,  2.5095e-01],\n",
      "        [-1.2500e-01,  2.1494e-02],\n",
      "        [-1.4062e-01,  5.8694e-03],\n",
      "        [ 0.0000e+00,  2.7123e-04],\n",
      "        [ 2.5000e-01, -4.1006e-02],\n",
      "        [ 6.2500e-02, -4.1006e-02],\n",
      "        [-6.2500e-02,  6.3450e-02]])\n"
     ]
    }
   ],
   "execution_count": 30
  },
  {
   "metadata": {
    "ExecuteTime": {
     "end_time": "2025-06-11T13:14:05.008537Z",
     "start_time": "2025-06-11T13:14:05.005537Z"
    }
   },
   "cell_type": "code",
   "source": "q",
   "id": "9a7999357fd2420a",
   "outputs": [
    {
     "data": {
      "text/plain": [
       "array([[      0.        ,       0.        ],\n",
       "       [      0.        , -916382.75182894],\n",
       "       [      0.        ,  -38339.3339944 ],\n",
       "       [      0.        ,  -38339.3339944 ],\n",
       "       [      0.        , -671300.78598601],\n",
       "       [      0.        , -686179.68951733],\n",
       "       [      0.        , -897270.48800708],\n",
       "       [      0.        , -921870.1919829 ],\n",
       "       [      0.        ,       0.        ],\n",
       "       [      0.        ,  -41588.00094965],\n",
       "       [      0.        ,  -38339.3339944 ],\n",
       "       [      0.        ,  -38339.3339944 ],\n",
       "       [      0.        ,  -19497.61941186],\n",
       "       [      0.        ,  -38339.3339944 ],\n",
       "       [      0.        ,  -38339.3339944 ],\n",
       "       [      0.        ,  -41588.00094965]])"
      ]
     },
     "execution_count": 24,
     "metadata": {},
     "output_type": "execute_result"
    }
   ],
   "execution_count": 24
  }
 ],
 "metadata": {
  "kernelspec": {
   "name": "python3",
   "language": "python",
   "display_name": "Python 3 (ipykernel)"
  }
 },
 "nbformat": 5,
 "nbformat_minor": 9
}
