{
 "cells": [
  {
   "cell_type": "code",
   "id": "initial_id",
   "metadata": {
    "collapsed": true,
    "ExecuteTime": {
     "end_time": "2025-06-23T08:43:53.951096Z",
     "start_time": "2025-06-23T08:43:53.665791Z"
    }
   },
   "source": [
    "import numpy as np\n",
    "import scipy as sc\n",
    "import sympy as sp\n",
    "from openseespy import opensees as ops\n",
    "import matplotlib.pyplot as plt"
   ],
   "outputs": [],
   "execution_count": 19
  },
  {
   "metadata": {
    "ExecuteTime": {
     "end_time": "2025-06-23T08:36:29.803680Z",
     "start_time": "2025-06-23T08:36:29.798730Z"
    }
   },
   "cell_type": "code",
   "source": [
    "def truss_stiffness_matrix(nodes, elements, EA, supports):\n",
    "    \"\"\"\n",
    "    Assemble the global stiffness matrix for a 2D truss using sympy.\n",
    "\n",
    "    Parameters:\n",
    "        nodes (dict): Dictionary of node coordinates {node_id: (x, y)}\n",
    "        elements (list): List of tuples (node1, node2) defining element connectivity\n",
    "        A (dict): Dictionary of cross-sectional areas {element_id: A_value}\n",
    "        E (dict): Dictionary of Young's modulus values {element_id: E_value}\n",
    "\n",
    "    Returns:\n",
    "        sympy.Matrix: Global stiffness matrix\n",
    "    \"\"\"\n",
    "    num_nodes = len(nodes)\n",
    "    dof = 2 * num_nodes  # Degrees of freedom (2 per node)\n",
    "    K_global = sp.zeros(dof, dof)\n",
    "\n",
    "    for i, (n1, n2) in enumerate(elements):\n",
    "        x1, y1 = nodes[n1]\n",
    "        x2, y2 = nodes[n2]\n",
    "        L = sp.sqrt((x2 - x1) ** 2 + (y2 - y1) ** 2)  # Element length\n",
    "        c = (x2 - x1) / L  # Cosine of angle\n",
    "        s = (y2 - y1) / L  # Sine of angle\n",
    "\n",
    "        # Stiffness matrix for an element in local coordinates\n",
    "        k_local = (EA[i] / L) * sp.Matrix([\n",
    "            [c ** 2, c * s, -c ** 2, -c * s],\n",
    "            [c * s, s ** 2, -c * s, -s ** 2],\n",
    "            [-c ** 2, -c * s, c ** 2, c * s],\n",
    "            [-c * s, -s ** 2, c * s, s ** 2]\n",
    "        ])\n",
    "\n",
    "        # Global DOF indices\n",
    "        dof_indices = [2 * n1, 2 * n1 + 1, 2 * n2, 2 * n2 + 1]\n",
    "\n",
    "        # Assemble into global stiffness matrix\n",
    "        for r in range(4):\n",
    "            for c in range(4):\n",
    "                K_global[dof_indices[r], dof_indices[c]] += k_local[r, c]\n",
    "\n",
    "        for i in supports:\n",
    "            for j in range(K_global.shape[0]):\n",
    "                K_global[i, j] = 0.\n",
    "                K_global[j, i] = 0.\n",
    "            K_global[i, i] = 1\n",
    "\n",
    "    return K_global\n",
    "\n",
    "\n",
    "def analyze_truss_with_opensees(nodes, connectivity_matrix, supports, loads, A_list, E_list):\n",
    "    \"\"\"\n",
    "    Parameters:\n",
    "        nodes: np.array of shape (n_nodes, 3)\n",
    "        connectivity_matrix: np.array of shape (n_elements, 2)\n",
    "        supports: dict {node_index: (fix_x, fix_y)}\n",
    "        loads: dict {node_index: [Fx, Fy]}\n",
    "        A_list: list of cross-sectional areas (length = n_elements)\n",
    "        E_list: list of Young's moduli (length = n_elements)\n",
    "\n",
    "    Returns:\n",
    "        displacements: dict {node_index: [ux, uy]}\n",
    "    \"\"\"\n",
    "\n",
    "    ops.wipe()\n",
    "    ops.model('basic', '-ndm', 2, '-ndf', 2)\n",
    "\n",
    "    # Create nodes\n",
    "    for i, (x, y, _) in enumerate(nodes):\n",
    "        ops.node(i, x, y)\n",
    "\n",
    "    # Supports\n",
    "    for node_id, (fix_x, fix_y) in supports.items():\n",
    "        ops.fix(node_id, int(fix_x), int(fix_y))\n",
    "\n",
    "    # Define elements and materials\n",
    "    for i, (ni, nj) in enumerate(connectivity_matrix):\n",
    "        E = E_list[i]\n",
    "        A = A_list[i]\n",
    "        ops.uniaxialMaterial(\"Elastic\", i, E)\n",
    "        ops.element(\"truss\", i, int(ni), int(nj), A, i)\n",
    "\n",
    "    # Apply loads\n",
    "    ops.timeSeries(\"Linear\", 1)\n",
    "    ops.pattern(\"Plain\", 1, 1)\n",
    "    for node_id, (Fx, Fy) in loads.items():\n",
    "        ops.load(node_id, Fx, Fy)\n",
    "\n",
    "    # Static analysis\n",
    "    ops.system(\"SparseGeneral\")\n",
    "    ops.numberer(\"RCM\")\n",
    "    ops.constraints(\"Plain\")\n",
    "    ops.integrator(\"LoadControl\", 1.0)\n",
    "    ops.algorithm(\"Linear\")\n",
    "    ops.analysis(\"Static\")\n",
    "    ops.analyze(1)\n",
    "\n",
    "    # Get displacements\n",
    "    displacements = np.array([\n",
    "        [ops.nodeDisp(i, 1), ops.nodeDisp(i, 2)]\n",
    "        for i in range(len(nodes))\n",
    "    ])\n",
    "\n",
    "    forces = np.array([ops.eleResponse(i, 'axialForce')[0] for i in range(len(connectivity_matrix))])\n",
    "\n",
    "    return displacements, forces"
   ],
   "id": "59bf379a54f331bc",
   "outputs": [],
   "execution_count": 2
  },
  {
   "metadata": {
    "ExecuteTime": {
     "end_time": "2025-06-23T08:39:22.707247Z",
     "start_time": "2025-06-23T08:39:22.687117Z"
    }
   },
   "cell_type": "code",
   "source": [
    "nodes = np.array([(0, 0, 0), (5, 0, 0), (10, 0, 0), (5, 5, 0)], dtype=float)\n",
    "supports = {0: (True, True), 2: (False, True)}\n",
    "connectivity_matrix = np.array([(0, 1), (1, 2), (2, 3), (3, 0), (1, 3)])\n",
    "loads = {1: [0., -1000.e3],\n",
    "         2: [1000.e3, 0.],\n",
    "         3: [-1000.e3, -1000.e3]}\n",
    "\n",
    "supports_dof = [2 * k + i for k, v in supports.items() for i, b in enumerate(v) if b]\n",
    "mask = [i for i in range(2*len(nodes)) if i not in supports_dof]\n",
    "\n",
    "q_ = np.zeros(2 * len(nodes))\n",
    "for k, (x, y) in loads.items():\n",
    "    q_[2 * k] += x\n",
    "    q_[2 * k + 1] += y\n",
    "\n",
    "A = np.array([.0025, 0.005, 0.01, 0.0075, 0.02])\n",
    "E = np.array([210.e9, 210.e9, 70.e9, 70.e9, 150.e9])\n",
    "\n",
    "target = E * A\n",
    "\n",
    "K_ = truss_stiffness_matrix(\n",
    "    nodes[:, :2], connectivity_matrix, [sp.Symbol(f'EA{i}', real=True, positive=True) for i in range(5)],\n",
    "    supports_dof\n",
    ")\n",
    "\n",
    "Kf = sp.lambdify(sorted(K_.free_symbols, key=lambda x: str(x)), K_, 'numpy')\n",
    "\n",
    "u_, N = analyze_truss_with_opensees(nodes, connectivity_matrix, supports, loads, A, E)"
   ],
   "id": "cf2adb794942f24c",
   "outputs": [],
   "execution_count": 9
  },
  {
   "metadata": {
    "ExecuteTime": {
     "end_time": "2025-06-23T09:46:54.369076Z",
     "start_time": "2025-06-23T09:46:52.866757Z"
    }
   },
   "cell_type": "code",
   "source": [
    "def mape(x_pred, x):\n",
    "    return np.mean(np.abs((x_pred-x)/x))\n",
    "\n",
    "def test(noise):\n",
    "    u = u_ * np.random.normal(1, noise / 2, u_.shape)\n",
    "    u = u.reshape(-1)[mask]\n",
    "    u = sp.Matrix(u.T)\n",
    "\n",
    "    q = q_ * np.random.normal(1, noise / 2, q_.shape)\n",
    "    q = q.reshape(-1)[mask]\n",
    "    q = sp.Matrix(q.T)\n",
    "\n",
    "    K = K_.copy()\n",
    "    K = K[mask,:][:, mask]\n",
    "\n",
    "    eqs = K @ u - q\n",
    "\n",
    "    vars = sorted(list(K.free_symbols), key=lambda s: str(s))\n",
    "    rows = []\n",
    "\n",
    "    for eq in eqs:\n",
    "        coeffs = [eq.coeff(v) for v in vars]\n",
    "        const = -eq.subs({v: 0 for v in vars})  # move constant to the right-hand side\n",
    "        rows.append(coeffs + [const])\n",
    "\n",
    "    augmented = sp.Matrix(rows)\n",
    "\n",
    "    rref_matrix, pivots = augmented.rref()\n",
    "    EA_pred = sp.matrix2numpy(rref_matrix.evalf()[:,-1])\n",
    "\n",
    "    return EA_pred\n",
    "\n",
    "noise_values = np.linspace(0, .1, 21)\n",
    "mape_hist = []\n",
    "found = False\n",
    "\n",
    "np.random.seed(326)\n",
    "for noise in noise_values:\n",
    "    mape_hist_trial = []\n",
    "    for i in range(10):\n",
    "        pred = test(noise).reshape(-1)\n",
    "        m = mape(pred, target.T)\n",
    "        mape_hist_trial.append(m)\n",
    "    mape_hist.append(mape_hist_trial)\n",
    "\n",
    "mape_hist = np.array(mape_hist)"
   ],
   "id": "178284b36bb575a",
   "outputs": [],
   "execution_count": 142
  },
  {
   "metadata": {
    "ExecuteTime": {
     "end_time": "2025-06-23T09:51:30.588377Z",
     "start_time": "2025-06-23T09:51:30.497486Z"
    }
   },
   "cell_type": "code",
   "source": [
    "fig, ax = plt.subplots()\n",
    "ax.set_title(\"Evolution of MAPE in function of noise\")\n",
    "ax.plot(100*noise_values, 100*mape_hist.mean(axis=1))\n",
    "ax.set_xlabel('Noise level [%]')\n",
    "ax.set_ylabel('MAPE [%]')\n",
    "fig.savefig(\"03_truss_example_noise_mape.pdf\")"
   ],
   "id": "5b14097ca2207181",
   "outputs": [
    {
     "data": {
      "text/plain": [
       "<Figure size 640x480 with 1 Axes>"
      ],
      "image/png": "[encoded data removed]"
     },
     "metadata": {},
     "output_type": "display_data"
    }
   ],
   "execution_count": 152
  },
  {
   "metadata": {},
   "cell_type": "code",
   "outputs": [],
   "execution_count": null,
   "source": "plt.plot(ma)",
   "id": "bdcbdc76cb85c29"
  },
  {
   "metadata": {
    "ExecuteTime": {
     "end_time": "2025-06-23T09:01:30.072605Z",
     "start_time": "2025-06-23T08:57:47.079979Z"
    }
   },
   "cell_type": "code",
   "outputs": [
    {
     "name": "stdout",
     "output_type": "stream",
     "text": [
      "72\n"
     ]
    }
   ],
   "execution_count": 83,
   "source": "print(j-1)",
   "id": "df6d4b02e945be51"
  },
  {
   "metadata": {
    "ExecuteTime": {
     "end_time": "2025-06-23T08:53:29.329740Z",
     "start_time": "2025-06-23T08:53:29.326975Z"
    }
   },
   "cell_type": "code",
   "source": [
    "# 5 17 np.linspace(0, .1, 11)\n",
    "# 326 np.linspace(0, .1, 21) 10"
   ],
   "id": "6c756ecb9bba4678",
   "outputs": [],
   "execution_count": 67
  }
 ],
 "metadata": {
  "kernelspec": {
   "display_name": "Python 3",
   "language": "python",
   "name": "python3"
  },
  "language_info": {
   "codemirror_mode": {
    "name": "ipython",
    "version": 2
   },
   "file_extension": ".py",
   "mimetype": "text/x-python",
   "name": "python",
   "nbconvert_exporter": "python",
   "pygments_lexer": "ipython2",
   "version": "2.7.6"
  }
 },
 "nbformat": 4,
 "nbformat_minor": 5
}
