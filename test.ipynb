{
 "cells": [
  {
   "metadata": {
    "ExecuteTime": {
     "end_time": "2025-03-17T13:30:53.134989Z",
     "start_time": "2025-03-17T13:30:53.132177Z"
    }
   },
   "cell_type": "code",
   "source": [
    "import numpy as np\n",
    "\n",
    "from default import PROJECT_HOME\n",
    "%cd {PROJECT_HOME}"
   ],
   "id": "5a0c981e0c451e56",
   "outputs": [
    {
     "name": "stdout",
     "output_type": "stream",
     "text": [
      "/Users/aflamant/Documents/courses/2024-2025/mémoire/03-code/memoire\n"
     ]
    }
   ],
   "execution_count": 18
  },
  {
   "metadata": {
    "ExecuteTime": {
     "end_time": "2025-03-17T13:30:53.224836Z",
     "start_time": "2025-03-17T13:30:53.218530Z"
    }
   },
   "cell_type": "code",
   "source": [
    "from dataset import FixedPrattTrussDatasetSingleTarget\n",
    "import torch\n",
    "import numpy as np\n",
    "\n",
    "ds = FixedPrattTrussDatasetSingleTarget('data/dataset/pratt_truss_bridge/single_ea/train_100.hdf5')"
   ],
   "id": "627a3613709c2a98",
   "outputs": [],
   "execution_count": 19
  },
  {
   "metadata": {
    "ExecuteTime": {
     "end_time": "2025-03-17T13:30:53.365077Z",
     "start_time": "2025-03-17T13:30:53.361726Z"
    }
   },
   "cell_type": "code",
   "source": [
    "def f(n):\n",
    "    k_s = (int(ds.stiffness_matrix[n].__len__() ** .5),) * 2\n",
    "    k = ds.stiffness_matrix[n].reshape(k_s)\n",
    "    u = ds.nodes_displacement[n].reshape((-1, 1))\n",
    "    q = ds.load[n].reshape((-1, 1))\n",
    "\n",
    "    q_p = np.round(k @ u - q)\n",
    "    q_p[[1, 17], 0] = 0.\n",
    "    return q_p\n",
    "\n",
    "\n",
    "r = f(0)\n",
    "for i in range(1, 12):\n",
    "    r += f(i)\n",
    "r"
   ],
   "id": "31c2204a636f0305",
   "outputs": [
    {
     "data": {
      "text/plain": [
       "array([[0.],\n",
       "       [0.],\n",
       "       [0.],\n",
       "       [0.],\n",
       "       [0.],\n",
       "       [0.],\n",
       "       [0.],\n",
       "       [0.],\n",
       "       [0.],\n",
       "       [0.],\n",
       "       [0.],\n",
       "       [0.],\n",
       "       [0.],\n",
       "       [0.],\n",
       "       [0.],\n",
       "       [0.],\n",
       "       [0.],\n",
       "       [0.],\n",
       "       [0.],\n",
       "       [0.],\n",
       "       [0.],\n",
       "       [0.],\n",
       "       [0.],\n",
       "       [0.],\n",
       "       [0.],\n",
       "       [0.],\n",
       "       [0.],\n",
       "       [0.],\n",
       "       [0.],\n",
       "       [0.],\n",
       "       [0.],\n",
       "       [0.]])"
      ]
     },
     "execution_count": 20,
     "metadata": {},
     "output_type": "execute_result"
    }
   ],
   "execution_count": 20
  },
  {
   "metadata": {
    "ExecuteTime": {
     "end_time": "2025-03-17T13:37:50.171460Z",
     "start_time": "2025-03-17T13:37:50.167943Z"
    }
   },
   "cell_type": "code",
   "source": [
    "def g(n):\n",
    "    k_s = (int(ds.stiffness_matrix[n].__len__() ** .5),) * 2\n",
    "    k = ds.stiffness_matrix[n].reshape(k_s).astype(np.float64)\n",
    "    k /= ds[n][1]\n",
    "    k[[0, 1, 17], [0, 1, 17]] = 1\n",
    "    #k[k.abs() < 1e-9] = 0\n",
    "    return k"
   ],
   "id": "4b8bcb8896a7479c",
   "outputs": [],
   "execution_count": 42
  },
  {
   "metadata": {
    "ExecuteTime": {
     "end_time": "2025-03-17T13:37:50.279596Z",
     "start_time": "2025-03-17T13:37:50.276237Z"
    }
   },
   "cell_type": "code",
   "source": [
    "def u_from_x(x, n_panels=8):\n",
    "    batch_size=len(x)\n",
    "    u = torch.zeros((batch_size, 4 * n_panels))\n",
    "    u[:, 2:2 * n_panels + 1] = x[:, :2 * (n_panels - 1) + 1]\n",
    "    u[:, 2 * (n_panels + 1):] = x[:, 2 * (n_panels - 1) + 1:4 * n_panels - 3]\n",
    "    return u.unsqueeze(-1)\n",
    "\n",
    "def q_from_x_q(x, q, n_panels=8):\n",
    "    q = q.squeeze(-1)\n",
    "    q[:, np.arange(3, 2 * n_panels, 2)] = x[:, 4 * n_panels - 3: 5 * n_panels - 4]\n",
    "\n",
    "    return q.unsqueeze(-1)"
   ],
   "id": "7e4591f6da7fe9bf",
   "outputs": [],
   "execution_count": 43
  },
  {
   "metadata": {
    "ExecuteTime": {
     "end_time": "2025-03-17T13:37:50.420895Z",
     "start_time": "2025-03-17T13:37:50.417962Z"
    }
   },
   "cell_type": "code",
   "source": [
    "k_ref = g(0)\n",
    "k_ref = torch.unsqueeze(k_ref, 0).to(torch.float)"
   ],
   "id": "43d27cf49e81bfcd",
   "outputs": [],
   "execution_count": 44
  },
  {
   "metadata": {
    "ExecuteTime": {
     "end_time": "2025-03-17T13:37:50.746729Z",
     "start_time": "2025-03-17T13:37:50.744111Z"
    }
   },
   "cell_type": "code",
   "source": [
    "from losses import StiffnessToLoadLoss\n",
    "criterion = StiffnessToLoadLoss()"
   ],
   "id": "f23c134738fba717",
   "outputs": [],
   "execution_count": 45
  },
  {
   "metadata": {
    "ExecuteTime": {
     "end_time": "2025-03-17T13:37:51.074930Z",
     "start_time": "2025-03-17T13:37:51.070305Z"
    }
   },
   "cell_type": "code",
   "source": [
    "dl = torch.utils.data.DataLoader(ds, batch_size=100, shuffle=True)\n",
    "x, y, _, u, q = dl.__iter__().__next__()\n",
    "q[:, [0, 1, 17], :] = 0.\n",
    "\n",
    "k = k_ref * y.unsqueeze(-1)\n",
    "k[:, [0, 1, 17], [0, 1, 17]] = 1."
   ],
   "id": "f275e9dafb03f7a8",
   "outputs": [],
   "execution_count": 46
  },
  {
   "metadata": {
    "ExecuteTime": {
     "end_time": "2025-03-17T13:37:53.465221Z",
     "start_time": "2025-03-17T13:37:53.459899Z"
    }
   },
   "cell_type": "code",
   "source": "criterion(k*1e-6, u_from_x(x, 8)*1e3, q_from_x_q(x,q,8)*1e-3)",
   "id": "d75cd528ce26839c",
   "outputs": [
    {
     "data": {
      "text/plain": [
       "tensor(7.6334e-06)"
      ]
     },
     "execution_count": 49,
     "metadata": {},
     "output_type": "execute_result"
    }
   ],
   "execution_count": 49
  },
  {
   "metadata": {},
   "cell_type": "code",
   "outputs": [],
   "execution_count": null,
   "source": "",
   "id": "ddeb292f1634c731"
  }
 ],
 "metadata": {
  "kernelspec": {
   "display_name": "Python 3",
   "language": "python",
   "name": "python3"
  },
  "language_info": {
   "codemirror_mode": {
    "name": "ipython",
    "version": 2
   },
   "file_extension": ".py",
   "mimetype": "text/x-python",
   "name": "python",
   "nbconvert_exporter": "python",
   "pygments_lexer": "ipython2",
   "version": "2.7.6"
  }
 },
 "nbformat": 4,
 "nbformat_minor": 5
}
