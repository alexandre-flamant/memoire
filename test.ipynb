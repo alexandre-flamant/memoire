{
 "cells": [
  {
   "metadata": {
    "ExecuteTime": {
     "end_time": "2025-03-20T13:22:31.713351Z",
     "start_time": "2025-03-20T13:22:31.676915Z"
    }
   },
   "cell_type": "code",
   "source": [
    "import numpy as np\n",
    "\n",
    "from default import PROJECT_HOME\n",
    "%cd {PROJECT_HOME}"
   ],
   "id": "5a0c981e0c451e56",
   "outputs": [
    {
     "name": "stdout",
     "output_type": "stream",
     "text": [
      "/Users/aflamant/Documents/courses/2024-2025/mémoire/03-code/memoire\n"
     ]
    }
   ],
   "execution_count": 1
  },
  {
   "metadata": {
    "ExecuteTime": {
     "end_time": "2025-03-20T17:18:27.507548Z",
     "start_time": "2025-03-20T17:18:25.646207Z"
    }
   },
   "cell_type": "code",
   "source": [
    "from dataset import FixedPrattTrussDatasetSingleTarget, FixedPrattTrussDataset\n",
    "import torch\n",
    "import numpy as np\n",
    "\n",
    "#ds = FixedPrattTrussDatasetSingleTarget('data/dataset/pratt_truss_bridge/single_ea/train_20000.hdf5')\n",
    "ds = FixedPrattTrussDataset('data/dataset/pratt_truss_bridge/multiple_ea/train_20000.hdf5')"
   ],
   "id": "627a3613709c2a98",
   "outputs": [],
   "execution_count": 1
  },
  {
   "metadata": {
    "ExecuteTime": {
     "end_time": "2025-03-20T15:25:22.988834Z",
     "start_time": "2025-03-20T15:25:22.966231Z"
    }
   },
   "cell_type": "code",
   "source": [
    "def pratt_stiffness_matrix(H: float, L: float, EA: torch.DoubleTensor):\n",
    "    H2 = H ** 2\n",
    "    L2 = L ** 2\n",
    "    D2_3_2 = (H ** 2 + L ** 2) ** (3 / 2)\n",
    "    HL = H * L\n",
    "\n",
    "    EA_L = EA / L\n",
    "    EA_H = EA / H\n",
    "\n",
    "    EA_L2_D2_3_2 = EA * L2 / D2_3_2\n",
    "    EA_HL_D2_3_2 = EA * HL / D2_3_2\n",
    "    EA_H2_D2_3_2 = EA * H2 / D2_3_2\n",
    "\n",
    "    k = torch.eye(32).repeat((len(EA), 1, 1))\n",
    "\n",
    "    k[:, 2, 2] = EA_L[:, 0] + EA_L[:, 1]\n",
    "    k[:, 2, 4] = -EA_L[:, 1]\n",
    "    k[:, 3, 3] = EA_H[:, 14]\n",
    "    k[:, 3, 31] = -EA_H[:, 14]\n",
    "    k[:, 4, 2] = -EA_L[:, 1]\n",
    "    k[:, 4, 4] = EA_L[:, 1] + EA_L[:, 2] + EA_L2_D2_3_2[:, 22]\n",
    "    k[:, 4, 5] = -EA_HL_D2_3_2[:, 22]\n",
    "    k[:, 4, 6] = -EA_L[:, 2]\n",
    "    k[:, 4, 30] = -EA_L2_D2_3_2[:, 22]\n",
    "    k[:, 4, 31] = EA_HL_D2_3_2[:, 22]\n",
    "    k[:, 5, 4] = -EA_HL_D2_3_2[:, 22]\n",
    "    k[:, 5, 5] = EA_H[:, 15] + EA_H2_D2_3_2[:, 22]\n",
    "    k[:, 5, 29] = -EA_H[:, 15]\n",
    "    k[:, 5, 30] = EA_HL_D2_3_2[:, 22]\n",
    "    k[:, 5, 31] = -EA_H2_D2_3_2[:, 22]\n",
    "    k[:, 6, 4] = -EA_L[:, 2]\n",
    "    k[:, 6, 6] = EA_L[:, 2] + EA_L[:, 3] + EA_L2_D2_3_2[:, 23]\n",
    "    k[:, 6, 7] = -EA_HL_D2_3_2[:, 23]\n",
    "    k[:, 6, 8] = -EA_L[:, 3]\n",
    "    k[:, 6, 28] = -EA_L2_D2_3_2[:, 23]\n",
    "    k[:, 6, 29] = EA_HL_D2_3_2[:, 23]\n",
    "    k[:, 7, 6] = -EA_HL_D2_3_2[:, 23]\n",
    "    k[:, 7, 7] = EA_H[:, 16] + EA_H2_D2_3_2[:, 23]\n",
    "    k[:, 7, 27] = -EA_H[:, 16]\n",
    "    k[:, 7, 28] = EA_HL_D2_3_2[:, 23]\n",
    "    k[:, 7, 29] = -EA_H2_D2_3_2[:, 23]\n",
    "    k[:, 8, 6] = -EA_L[:, 3]\n",
    "    k[:, 8, 8] = EA_L[:, 3] + EA_L[:, 4] + EA_L2_D2_3_2[:, 24] + EA_L2_D2_3_2[:, 25]\n",
    "    k[:, 8, 9] = -EA_HL_D2_3_2[:, 24] + EA_HL_D2_3_2[:, 25]\n",
    "    k[:, 8, 10] = -EA_L[:, 4]\n",
    "    k[:, 8, 22] = -EA_L2_D2_3_2[:, 25]\n",
    "    k[:, 8, 23] = -EA_HL_D2_3_2[:, 25]\n",
    "    k[:, 8, 26] = -EA_L2_D2_3_2[:, 24]\n",
    "    k[:, 8, 27] = EA_HL_D2_3_2[:, 24]\n",
    "    k[:, 9, 8] = -EA_HL_D2_3_2[:, 24] + EA_HL_D2_3_2[:, 25]\n",
    "    k[:, 9, 9] = EA_H[:, 17] + EA_H2_D2_3_2[:, 24] + EA_H2_D2_3_2[:, 25]\n",
    "    k[:, 9, 22] = -EA_HL_D2_3_2[:, 25]\n",
    "    k[:, 9, 23] = -EA_H2_D2_3_2[:, 25]\n",
    "    k[:, 9, 25] = -EA_H[:, 17]\n",
    "    k[:, 9, 26] = EA_HL_D2_3_2[:, 24]\n",
    "    k[:, 9, 27] = -EA_H2_D2_3_2[:, 24]\n",
    "    k[:, 10, 8] = -EA_L[:, 4]\n",
    "    k[:, 10, 10] = EA_L[:, 4] + EA_L[:, 5] + EA_L2_D2_3_2[:, 26]\n",
    "    k[:, 10, 11] = EA_HL_D2_3_2[:, 26]\n",
    "    k[:, 10, 12] = -EA_L[:, 5]\n",
    "    k[:, 10, 20] = -EA_L2_D2_3_2[:, 26]\n",
    "    k[:, 10, 21] = -EA_HL_D2_3_2[:, 26]\n",
    "    k[:, 11, 10] = EA_HL_D2_3_2[:, 26]\n",
    "    k[:, 11, 11] = EA_H[:, 18] + EA_H2_D2_3_2[:, 26]\n",
    "    k[:, 11, 20] = -EA_HL_D2_3_2[:, 26]\n",
    "    k[:, 11, 21] = -EA_H2_D2_3_2[:, 26]\n",
    "    k[:, 11, 23] = -EA_H[:, 18]\n",
    "    k[:, 12, 10] = -EA_L[:, 5]\n",
    "    k[:, 12, 12] = EA_L[:, 5] + EA_L[:, 6] + EA_L2_D2_3_2[:, 27]\n",
    "    k[:, 12, 13] = EA_HL_D2_3_2[:, 27]\n",
    "    k[:, 12, 14] = -EA_L[:, 6]\n",
    "    k[:, 12, 18] = -EA_L2_D2_3_2[:, 27]\n",
    "    k[:, 12, 19] = -EA_HL_D2_3_2[:, 27]\n",
    "    k[:, 13, 12] = EA_HL_D2_3_2[:, 27]\n",
    "    k[:, 13, 13] = EA_H[:, 19] + EA_H2_D2_3_2[:, 27]\n",
    "    k[:, 13, 18] = -EA_HL_D2_3_2[:, 27]\n",
    "    k[:, 13, 19] = -EA_H2_D2_3_2[:, 27]\n",
    "    k[:, 13, 21] = -EA_H[:, 19]\n",
    "    k[:, 14, 12] = -EA_L[:, 6]\n",
    "    k[:, 14, 14] = EA_L[:, 6] + EA_L[:, 7]\n",
    "    k[:, 14, 16] = -EA_L[:, 7]\n",
    "    k[:, 15, 15] = EA_H[:, 20]\n",
    "    k[:, 15, 19] = -EA_H[:, 20]\n",
    "    k[:, 16, 14] = -EA_L[:, 7]\n",
    "    k[:, 16, 16] = EA_L[:, 7] + EA_L2_D2_3_2[:, 28]\n",
    "    k[:, 16, 18] = -EA_L2_D2_3_2[:, 28]\n",
    "    k[:, 16, 19] = EA_HL_D2_3_2[:, 28]\n",
    "    k[:, 18, 12] = -EA_L2_D2_3_2[:, 27]\n",
    "    k[:, 18, 13] = -EA_HL_D2_3_2[:, 27]\n",
    "    k[:, 18, 16] = -EA_L2_D2_3_2[:, 28]\n",
    "    k[:, 18, 18] = EA_L[:, 8] + EA_L2_D2_3_2[:, 27] + EA_L2_D2_3_2[:, 28]\n",
    "    k[:, 18, 19] = EA_HL_D2_3_2[:, 27] - EA_HL_D2_3_2[:, 28]\n",
    "    k[:, 18, 20] = -EA_L[:, 8]\n",
    "    k[:, 19, 12] = -EA_HL_D2_3_2[:, 27]\n",
    "    k[:, 19, 13] = -EA_H2_D2_3_2[:, 27]\n",
    "    k[:, 19, 15] = -EA_H[:, 20]\n",
    "    k[:, 19, 16] = EA_HL_D2_3_2[:, 28]\n",
    "    k[:, 19, 18] = EA_HL_D2_3_2[:, 27] - EA_HL_D2_3_2[:, 28]\n",
    "    k[:, 19, 19] = EA_H[:, 20] + EA_H2_D2_3_2[:, 27] + EA_H2_D2_3_2[:, 28]\n",
    "    k[:, 20, 10] = -EA_L2_D2_3_2[:, 26]\n",
    "    k[:, 20, 11] = -EA_HL_D2_3_2[:, 26]\n",
    "    k[:, 20, 18] = -EA_L[:, 8]\n",
    "    k[:, 20, 20] = EA_L[:, 8] + EA_L[:, 9] + EA_L2_D2_3_2[:, 26]\n",
    "    k[:, 20, 21] = EA_HL_D2_3_2[:, 26]\n",
    "    k[:, 20, 22] = -EA_L[:, 9]\n",
    "    k[:, 21, 10] = -EA_HL_D2_3_2[:, 26]\n",
    "    k[:, 21, 11] = -EA_H2_D2_3_2[:, 26]\n",
    "    k[:, 21, 13] = -EA_H[:, 19]\n",
    "    k[:, 21, 20] = EA_HL_D2_3_2[:, 26]\n",
    "    k[:, 21, 21] = EA_H[:, 19] + EA_H2_D2_3_2[:, 26]\n",
    "    k[:, 22, 8] = -EA_L2_D2_3_2[:, 25]\n",
    "    k[:, 22, 9] = -EA_HL_D2_3_2[:, 25]\n",
    "    k[:, 22, 20] = -EA_L[:, 9]\n",
    "    k[:, 22, 22] = EA_L[:, 9] + EA_L[:, 10] + EA_L2_D2_3_2[:, 25]\n",
    "    k[:, 22, 23] = EA_HL_D2_3_2[:, 25]\n",
    "    k[:, 22, 24] = -EA_L[:, 10]\n",
    "    k[:, 23, 8] = -EA_HL_D2_3_2[:, 25]\n",
    "    k[:, 23, 9] = -EA_H2_D2_3_2[:, 25]\n",
    "    k[:, 23, 11] = -EA_H[:, 18]\n",
    "    k[:, 23, 22] = EA_HL_D2_3_2[:, 25]\n",
    "    k[:, 23, 23] = EA_H[:, 18] + EA_H2_D2_3_2[:, 25]\n",
    "    k[:, 24, 22] = -EA_L[:, 10]\n",
    "    k[:, 24, 24] = EA_L[:, 10] + EA_L[:, 11]\n",
    "    k[:, 24, 26] = -EA_L[:, 11]\n",
    "    k[:, 25, 9] = -EA_H[:, 17]\n",
    "    k[:, 25, 25] = EA_H[:, 17]\n",
    "    k[:, 26, 8] = -EA_L2_D2_3_2[:, 24]\n",
    "    k[:, 26, 9] = EA_HL_D2_3_2[:, 24]\n",
    "    k[:, 26, 24] = -EA_L[:, 11]\n",
    "    k[:, 26, 26] = EA_L[:, 11] + EA_L[:, 12] + EA_L2_D2_3_2[:, 24]\n",
    "    k[:, 26, 27] = -EA_HL_D2_3_2[:, 24]\n",
    "    k[:, 26, 28] = -EA_L[:, 12]\n",
    "    k[:, 27, 7] = -EA_H[:, 16]\n",
    "    k[:, 27, 8] = EA_HL_D2_3_2[:, 24]\n",
    "    k[:, 27, 9] = -EA_H2_D2_3_2[:, 24]\n",
    "    k[:, 27, 26] = -EA_HL_D2_3_2[:, 24]\n",
    "    k[:, 27, 27] = EA_H[:, 16] + EA_H2_D2_3_2[:, 24]\n",
    "    k[:, 28, 6] = -EA_L2_D2_3_2[:, 23]\n",
    "    k[:, 28, 7] = EA_HL_D2_3_2[:, 23]\n",
    "    k[:, 28, 26] = -EA_L[:, 12]\n",
    "    k[:, 28, 28] = EA_L[:, 12] + EA_L[:, 13] + EA_L2_D2_3_2[:, 23]\n",
    "    k[:, 28, 29] = -EA_HL_D2_3_2[:, 23]\n",
    "    k[:, 28, 30] = -EA_L[:, 13]\n",
    "    k[:, 29, 5] = -EA_H[:, 15]\n",
    "    k[:, 29, 6] = EA_HL_D2_3_2[:, 23]\n",
    "    k[:, 29, 7] = -EA_H2_D2_3_2[:, 23]\n",
    "    k[:, 29, 28] = -EA_HL_D2_3_2[:, 23]\n",
    "    k[:, 29, 29] = EA_H[:, 15] + EA_H2_D2_3_2[:, 23]\n",
    "    k[:, 30, 4] = -EA_L2_D2_3_2[:, 22]\n",
    "    k[:, 30, 5] = EA_HL_D2_3_2[:, 22]\n",
    "    k[:, 30, 28] = -EA_L[:, 13]\n",
    "    k[:, 30, 30] = EA_L[:, 13] + EA_L2_D2_3_2[:, 21] + EA_L2_D2_3_2[:, 22]\n",
    "    k[:, 30, 31] = EA_HL_D2_3_2[:, 21] - EA_HL_D2_3_2[:, 22]\n",
    "    k[:, 31, 3] = -EA_H[:, 14]\n",
    "    k[:, 31, 4] = EA_HL_D2_3_2[:, 22]\n",
    "    k[:, 31, 5] = -EA_H2_D2_3_2[:, 22]\n",
    "    k[:, 31, 30] = EA_HL_D2_3_2[:, 21] - EA_HL_D2_3_2[:, 22]\n",
    "    k[:, 31, 31] = EA_H[:, 14] + EA_H2_D2_3_2[:, 21] + EA_H2_D2_3_2[:, 22]\n",
    "\n",
    "    return k"
   ],
   "id": "fa88e4654594f54c",
   "outputs": [],
   "execution_count": 192
  },
  {
   "metadata": {
    "ExecuteTime": {
     "end_time": "2025-03-20T15:47:00.704977Z",
     "start_time": "2025-03-20T15:47:00.599344Z"
    }
   },
   "cell_type": "code",
   "source": [
    "size = 10_000\n",
    "dl = torch.utils.data.DataLoader(ds, batch_size=size, shuffle=False)\n",
    "x, ea, _, u, q = dl.__iter__().__next__()\n",
    "ea = ea.expand(-1, 29).to('mps')\n",
    "k_s = (int(ds.stiffness_matrix[0].__len__() ** .5),) * 2\n",
    "k = torch.tensor(ds.stiffness_matrix[:size].reshape((-1, *k_s)))\n",
    "k[k.abs() < .99] = 0.0"
   ],
   "id": "42ed4ec0381f918c",
   "outputs": [],
   "execution_count": 199
  },
  {
   "metadata": {
    "ExecuteTime": {
     "end_time": "2025-03-20T15:47:07.533962Z",
     "start_time": "2025-03-20T15:47:07.480235Z"
    }
   },
   "cell_type": "code",
   "source": "(k - pratt_stiffness_matrix(7.5, 7.5, ea)).abs().mean()/k.abs().mean()",
   "id": "9a49c5aa21b23f7b",
   "outputs": [
    {
     "data": {
      "text/plain": [
       "tensor(3.3153e-08, dtype=torch.float64)"
      ]
     },
     "execution_count": 218,
     "metadata": {},
     "output_type": "execute_result"
    }
   ],
   "execution_count": 218
  },
  {
   "metadata": {
    "ExecuteTime": {
     "end_time": "2025-03-17T13:30:53.365077Z",
     "start_time": "2025-03-17T13:30:53.361726Z"
    }
   },
   "cell_type": "code",
   "source": [
    "def f(n):\n",
    "    k_s = (int(ds.stiffness_matrix[n].__len__() ** .5),) * 2\n",
    "    k = ds.stiffness_matrix[n].reshape(k_s)\n",
    "    u = ds.nodes_displacement[n].reshape((-1, 1))\n",
    "    q = ds.load[n].reshape((-1, 1))\n",
    "\n",
    "    q_p = np.round(k @ u - q)\n",
    "    q_p[[1, 17], 0] = 0.\n",
    "    return q_p\n",
    "\n",
    "\n",
    "r = f(0)\n",
    "for i in range(1, 12):\n",
    "    r += f(i)\n",
    "r"
   ],
   "id": "31c2204a636f0305",
   "outputs": [
    {
     "data": {
      "text/plain": [
       "array([[0.],\n",
       "       [0.],\n",
       "       [0.],\n",
       "       [0.],\n",
       "       [0.],\n",
       "       [0.],\n",
       "       [0.],\n",
       "       [0.],\n",
       "       [0.],\n",
       "       [0.],\n",
       "       [0.],\n",
       "       [0.],\n",
       "       [0.],\n",
       "       [0.],\n",
       "       [0.],\n",
       "       [0.],\n",
       "       [0.],\n",
       "       [0.],\n",
       "       [0.],\n",
       "       [0.],\n",
       "       [0.],\n",
       "       [0.],\n",
       "       [0.],\n",
       "       [0.],\n",
       "       [0.],\n",
       "       [0.],\n",
       "       [0.],\n",
       "       [0.],\n",
       "       [0.],\n",
       "       [0.],\n",
       "       [0.],\n",
       "       [0.]])"
      ]
     },
     "execution_count": 20,
     "metadata": {},
     "output_type": "execute_result"
    }
   ],
   "execution_count": 20
  },
  {
   "metadata": {
    "ExecuteTime": {
     "end_time": "2025-03-17T13:37:50.171460Z",
     "start_time": "2025-03-17T13:37:50.167943Z"
    }
   },
   "cell_type": "code",
   "source": [
    "def g(n):\n",
    "    k_s = (int(ds.stiffness_matrix[n].__len__() ** .5),) * 2\n",
    "    k = ds.stiffness_matrix[n].reshape(k_s).astype(np.float64)\n",
    "    k /= ds[n][1]\n",
    "    k[[0, 1, 17], [0, 1, 17]] = 1\n",
    "    #k[k.abs() < 1e-9] = 0\n",
    "    return k"
   ],
   "id": "4b8bcb8896a7479c",
   "outputs": [],
   "execution_count": 42
  },
  {
   "metadata": {
    "ExecuteTime": {
     "end_time": "2025-03-17T13:37:50.279596Z",
     "start_time": "2025-03-17T13:37:50.276237Z"
    }
   },
   "cell_type": "code",
   "source": [
    "def u_from_x(x, n_panels=8):\n",
    "    batch_size = len(x)\n",
    "    u = torch.zeros((batch_size, 4 * n_panels))\n",
    "    u[:, 2:2 * n_panels + 1] = x[:, :2 * (n_panels - 1) + 1]\n",
    "    u[:, 2 * (n_panels + 1):] = x[:, 2 * (n_panels - 1) + 1:4 * n_panels - 3]\n",
    "    return u.unsqueeze(-1)\n",
    "\n",
    "\n",
    "def q_from_x_q(x, q, n_panels=8):\n",
    "    q = q.squeeze(-1)\n",
    "    q[:, np.arange(3, 2 * n_panels, 2)] = x[:, 4 * n_panels - 3: 5 * n_panels - 4]\n",
    "\n",
    "    return q.unsqueeze(-1)"
   ],
   "id": "7e4591f6da7fe9bf",
   "outputs": [],
   "execution_count": 43
  },
  {
   "metadata": {
    "ExecuteTime": {
     "end_time": "2025-03-17T13:37:50.420895Z",
     "start_time": "2025-03-17T13:37:50.417962Z"
    }
   },
   "cell_type": "code",
   "source": [
    "k_ref = g(0)\n",
    "k_ref = torch.unsqueeze(k_ref, 0).to(torch.float)"
   ],
   "id": "43d27cf49e81bfcd",
   "outputs": [],
   "execution_count": 44
  },
  {
   "metadata": {
    "ExecuteTime": {
     "end_time": "2025-03-17T13:37:50.746729Z",
     "start_time": "2025-03-17T13:37:50.744111Z"
    }
   },
   "cell_type": "code",
   "source": [
    "from losses import StiffnessToLoadLoss\n",
    "\n",
    "criterion = StiffnessToLoadLoss()"
   ],
   "id": "f23c134738fba717",
   "outputs": [],
   "execution_count": 45
  },
  {
   "metadata": {
    "ExecuteTime": {
     "end_time": "2025-03-17T13:37:51.074930Z",
     "start_time": "2025-03-17T13:37:51.070305Z"
    }
   },
   "cell_type": "code",
   "source": [
    "dl = torch.utils.data.DataLoader(ds, batch_size=100, shuffle=True)\n",
    "x, y, _, u, q = dl.__iter__().__next__()\n",
    "q[:, [0, 1, 17], :] = 0.\n",
    "\n",
    "k = k_ref * y.unsqueeze(-1)\n",
    "k[:, [0, 1, 17], [0, 1, 17]] = 1."
   ],
   "id": "f275e9dafb03f7a8",
   "outputs": [],
   "execution_count": 46
  },
  {
   "metadata": {
    "ExecuteTime": {
     "end_time": "2025-03-17T13:37:53.465221Z",
     "start_time": "2025-03-17T13:37:53.459899Z"
    }
   },
   "cell_type": "code",
   "source": "criterion(k * 1e-6, u_from_x(x, 8) * 1e3, q_from_x_q(x, q, 8) * 1e-3)",
   "id": "d75cd528ce26839c",
   "outputs": [
    {
     "data": {
      "text/plain": [
       "tensor(7.6334e-06)"
      ]
     },
     "execution_count": 49,
     "metadata": {},
     "output_type": "execute_result"
    }
   ],
   "execution_count": 49
  },
  {
   "metadata": {},
   "cell_type": "code",
   "outputs": [],
   "execution_count": null,
   "source": "",
   "id": "ddeb292f1634c731"
  }
 ],
 "metadata": {
  "kernelspec": {
   "display_name": "Python 3",
   "language": "python",
   "name": "python3"
  },
  "language_info": {
   "codemirror_mode": {
    "name": "ipython",
    "version": 2
   },
   "file_extension": ".py",
   "mimetype": "text/x-python",
   "name": "python",
   "nbconvert_exporter": "python",
   "pygments_lexer": "ipython2",
   "version": "2.7.6"
  }
 },
 "nbformat": 4,
 "nbformat_minor": 5
}
