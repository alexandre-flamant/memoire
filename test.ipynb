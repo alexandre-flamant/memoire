{
 "cells": [
  {
   "metadata": {
    "ExecuteTime": {
     "end_time": "2024-12-07T22:53:55.298097Z",
     "start_time": "2024-12-07T22:53:55.015620Z"
    }
   },
   "cell_type": "code",
   "source": [
    "from typing import Dict, Callable, Any\n",
    "\n",
    "from dataset2 import AbstractGenerator\n",
    "from structural.analysis import AbstractAnalysis\n",
    "from structural.structure.abstract_structure import AbstractStructure\n",
    "import numpy as np\n",
    "\n",
    "\n",
    "class G(AbstractGenerator):\n",
    "\n",
    "    @property\n",
    "    def default_config(self) -> Dict[str, Dict[str, str | int | float]]:\n",
    "        return {\n",
    "\n",
    "                'u': {\n",
    "                        'distribution': 'constant',\n",
    "                        'value': 0,\n",
    "                        },\n",
    "                'v': {\n",
    "                        'distribution': 'constant',\n",
    "                        'value': 1,\n",
    "                        },\n",
    "                'x': {\n",
    "                        'distribution': 'constant',\n",
    "                        'value': 2,\n",
    "                        },\n",
    "                'y': {\n",
    "                        'distribution': 'constant',\n",
    "                        'value': 3,\n",
    "                        },\n",
    "                'z': {\n",
    "                        'distribution': 'constant',\n",
    "                        'value': 4,\n",
    "                        },\n",
    "                }\n",
    "\n",
    "    @property\n",
    "    def structure(self) -> AbstractStructure:\n",
    "        pass\n",
    "\n",
    "    @property\n",
    "    def analysis(self) -> AbstractAnalysis:\n",
    "        pass\n",
    "\n",
    "    def construct_result(self, params: Dict[str, float | int]) -> Dict[str, float]:\n",
    "        pass\n",
    "\n",
    "\n",
    "g = G(\n",
    "        {'n_sample': 3,\n",
    "         'parameters': {\n",
    "                 'test': {\n",
    "                         'distribution': 'normal',\n",
    "                         'mean': 5,\n",
    "                         'std': 8,\n",
    "                         },\n",
    "                 'x': {\n",
    "                         'distribution': 'constant',\n",
    "                         'value': -2,\n",
    "                         }\n",
    "                 ,\n",
    "                 'y': {\"shared_with\": 'test'},\n",
    "                 'z': {\"shared_with\": 'test'},\n",
    "                 }\n",
    "         }\n",
    "        )\n",
    "for _ in g.__iter__():\n",
    "    pass"
   ],
   "id": "fb3639689267e9e2",
   "outputs": [
    {
     "name": "stdout",
     "output_type": "stream",
     "text": [
      "{'u': {'distribution': 'constant', 'value': 0}, 'v': {'distribution': 'constant', 'value': 1}, 'x': {'distribution': 'constant', 'value': 2}, 'y': {'distribution': 'constant', 'value': 3}, 'z': {'distribution': 'constant', 'value': 4}}\n",
      "{'test': {'distribution': 'normal', 'mean': 5, 'std': 8}, 'x': {'distribution': 'constant', 'value': -2}, 'y': {'shared_with': 'test'}, 'z': {'shared_with': 'test'}}\n",
      "{'u': {'distribution': 'constant', 'value': 0}, 'v': {'distribution': 'constant', 'value': 1}, 'x': {'distribution': 'constant', 'value': -2}, 'y': {'shared_with': 'test'}, 'z': {'shared_with': 'test'}, 'test': {'distribution': 'normal', 'mean': 5, 'std': 8}}\n",
      "{'u': <function AbstractGenerator.get_distribution.<locals>.<lambda> at 0x000001F96F9F5300>, 'v': <function AbstractGenerator.get_distribution.<locals>.<lambda> at 0x000001F96F9F53A0>, 'x': <function AbstractGenerator.get_distribution.<locals>.<lambda> at 0x000001F96F9F5440>, 'test': <function AbstractGenerator.get_distribution.<locals>.<lambda> at 0x000001F96F9F54E0>}\n",
      "{'u': 0.0, 'y': 5.001966506399359, 'x': -2.0, 'z': 5.001966506399359, 'v': 1.0}\n",
      "{'u': 0.0, 'y': -6.846020569831781, 'x': -2.0, 'z': -6.846020569831781, 'v': 1.0}\n",
      "{'u': 0.0, 'y': 4.17988143167691, 'x': -2.0, 'z': 4.17988143167691, 'v': 1.0}\n"
     ]
    }
   ],
   "execution_count": 1
  },
  {
   "cell_type": "code",
   "id": "initial_id",
   "metadata": {
    "collapsed": true,
    "ExecuteTime": {
     "end_time": "2024-12-06T23:59:49.816385Z",
     "start_time": "2024-12-06T23:59:49.813438Z"
    }
   },
   "source": [
    "import openseespy.opensees as ops\n",
    "import numpy as np\n",
    "from dataset.generation.generator import StructuralDatasetGenerator"
   ],
   "outputs": [],
   "execution_count": 107
  },
  {
   "metadata": {
    "ExecuteTime": {
     "end_time": "2024-12-07T00:00:07.383676Z",
     "start_time": "2024-12-07T00:00:07.380066Z"
    }
   },
   "cell_type": "code",
   "source": [
    "def loads():\n",
    "    n_dof = 2\n",
    "    n_nodes = 5\n",
    "\n",
    "    q = np.zeros(n_dof*n_nodes)\n",
    "    idx_nodes = ops.getNodeLoadTags()\n",
    "    load_data = ops.getNodeLoadData()\n",
    "\n",
    "    for i, idx in enumerate(idx_nodes):\n",
    "        # Map the index based on the number of degrees of freedom\n",
    "        i *= n_dof\n",
    "        idx *= n_dof\n",
    "\n",
    "        # Update the data\n",
    "        q[idx:idx + n_dof] = load_data[i:i + n_dof]\n",
    "\n",
    "    return q"
   ],
   "id": "d11fee56ce23e9f5",
   "outputs": [],
   "execution_count": 110
  },
  {
   "metadata": {
    "ExecuteTime": {
     "end_time": "2024-12-07T00:00:07.785183Z",
     "start_time": "2024-12-07T00:00:07.781076Z"
    }
   },
   "cell_type": "code",
   "source": "loads()",
   "id": "8e7a641f050da479",
   "outputs": [
    {
     "data": {
      "text/plain": [
       "array([         0.,          0.,          0.,          0.,          0.,          0.,   -3.00e+04,          0.,          0.,    5.00e+04])"
      ]
     },
     "execution_count": 111,
     "metadata": {},
     "output_type": "execute_result"
    }
   ],
   "execution_count": 111
  },
  {
   "metadata": {
    "ExecuteTime": {
     "end_time": "2024-12-06T23:46:28.657226Z",
     "start_time": "2024-12-06T23:46:28.652702Z"
    }
   },
   "cell_type": "code",
   "source": "ops.getNodeLoadData()",
   "id": "ae392203144209bc",
   "outputs": [
    {
     "data": {
      "text/plain": [
       "[-30000.0, 0.0, 0.0, 50000.0]"
      ]
     },
     "execution_count": 94,
     "metadata": {},
     "output_type": "execute_result"
    }
   ],
   "execution_count": 94
  },
  {
   "metadata": {
    "ExecuteTime": {
     "end_time": "2024-12-06T23:55:31.794925Z",
     "start_time": "2024-12-06T23:55:31.787933Z"
    }
   },
   "cell_type": "code",
   "source": "ops.getNodeLoadTags()",
   "id": "28ab9d306c7d0af9",
   "outputs": [
    {
     "data": {
      "text/plain": [
       "[3, 4]"
      ]
     },
     "execution_count": 99,
     "metadata": {},
     "output_type": "execute_result"
    }
   ],
   "execution_count": 99
  },
  {
   "metadata": {
    "ExecuteTime": {
     "end_time": "2024-12-06T23:38:17.269168Z",
     "start_time": "2024-12-06T23:38:17.264426Z"
    }
   },
   "cell_type": "code",
   "source": "ops.basicForce(0)",
   "id": "304de85127a1254b",
   "outputs": [
    {
     "data": {
      "text/plain": [
       "[24999.999999999996]"
      ]
     },
     "execution_count": 86,
     "metadata": {},
     "output_type": "execute_result"
    }
   ],
   "execution_count": 86
  },
  {
   "metadata": {
    "ExecuteTime": {
     "end_time": "2024-12-06T23:38:07.865901Z",
     "start_time": "2024-12-06T23:38:07.856200Z"
    }
   },
   "cell_type": "code",
   "source": [
    "ops.wipe()\n",
    "\n",
    "# set modelbuilder\n",
    "ops.model('basic', '-ndm', 2, '-ndf', 2)\n",
    "\n",
    "ops.node(0, 0., 0.)\n",
    "ops.node(1, 0., 2.)\n",
    "ops.node(2, 2., 0.)\n",
    "ops.node(3, 2., 2.)\n",
    "ops.node(4, 4., 0.)\n",
    "\n",
    "ops.fix(0, 1, 1)\n",
    "ops.fix(1, 1, 1)\n",
    "ops.fix(4, 1, 0)\n",
    "\n",
    "ops.uniaxialMaterial(\"Elastic\", 1, 150.0e6)\n",
    "\n",
    "ops.element(\"Truss\", 0, 0, 2, 1.0, 1)\n",
    "ops.element(\"Truss\", 1, 2, 4, 1.0, 1)\n",
    "ops.element(\"Truss\", 2, 1, 3, 1.0, 1)\n",
    "ops.element(\"Truss\", 3, 2, 3, 1.0, 1)\n",
    "ops.element(\"Truss\", 4, 1, 2, 1.0, 1)\n",
    "ops.element(\"Truss\", 5, 3, 4, 1.0, 1)\n",
    "\n",
    "# create TimeSeries\n",
    "ops.timeSeries(\"Linear\", 1)\n",
    "\n",
    "# create a plain load pattern\n",
    "ops.pattern(\"Plain\", 1, 1)\n",
    "\n",
    "ops.load(3, -30.0e3, 0.0)\n",
    "ops.load(4, 0.0, 50.0e3)\n",
    "\n",
    "# create SOE\n",
    "ops.system(\"BandSPD\")\n",
    "\n",
    "# create DOF number\n",
    "ops.numberer(\"RCM\")\n",
    "\n",
    "# create constraint handler\n",
    "ops.constraints(\"Plain\")\n",
    "\n",
    "# create integrator\n",
    "ops.integrator(\"LoadControl\", 1.0)\n",
    "\n",
    "# create algorithm\n",
    "ops.algorithm(\"Linear\")\n",
    "\n",
    "# create analysis object\n",
    "ops.analysis(\"Static\")\n",
    "\n",
    "# perform the analysis\n",
    "ops.analyze(1)"
   ],
   "id": "29c717f047c9a6f8",
   "outputs": [
    {
     "data": {
      "text/plain": [
       "0"
      ]
     },
     "execution_count": 79,
     "metadata": {},
     "output_type": "execute_result"
    }
   ],
   "execution_count": 79
  },
  {
   "metadata": {
    "ExecuteTime": {
     "end_time": "2024-12-06T23:38:07.990623Z",
     "start_time": "2024-12-06T23:38:07.986315Z"
    }
   },
   "cell_type": "code",
   "source": "ops.nodeCoord(0)",
   "id": "66b7bd22b589117c",
   "outputs": [
    {
     "data": {
      "text/plain": [
       "[0.0, 0.0]"
      ]
     },
     "execution_count": 80,
     "metadata": {},
     "output_type": "execute_result"
    }
   ],
   "execution_count": 80
  },
  {
   "metadata": {
    "ExecuteTime": {
     "end_time": "2024-12-06T23:38:08.161908Z",
     "start_time": "2024-12-06T23:38:08.157206Z"
    }
   },
   "cell_type": "code",
   "source": "ops.eleNodes(0)",
   "id": "cd6fd28ec227557c",
   "outputs": [
    {
     "data": {
      "text/plain": [
       "[0, 2]"
      ]
     },
     "execution_count": 81,
     "metadata": {},
     "output_type": "execute_result"
    }
   ],
   "execution_count": 81
  },
  {
   "metadata": {
    "ExecuteTime": {
     "end_time": "2024-12-06T23:38:08.457510Z",
     "start_time": "2024-12-06T23:38:08.451321Z"
    }
   },
   "cell_type": "code",
   "source": [
    "def _get_r(a):\n",
    "    '''Compute member rotation matrix'''\n",
    "    c = np.cos(a)\n",
    "    s = np.sin(a)\n",
    "    return np.array(\n",
    "            [[c, s, 0, 0],\n",
    "             [-s, c, 0, 0],\n",
    "             [0, 0, c, s],\n",
    "             [0, 0, -s, c]]\n",
    "            )\n",
    "\n",
    "\n",
    "def _get_k_loc(idx):\n",
    "    '''Compute the local element matrix'''\n",
    "    return ops.basicStiffness(idx)*np.array(\n",
    "            [[1, 0, -1, 0],\n",
    "             [0, 0, 0, 0],\n",
    "             [-1, 0, 1, 0],\n",
    "             [0, 0, 0, 0]]\n",
    "            )\n",
    "\n",
    "\n",
    "def _get_k_global(k_loc, angle):\n",
    "    '''Compute the global element matrix'''\n",
    "    r = _get_r(angle)\n",
    "    return r.T@k_loc@r"
   ],
   "id": "742acfd094f5c340",
   "outputs": [],
   "execution_count": 82
  },
  {
   "metadata": {
    "ExecuteTime": {
     "end_time": "2024-12-06T23:38:08.785545Z",
     "start_time": "2024-12-06T23:38:08.780039Z"
    }
   },
   "cell_type": "code",
   "source": [
    "def get_K(ndof=2):\n",
    "    '''Compute the global structural matrix'''\n",
    "    # Parameters\n",
    "    nodes = np.array([ops.nodeCoord(i) for i in ops.getNodeTags()], dtype=int)\n",
    "    elems = np.array([ops.eleNodes(i) for i in ops.getEleTags()])\n",
    "\n",
    "    elems_vec = np.array([nodes[e] - nodes[s] for s, e in elems])\n",
    "    elems_angle = np.array([np.arctan2(*v[::-1]) - np.arctan2(0, 1) for v in elems_vec])\n",
    "\n",
    "    # Stiffness matrix\n",
    "    K = np.zeros((ndof*len(ops.getNodeTags()), ndof*len(ops.getNodeTags())))\n",
    "    for idx in range(len(elems)):\n",
    "        # Get element stiffness matrix\n",
    "        s_i, e_i = elems[idx]*ndof\n",
    "        angle = elems_angle[idx]\n",
    "\n",
    "        k_loc = _get_k_loc(idx)\n",
    "        k_glob = _get_k_global(k_loc, angle)\n",
    "\n",
    "        # Assemble global stiffness matrix\n",
    "        K[s_i: s_i + ndof, s_i: s_i + ndof] += k_glob[0:2, 0:2]\n",
    "        K[e_i: e_i + ndof, e_i: e_i + ndof] += k_glob[2:4, 2:4]\n",
    "        K[s_i: s_i + ndof, e_i: e_i + ndof] += k_glob[0:2, 2:4]\n",
    "        K[e_i: e_i + ndof, s_i: s_i + ndof] += k_glob[2:4, 0:2]\n",
    "\n",
    "    # Boundary condition\n",
    "    for idx in range(len(nodes)):\n",
    "        for i in ops.getFixedDOFs(idx):\n",
    "            dof = ndof*idx + i - 1  # OSP indices starts at 1\n",
    "\n",
    "            K[dof, :] = 0.\n",
    "            K[:, dof] = 0.\n",
    "            K[dof, dof] = 1.\n",
    "\n",
    "    return K"
   ],
   "id": "d9205a1cf13a3eff",
   "outputs": [],
   "execution_count": 83
  },
  {
   "metadata": {
    "ExecuteTime": {
     "end_time": "2024-12-06T23:38:09.117492Z",
     "start_time": "2024-12-06T23:38:09.112350Z"
    }
   },
   "cell_type": "code",
   "source": [
    "k = get_K()\n",
    "u = np.reshape([u for i in range(5) for u in ops.nodeDisp(i)], (10, 1))"
   ],
   "id": "2863c4b86168ac14",
   "outputs": [],
   "execution_count": 84
  },
  {
   "metadata": {
    "ExecuteTime": {
     "end_time": "2024-12-06T23:38:09.755127Z",
     "start_time": "2024-12-06T23:38:09.751136Z"
    }
   },
   "cell_type": "code",
   "source": "1000*u",
   "id": "5a6680269da68954",
   "outputs": [
    {
     "data": {
      "text/plain": [
       "array([[         0.],\n",
       "       [         0.],\n",
       "       [         0.],\n",
       "       [         0.],\n",
       "       [   3.33e-01],\n",
       "       [   2.22e+00],\n",
       "       [  -1.07e+00],\n",
       "       [   2.89e+00],\n",
       "       [         0.],\n",
       "       [   5.84e+00]])"
      ]
     },
     "execution_count": 85,
     "metadata": {},
     "output_type": "execute_result"
    }
   ],
   "execution_count": 85
  },
  {
   "metadata": {
    "ExecuteTime": {
     "end_time": "2024-12-06T22:06:04.797576Z",
     "start_time": "2024-12-06T22:06:04.793580Z"
    }
   },
   "cell_type": "code",
   "source": "np.round(k@u)",
   "id": "15335fd0a63b289f",
   "outputs": [
    {
     "data": {
      "text/plain": [
       "array([[         0.],\n",
       "       [         0.],\n",
       "       [         0.],\n",
       "       [         0.],\n",
       "       [         0.],\n",
       "       [         0.],\n",
       "       [  -3.00e+04],\n",
       "       [         0.],\n",
       "       [         0.],\n",
       "       [   5.00e+04]])"
      ]
     },
     "execution_count": 71,
     "metadata": {},
     "output_type": "execute_result"
    }
   ],
   "execution_count": 71
  },
  {
   "metadata": {
    "ExecuteTime": {
     "end_time": "2024-12-06T22:05:32.001943Z",
     "start_time": "2024-12-06T22:05:31.998801Z"
    }
   },
   "cell_type": "code",
   "source": "print(get_K()/75e6)",
   "id": "62d47a213926cbc0",
   "outputs": [
    {
     "name": "stdout",
     "output_type": "stream",
     "text": [
      "[[        ~0.          0.          0.          0.          0.          0.          0.          0.          0.          0.]\n",
      " [         0.         ~0.          0.          0.          0.          0.          0.          0.          0.          0.]\n",
      " [         0.          0.         ~0.          0.          0.          0.          0.          0.          0.          0.]\n",
      " [         0.          0.          0.         ~0.          0.          0.          0.          0.          0.          0.]\n",
      " [         0.          0.          0.          0.    2.35e+00   -3.54e-01         ~0.         ~0.          0.          0.]\n",
      " [         0.          0.          0.          0.   -3.54e-01    1.35e+00         ~0.   -1.00e+00          0.          0.]\n",
      " [         0.          0.          0.          0.         ~0.         ~0.    1.35e+00   -3.54e-01          0.    3.54e-01]\n",
      " [         0.          0.          0.          0.         ~0.   -1.00e+00   -3.54e-01    1.35e+00          0.   -3.54e-01]\n",
      " [         0.          0.          0.          0.          0.          0.          0.          0.         ~0.          0.]\n",
      " [         0.          0.          0.          0.          0.          0.    3.54e-01   -3.54e-01          0.    3.54e-01]]\n"
     ]
    }
   ],
   "execution_count": 68
  },
  {
   "metadata": {
    "ExecuteTime": {
     "end_time": "2024-12-06T21:58:39.608461Z",
     "start_time": "2024-12-06T21:58:39.605840Z"
    }
   },
   "cell_type": "code",
   "source": [
    "for i in range(5):\n",
    "    print(ops.nodeDisp(i))"
   ],
   "id": "98fe23ed71fb6aab",
   "outputs": [
    {
     "name": "stdout",
     "output_type": "stream",
     "text": [
      "[0.0, 0.0]\n",
      "[0.0, 0.0]\n",
      "[-0.00033333333333333327, 0.00221895141649746]\n",
      "[0.00026666666666666625, 0.0028856180831641266]\n",
      "[0.0, 0.00503790283299492]\n"
     ]
    }
   ],
   "execution_count": 34
  },
  {
   "metadata": {},
   "cell_type": "code",
   "outputs": [],
   "execution_count": null,
   "source": "",
   "id": "30ddaebedfe25f6d"
  }
 ],
 "metadata": {
  "kernelspec": {
   "display_name": "Python 3",
   "language": "python",
   "name": "python3"
  },
  "language_info": {
   "codemirror_mode": {
    "name": "ipython",
    "version": 2
   },
   "file_extension": ".py",
   "mimetype": "text/x-python",
   "name": "python",
   "nbconvert_exporter": "python",
   "pygments_lexer": "ipython2",
   "version": "2.7.6"
  }
 },
 "nbformat": 4,
 "nbformat_minor": 5
}
