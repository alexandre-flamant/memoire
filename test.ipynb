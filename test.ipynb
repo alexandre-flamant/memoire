{
 "cells": [
  {
   "cell_type": "code",
   "id": "initial_id",
   "metadata": {
    "collapsed": true,
    "ExecuteTime": {
     "end_time": "2024-12-06T21:44:55.975770Z",
     "start_time": "2024-12-06T21:44:55.972364Z"
    }
   },
   "source": [
    "import openseespy.opensees as osp\n",
    "import numpy as np\n",
    "from dataset.generation.generator import StructuralDatasetGenerator"
   ],
   "outputs": [],
   "execution_count": 14
  },
  {
   "metadata": {
    "ExecuteTime": {
     "end_time": "2024-12-06T22:03:30.090969Z",
     "start_time": "2024-12-06T22:03:30.084522Z"
    }
   },
   "cell_type": "code",
   "source": [
    "osp.wipe()\n",
    "\n",
    "# set modelbuilder\n",
    "osp.model('basic', '-ndm', 2, '-ndf', 2)\n",
    "\n",
    "osp.node(0, 0., 0.)\n",
    "osp.node(1, 0., 2.)\n",
    "osp.node(2, 2., 0.)\n",
    "osp.node(3, 2., 2.)\n",
    "osp.node(4, 4., 0.)\n",
    "\n",
    "osp.fix(0, 1, 1)\n",
    "osp.fix(1, 1, 1)\n",
    "osp.fix(4, 1, 0)\n",
    "\n",
    "osp.uniaxialMaterial(\"Elastic\", 1, 150.0e6)\n",
    "\n",
    "osp.element(\"Truss\", 0, 0, 2, 1.0, 1)\n",
    "osp.element(\"Truss\", 1, 2, 4, 1.0, 1)\n",
    "osp.element(\"Truss\", 2, 1, 3, 1.0, 1)\n",
    "osp.element(\"Truss\", 3, 2, 3, 1.0, 1)\n",
    "osp.element(\"Truss\", 4, 1, 2, 1.0, 1)\n",
    "osp.element(\"Truss\", 5, 3, 4, 1.0, 1)\n",
    "\n",
    "# create TimeSeries\n",
    "osp.timeSeries(\"Linear\", 1)\n",
    "\n",
    "# create a plain load pattern\n",
    "osp.pattern(\"Plain\", 1, 1)\n",
    "\n",
    "osp.load(3, -30.0e3, 0.0)\n",
    "osp.load(4, 0.0, 50.0e3)\n",
    "\n",
    "# create SOE\n",
    "osp.system(\"BandSPD\")\n",
    "\n",
    "# create DOF number\n",
    "osp.numberer(\"RCM\")\n",
    "\n",
    "# create constraint handler\n",
    "osp.constraints(\"Plain\")\n",
    "\n",
    "# create integrator\n",
    "osp.integrator(\"LoadControl\", 1.0)\n",
    "\n",
    "# create algorithm\n",
    "osp.algorithm(\"Linear\")\n",
    "\n",
    "# create analysis object\n",
    "osp.analysis(\"Static\")\n",
    "\n",
    "# perform the analysis\n",
    "osp.analyze(1)"
   ],
   "id": "29c717f047c9a6f8",
   "outputs": [
    {
     "data": {
      "text/plain": [
       "0"
      ]
     },
     "execution_count": 42,
     "metadata": {},
     "output_type": "execute_result"
    }
   ],
   "execution_count": 42
  },
  {
   "metadata": {
    "ExecuteTime": {
     "end_time": "2024-12-06T22:05:25.422769Z",
     "start_time": "2024-12-06T22:05:25.417688Z"
    }
   },
   "cell_type": "code",
   "source": [
    "def _get_r(a):\n",
    "    '''Compute member rotation matrix'''\n",
    "    c = np.cos(a)\n",
    "    s = np.sin(a)\n",
    "    return np.array([[c, s, 0, 0],\n",
    "                     [-s, c, 0, 0],\n",
    "                     [0, 0, c, s],\n",
    "                     [0, 0, -s, c]])\n",
    "\n",
    "def _get_k_loc(idx):\n",
    "    '''Compute the local element matrix'''\n",
    "    return osp.basicStiffness(idx) * np.array([[1, 0, -1, 0],\n",
    "                                               [0, 0, 0, 0],\n",
    "                                               [-1, 0, 1, 0],\n",
    "                                               [0, 0, 0, 0]])\n",
    "\n",
    "def _get_k_global(k_loc, angle):\n",
    "    '''Compute the global element matrix'''\n",
    "    r = _get_r(angle)\n",
    "    return r.T @ k_loc @ r"
   ],
   "id": "742acfd094f5c340",
   "outputs": [],
   "execution_count": 63
  },
  {
   "metadata": {
    "ExecuteTime": {
     "end_time": "2024-12-06T22:05:25.759778Z",
     "start_time": "2024-12-06T22:05:25.751682Z"
    }
   },
   "cell_type": "code",
   "source": [
    "def get_K(ndof=2):\n",
    "    '''Compute the global structure matrix'''\n",
    "    # Parameters\n",
    "    nodes = np.array([osp.nodeCoord(i) for i in osp.getNodeTags()], dtype=int)\n",
    "    elems = np.array([osp.eleNodes(i) for i in osp.getEleTags()])\n",
    "\n",
    "    elems_vec = np.array([nodes[e] - nodes[s] for s, e in elems])\n",
    "    elems_angle = np.array([np.arctan2(*v[::-1]) - np.arctan2(0, 1) for v in elems_vec])\n",
    "\n",
    "    # Stiffness matrix\n",
    "    K = np.zeros((ndof * len(osp.getNodeTags()), ndof * len(osp.getNodeTags())))\n",
    "    for idx in range(len(elems)):\n",
    "        # Get element stiffness matrix\n",
    "        s_i, e_i = elems[idx] * ndof\n",
    "        angle = elems_angle[idx]\n",
    "\n",
    "        k_loc = _get_k_loc(idx)\n",
    "        k_glob = _get_k_global(k_loc, angle)\n",
    "\n",
    "        # Assemble global stiffness matrix\n",
    "        K[s_i: s_i + ndof, s_i: s_i + ndof] += k_glob[0:2, 0:2]\n",
    "        K[e_i: e_i + ndof, e_i: e_i + ndof] += k_glob[2:4, 2:4]\n",
    "        K[s_i: s_i + ndof, e_i: e_i + ndof] += k_glob[0:2, 2:4]\n",
    "        K[e_i: e_i + ndof, s_i: s_i + ndof] += k_glob[2:4, 0:2]\n",
    "\n",
    "    # Boundary condition\n",
    "    for idx in range(len(nodes)):\n",
    "        for i in osp.getFixedDOFs(idx):\n",
    "            dof = ndof * idx + i - 1  # OSP indices starts at 1\n",
    "\n",
    "            K[dof, :] = 0.\n",
    "            K[:, dof] = 0.\n",
    "            K[dof, dof] = 1.\n",
    "\n",
    "    return K"
   ],
   "id": "d9205a1cf13a3eff",
   "outputs": [],
   "execution_count": 64
  },
  {
   "metadata": {
    "ExecuteTime": {
     "end_time": "2024-12-06T22:05:26.709794Z",
     "start_time": "2024-12-06T22:05:26.706323Z"
    }
   },
   "cell_type": "code",
   "source": [
    "k = get_K()\n",
    "u = np.reshape([u for i in range(5) for u in osp.nodeDisp(i)], (10,1))"
   ],
   "id": "2863c4b86168ac14",
   "outputs": [],
   "execution_count": 65
  },
  {
   "metadata": {
    "ExecuteTime": {
     "end_time": "2024-12-06T22:05:27.183830Z",
     "start_time": "2024-12-06T22:05:27.180776Z"
    }
   },
   "cell_type": "code",
   "source": "1000*u",
   "id": "5a6680269da68954",
   "outputs": [
    {
     "data": {
      "text/plain": [
       "array([[         0.],\n",
       "       [         0.],\n",
       "       [         0.],\n",
       "       [         0.],\n",
       "       [   3.33e-01],\n",
       "       [   2.22e+00],\n",
       "       [  -1.07e+00],\n",
       "       [   2.89e+00],\n",
       "       [         0.],\n",
       "       [   5.84e+00]])"
      ]
     },
     "execution_count": 66,
     "metadata": {},
     "output_type": "execute_result"
    }
   ],
   "execution_count": 66
  },
  {
   "metadata": {
    "ExecuteTime": {
     "end_time": "2024-12-06T22:06:04.797576Z",
     "start_time": "2024-12-06T22:06:04.793580Z"
    }
   },
   "cell_type": "code",
   "source": "np.round(k@u)",
   "id": "15335fd0a63b289f",
   "outputs": [
    {
     "data": {
      "text/plain": [
       "array([[         0.],\n",
       "       [         0.],\n",
       "       [         0.],\n",
       "       [         0.],\n",
       "       [         0.],\n",
       "       [         0.],\n",
       "       [  -3.00e+04],\n",
       "       [         0.],\n",
       "       [         0.],\n",
       "       [   5.00e+04]])"
      ]
     },
     "execution_count": 71,
     "metadata": {},
     "output_type": "execute_result"
    }
   ],
   "execution_count": 71
  },
  {
   "metadata": {
    "ExecuteTime": {
     "end_time": "2024-12-06T22:05:32.001943Z",
     "start_time": "2024-12-06T22:05:31.998801Z"
    }
   },
   "cell_type": "code",
   "source": "print(get_K() / 75e6)",
   "id": "62d47a213926cbc0",
   "outputs": [
    {
     "name": "stdout",
     "output_type": "stream",
     "text": [
      "[[        ~0.          0.          0.          0.          0.          0.          0.          0.          0.          0.]\n",
      " [         0.         ~0.          0.          0.          0.          0.          0.          0.          0.          0.]\n",
      " [         0.          0.         ~0.          0.          0.          0.          0.          0.          0.          0.]\n",
      " [         0.          0.          0.         ~0.          0.          0.          0.          0.          0.          0.]\n",
      " [         0.          0.          0.          0.    2.35e+00   -3.54e-01         ~0.         ~0.          0.          0.]\n",
      " [         0.          0.          0.          0.   -3.54e-01    1.35e+00         ~0.   -1.00e+00          0.          0.]\n",
      " [         0.          0.          0.          0.         ~0.         ~0.    1.35e+00   -3.54e-01          0.    3.54e-01]\n",
      " [         0.          0.          0.          0.         ~0.   -1.00e+00   -3.54e-01    1.35e+00          0.   -3.54e-01]\n",
      " [         0.          0.          0.          0.          0.          0.          0.          0.         ~0.          0.]\n",
      " [         0.          0.          0.          0.          0.          0.    3.54e-01   -3.54e-01          0.    3.54e-01]]\n"
     ]
    }
   ],
   "execution_count": 68
  },
  {
   "metadata": {
    "ExecuteTime": {
     "end_time": "2024-12-06T21:58:39.608461Z",
     "start_time": "2024-12-06T21:58:39.605840Z"
    }
   },
   "cell_type": "code",
   "source": [
    "for i in range(5):\n",
    "    print(osp.nodeDisp(i))"
   ],
   "id": "98fe23ed71fb6aab",
   "outputs": [
    {
     "name": "stdout",
     "output_type": "stream",
     "text": [
      "[0.0, 0.0]\n",
      "[0.0, 0.0]\n",
      "[-0.00033333333333333327, 0.00221895141649746]\n",
      "[0.00026666666666666625, 0.0028856180831641266]\n",
      "[0.0, 0.00503790283299492]\n"
     ]
    }
   ],
   "execution_count": 34
  },
  {
   "metadata": {},
   "cell_type": "code",
   "outputs": [],
   "execution_count": null,
   "source": "",
   "id": "30ddaebedfe25f6d"
  }
 ],
 "metadata": {
  "kernelspec": {
   "display_name": "Python 3",
   "language": "python",
   "name": "python3"
  },
  "language_info": {
   "codemirror_mode": {
    "name": "ipython",
    "version": 2
   },
   "file_extension": ".py",
   "mimetype": "text/x-python",
   "name": "python",
   "nbconvert_exporter": "python",
   "pygments_lexer": "ipython2",
   "version": "2.7.6"
  }
 },
 "nbformat": 4,
 "nbformat_minor": 5
}
