{
 "cells": [
  {
   "metadata": {
    "ExecuteTime": {
     "end_time": "2025-03-11T14:58:03.338847Z",
     "start_time": "2025-03-11T14:58:03.281713Z"
    }
   },
   "cell_type": "code",
   "source": [
    "import numpy as np\n",
    "\n",
    "from default import PROJECT_HOME\n",
    "%cd {PROJECT_HOME}"
   ],
   "id": "5a0c981e0c451e56",
   "outputs": [
    {
     "name": "stdout",
     "output_type": "stream",
     "text": [
      "/Users/aflamant/Documents/courses/2024-2025/mémoire/03-code/memoire\n"
     ]
    }
   ],
   "execution_count": 1
  },
  {
   "metadata": {
    "ExecuteTime": {
     "end_time": "2025-03-11T15:01:18.287454Z",
     "start_time": "2025-03-11T15:01:14.213878Z"
    }
   },
   "cell_type": "code",
   "source": [
    "from dataset import FixedPrattTrussDatasetSingleTarget\n",
    "import torch\n",
    "import numpy as np\n",
    "\n",
    "ds = FixedPrattTrussDatasetSingleTarget('data/dataset/pratt_truss_bridge/single_ea/train_100000.hdf5')"
   ],
   "id": "627a3613709c2a98",
   "outputs": [],
   "execution_count": 87
  },
  {
   "metadata": {
    "ExecuteTime": {
     "end_time": "2025-03-11T15:01:19.697928Z",
     "start_time": "2025-03-11T15:01:19.692518Z"
    }
   },
   "cell_type": "code",
   "source": [
    "def f(n):\n",
    "    k_s = (int(ds.stiffness_matrix[n].__len__() ** .5),) * 2\n",
    "    k = ds.stiffness_matrix[n].reshape(k_s)\n",
    "    u = ds.nodes_displacement[n].reshape((-1, 1))\n",
    "    q = ds.load[n].reshape((-1, 1))\n",
    "\n",
    "    q_p = np.round(k @ u - q)\n",
    "    q_p[[1, 17], 0] = 0.\n",
    "    return q_p\n",
    "\n",
    "\n",
    "r = f(0)\n",
    "for i in range(1, 12):\n",
    "    r += f(i)\n",
    "r"
   ],
   "id": "31c2204a636f0305",
   "outputs": [
    {
     "data": {
      "text/plain": [
       "array([[0.],\n",
       "       [0.],\n",
       "       [0.],\n",
       "       [0.],\n",
       "       [0.],\n",
       "       [0.],\n",
       "       [0.],\n",
       "       [0.],\n",
       "       [0.],\n",
       "       [0.],\n",
       "       [0.],\n",
       "       [0.],\n",
       "       [0.],\n",
       "       [0.],\n",
       "       [0.],\n",
       "       [0.],\n",
       "       [0.],\n",
       "       [0.],\n",
       "       [0.],\n",
       "       [0.],\n",
       "       [0.],\n",
       "       [0.],\n",
       "       [0.],\n",
       "       [0.],\n",
       "       [0.],\n",
       "       [0.],\n",
       "       [0.],\n",
       "       [0.],\n",
       "       [0.],\n",
       "       [0.],\n",
       "       [0.],\n",
       "       [0.]])"
      ]
     },
     "execution_count": 88,
     "metadata": {},
     "output_type": "execute_result"
    }
   ],
   "execution_count": 88
  },
  {
   "metadata": {
    "ExecuteTime": {
     "end_time": "2025-03-11T15:51:28.678158Z",
     "start_time": "2025-03-11T15:51:28.674548Z"
    }
   },
   "cell_type": "code",
   "source": [
    "def g(n):\n",
    "    k_s = (int(ds.stiffness_matrix[n].__len__() ** .5),) * 2\n",
    "    k = ds.stiffness_matrix[n].reshape(k_s).astype(np.float64)\n",
    "    k /= ds[n][1]\n",
    "    k[[0, 1, 17], [0, 1, 17]] = 1\n",
    "    k[k.abs() < 1e-9] = 0\n",
    "    return k"
   ],
   "id": "4b8bcb8896a7479c",
   "outputs": [],
   "execution_count": 180
  },
  {
   "metadata": {
    "ExecuteTime": {
     "end_time": "2025-03-11T15:51:28.997797Z",
     "start_time": "2025-03-11T15:51:28.994965Z"
    }
   },
   "cell_type": "code",
   "source": [
    "def u_from_x(x, batch_size=100, n_panels=8):\n",
    "    u = torch.zeros((batch_size, 4 * n_panels))\n",
    "    u[:, 2:2 * n_panels + 1] = x[:, :2 * (n_panels - 1) + 1]\n",
    "    u[:, 2 * (n_panels + 1):] = x[:, 2 * (n_panels - 1) + 1:4 * n_panels - 3]\n",
    "    return u.unsqueeze(-1)\n",
    "\n",
    "def q_from_x_q(x, q, n_panels=8):\n",
    "    q = q.squeeze(-1)\n",
    "    q[:, np.arange(3, 2 * n_panels, 2)] = x[:, 4 * n_panels - 3: 5 * n_panels - 4]\n",
    "\n",
    "    return q.unsqueeze(-1)"
   ],
   "id": "7e4591f6da7fe9bf",
   "outputs": [],
   "execution_count": 181
  },
  {
   "metadata": {
    "ExecuteTime": {
     "end_time": "2025-03-11T15:51:29.881188Z",
     "start_time": "2025-03-11T15:51:29.877777Z"
    }
   },
   "cell_type": "code",
   "source": [
    "k_ref = g(0)\n",
    "k_ref = torch.unsqueeze(k_ref, 0).to(torch.float)"
   ],
   "id": "43d27cf49e81bfcd",
   "outputs": [],
   "execution_count": 182
  },
  {
   "metadata": {
    "ExecuteTime": {
     "end_time": "2025-03-11T15:51:59.512067Z",
     "start_time": "2025-03-11T15:51:59.510201Z"
    }
   },
   "cell_type": "code",
   "source": [
    "from losses import StiffnessToLoadLoss\n",
    "criterion = StiffnessToLoadLoss()"
   ],
   "id": "f23c134738fba717",
   "outputs": [],
   "execution_count": 183
  },
  {
   "metadata": {
    "ExecuteTime": {
     "end_time": "2025-03-11T15:52:03.978474Z",
     "start_time": "2025-03-11T15:52:03.969636Z"
    }
   },
   "cell_type": "code",
   "source": [
    "dl = torch.utils.data.DataLoader(ds, batch_size=100, shuffle=True)\n",
    "x, y, _, u, q = dl.__iter__().__next__()\n",
    "q[:, [0, 1, 17], :] = 0.\n",
    "\n",
    "k = k_ref * y.unsqueeze(-1)\n",
    "k[:, [0, 1, 17], [0, 1, 17]] = 1."
   ],
   "id": "f275e9dafb03f7a8",
   "outputs": [],
   "execution_count": 184
  },
  {
   "metadata": {
    "ExecuteTime": {
     "end_time": "2025-03-11T16:32:07.471427Z",
     "start_time": "2025-03-11T16:32:07.468334Z"
    }
   },
   "cell_type": "code",
   "source": "criterion(k*1e-6, u_from_x(x,100, 8)*1e3, q_from_x_q(x,q,8)*1e-3)",
   "id": "d75cd528ce26839c",
   "outputs": [
    {
     "data": {
      "text/plain": [
       "tensor(6.4561e-06)"
      ]
     },
     "execution_count": 202,
     "metadata": {},
     "output_type": "execute_result"
    }
   ],
   "execution_count": 202
  },
  {
   "metadata": {},
   "cell_type": "code",
   "outputs": [],
   "execution_count": null,
   "source": "\n",
   "id": "5ac77cf9a460213e"
  }
 ],
 "metadata": {
  "kernelspec": {
   "display_name": "Python 3",
   "language": "python",
   "name": "python3"
  },
  "language_info": {
   "codemirror_mode": {
    "name": "ipython",
    "version": 2
   },
   "file_extension": ".py",
   "mimetype": "text/x-python",
   "name": "python",
   "nbconvert_exporter": "python",
   "pygments_lexer": "ipython2",
   "version": "2.7.6"
  }
 },
 "nbformat": 4,
 "nbformat_minor": 5
}
