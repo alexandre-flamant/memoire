{
 "cells": [
  {
   "cell_type": "code",
   "id": "initial_id",
   "metadata": {
    "collapsed": true,
    "ExecuteTime": {
     "end_time": "2025-03-02T11:50:11.136905Z",
     "start_time": "2025-03-02T11:50:11.131541Z"
    }
   },
   "source": [
    "from default import PROJECT_HOME\n",
    "%cd -q {PROJECT_HOME}\n",
    "\n",
    "import matplotlib.pyplot as plt\n",
    "\n",
    "from copy import deepcopy\n",
    "\n",
    "from dataset.generator import SeismicTwoStoriesTrussGenerator\n",
    "from dataset.structural.analysis import LinearAnalysis\n",
    "from dataset.structural.structure import SeismicStoriesTruss\n",
    "from display import display_structure"
   ],
   "outputs": [],
   "execution_count": 8
  },
  {
   "metadata": {
    "ExecuteTime": {
     "end_time": "2025-03-02T11:48:36.753575Z",
     "start_time": "2025-03-02T11:48:36.677984Z"
    }
   },
   "cell_type": "code",
   "source": [
    "params = {\n",
    "    'n_stories': 2,\n",
    "    'n_spans': 1,\n",
    "    'height': 12.0,\n",
    "    'width': 12.0,\n",
    "}\n",
    "\n",
    "for i in range(params['n_stories'] * (params['n_spans'] * 4 + 1)):\n",
    "    params[f\"A_{i}\"] = .4\n",
    "    params[f\"E_{i}\"] = 30.e9\n",
    "\n",
    "params[\"P\"] = 2000e3\n",
    "\n",
    "struct = SeismicStoriesTruss()\n",
    "struct.generate_model(params)\n",
    "LinearAnalysis().run_analysis()\n",
    "\n",
    "display_structure(def_scale=10)"
   ],
   "id": "733d4abee60b7a80",
   "outputs": [
    {
     "data": {
      "text/plain": [
       "<Figure size 640x480 with 1 Axes>"
      ],
      "image/png": "[encoded data removed]"
     },
     "metadata": {},
     "output_type": "display_data"
    }
   ],
   "execution_count": 7
  },
  {
   "metadata": {},
   "cell_type": "code",
   "outputs": [],
   "execution_count": null,
   "source": [
    "total_size = 50_000\n",
    "remain = total_size\n",
    "base_config = {\n",
    "    'n_sample': -1,\n",
    "    'parameters': {\n",
    "        '__young__': {'distribution': 'uniform', 'low': 20e9, 'high': 40e9}\n",
    "    }\n",
    "}\n",
    "\n",
    "\n",
    "def plot(g):\n",
    "    fig, axs = plt.subplots(2, 3, figsize=(6, 6), sharex=True, sharey=True)\n",
    "    for i, r in enumerate(g):\n",
    "        display_structure(ax=axs[i // 3, i % 3], def_scale=20)\n",
    "        if i >= 5: break\n",
    "\n",
    "\n",
    "# Config 1\n",
    "config = deepcopy(base_config)\n",
    "config['n_sample'] = 2 * total_size // 14\n",
    "remain -= 2 * total_size // 14\n",
    "config['parameters']['height'] = {'distribution': 'uniform', 'low': 2, 'high': 4}\n",
    "config['parameters']['width'] = {'distribution': 'uniform', 'low': 2, 'high': 4}\n",
    "config['parameters']['P'] = {'distribution': 'uniform', 'low': 0, 'high': 500e3}\n",
    "config['parameters']['__area__'] = {'distribution': 'uniform', 'low': 0.01, 'high': 0.04}\n",
    "\n",
    "g = SeismicTwoStoriesTrussGenerator(config)\n",
    "plot(g)\n",
    "#g.save(path, append=False)\n",
    "\n",
    "# Config 2\n",
    "config = deepcopy(base_config)\n",
    "config['n_sample'] = 4 * total_size // 14\n",
    "remain -= 4 * total_size // 14\n",
    "config['parameters']['height'] = {'distribution': 'uniform', 'low': 4, 'high': 8}\n",
    "config['parameters']['width'] = {'distribution': 'uniform', 'low': 4, 'high': 8}\n",
    "config['parameters']['P'] = {'distribution': 'uniform', 'low': 0, 'high': 1000e3}\n",
    "config['parameters']['__area__'] = {'distribution': 'uniform', 'low': 0.04, 'high': 0.2}\n",
    "\n",
    "g = SeismicTwoStoriesTrussGenerator(config)\n",
    "plot(g)\n",
    "#g.save(path, append=True)\n",
    "\n",
    "# Config 3\n",
    "config = deepcopy(base_config)\n",
    "config['n_sample'] = 8 * total_size // 14\n",
    "remain -= 8 * total_size // 14\n",
    "config['n_sample'] += remain\n",
    "config['parameters']['height'] = {'distribution': 'uniform', 'low': 8, 'high': 16}\n",
    "config['parameters']['width'] = {'distribution': 'uniform', 'low': 8, 'high': 16}\n",
    "config['parameters']['P'] = {'distribution': 'uniform', 'low': 0, 'high': 2000e3}\n",
    "config['parameters']['__area__'] = {'distribution': 'uniform', 'low': 0.1, 'high': 0.04}\n",
    "\n",
    "g = SeismicTwoStoriesTrussGenerator(config)\n",
    "plot(g)\n",
    "#g.save(path, append=True)\n"
   ],
   "id": "69fcb3e65c563e93"
  }
 ],
 "metadata": {
  "kernelspec": {
   "display_name": "Python 3",
   "language": "python",
   "name": "python3"
  },
  "language_info": {
   "codemirror_mode": {
    "name": "ipython",
    "version": 2
   },
   "file_extension": ".py",
   "mimetype": "text/x-python",
   "name": "python",
   "nbconvert_exporter": "python",
   "pygments_lexer": "ipython2",
   "version": "2.7.6"
  }
 },
 "nbformat": 4,
 "nbformat_minor": 5
}
