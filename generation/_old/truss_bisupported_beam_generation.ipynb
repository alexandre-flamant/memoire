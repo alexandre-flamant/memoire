{
 "cells": [
  {
   "cell_type": "code",
   "id": "initial_id",
   "metadata": {
    "collapsed": true,
    "ExecuteTime": {
     "end_time": "2025-03-02T11:42:05.640570Z",
     "start_time": "2025-03-02T11:42:05.637650Z"
    }
   },
   "source": [
    "from default import PROJECT_HOME\n",
    "%cd -q {PROJECT_HOME}\n",
    "\n",
    "import matplotlib.pyplot as plt\n",
    "from display import display_structure\n",
    "from dataset.generator import BiSupportedTrussBeamGenerator"
   ],
   "outputs": [],
   "execution_count": 5
  },
  {
   "metadata": {
    "ExecuteTime": {
     "end_time": "2025-03-19T14:55:00.895693Z",
     "start_time": "2025-03-19T14:55:00.711882Z"
    }
   },
   "cell_type": "code",
   "source": [
    "g = BiSupportedTrussBeamGenerator(\"data/config/beam_concrete.yaml\")\n",
    "\n",
    "fig, axs = plt.subplots(2, 3, figsize=(12, 4), sharex=True, sharey=True)\n",
    "for i, r in enumerate(g):\n",
    "    display_structure(ax=axs[i // 3, i % 3], def_scale=20)\n",
    "    if i >= 5: break\n",
    "\n",
    "# g.save(\"data/dataset/beam\", append=False)"
   ],
   "id": "2e18bd80b13a8c80",
   "outputs": [
    {
     "ename": "NameError",
     "evalue": "name 'BiSupportedTrussBeamGenerator' is not defined",
     "output_type": "error",
     "traceback": [
      "\u001B[0;31m---------------------------------------------------------------------------\u001B[0m",
      "\u001B[0;31mNameError\u001B[0m                                 Traceback (most recent call last)",
      "Cell \u001B[0;32mIn[1], line 1\u001B[0m\n\u001B[0;32m----> 1\u001B[0m g \u001B[38;5;241m=\u001B[39m \u001B[43mBiSupportedTrussBeamGenerator\u001B[49m(\u001B[38;5;124m\"\u001B[39m\u001B[38;5;124mdata/config/beam_concrete.yaml\u001B[39m\u001B[38;5;124m\"\u001B[39m)\n\u001B[1;32m      3\u001B[0m fig, axs \u001B[38;5;241m=\u001B[39m plt\u001B[38;5;241m.\u001B[39msubplots(\u001B[38;5;241m2\u001B[39m, \u001B[38;5;241m3\u001B[39m, figsize\u001B[38;5;241m=\u001B[39m(\u001B[38;5;241m12\u001B[39m, \u001B[38;5;241m4\u001B[39m), sharex\u001B[38;5;241m=\u001B[39m\u001B[38;5;28;01mTrue\u001B[39;00m, sharey\u001B[38;5;241m=\u001B[39m\u001B[38;5;28;01mTrue\u001B[39;00m)\n\u001B[1;32m      4\u001B[0m \u001B[38;5;28;01mfor\u001B[39;00m i, r \u001B[38;5;129;01min\u001B[39;00m \u001B[38;5;28menumerate\u001B[39m(g):\n",
      "\u001B[0;31mNameError\u001B[0m: name 'BiSupportedTrussBeamGenerator' is not defined"
     ]
    }
   ],
   "execution_count": 1
  }
 ],
 "metadata": {
  "kernelspec": {
   "display_name": "Python 3",
   "language": "python",
   "name": "python3"
  },
  "language_info": {
   "codemirror_mode": {
    "name": "ipython",
    "version": 2
   },
   "file_extension": ".py",
   "mimetype": "text/x-python",
   "name": "python",
   "nbconvert_exporter": "python",
   "pygments_lexer": "ipython2",
   "version": "2.7.6"
  }
 },
 "nbformat": 4,
 "nbformat_minor": 5
}
