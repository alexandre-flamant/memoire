{
 "cells": [
  {
   "cell_type": "code",
   "id": "initial_id",
   "metadata": {
    "collapsed": true,
    "ExecuteTime": {
     "end_time": "2025-08-05T15:47:23.810873Z",
     "start_time": "2025-08-05T15:47:23.806166Z"
    }
   },
   "source": [
    "import random\n",
    "import re\n",
    "\n",
    "from default import PROJECT_HOME\n",
    "%cd {PROJECT_HOME}"
   ],
   "outputs": [
    {
     "name": "stdout",
     "output_type": "stream",
     "text": [
      "/Users/aflamant/Documents/courses/2024-2025/mémoire/03-code/memoire\n"
     ]
    }
   ],
   "execution_count": 1
  },
  {
   "metadata": {
    "ExecuteTime": {
     "end_time": "2025-08-05T15:47:25.539716Z",
     "start_time": "2025-08-05T15:47:23.813608Z"
    }
   },
   "cell_type": "code",
   "source": [
    "from dataset.structural.analysis import LinearAnalysis\n",
    "from dataset.structural.structure import DummyTruss\n",
    "from dataset.generator import DummyTrussGenerator\n",
    "from dataset import DummyTrussDataset\n",
    "from torch.utils.data import DataLoader\n",
    "from display import *\n",
    "from scipy.stats.qmc import Sobol\n",
    "import matplotlib.pyplot as plt\n",
    "from typing import Dict, Iterable\n",
    "import numpy as np\n",
    "import random"
   ],
   "id": "3b7a4f94f5806513",
   "outputs": [],
   "execution_count": 2
  },
  {
   "metadata": {},
   "cell_type": "markdown",
   "source": "# Example structure",
   "id": "2f0babf1f9c2ab74"
  },
  {
   "metadata": {
    "ExecuteTime": {
     "end_time": "2025-08-05T15:47:25.676034Z",
     "start_time": "2025-08-05T15:47:25.597112Z"
    }
   },
   "cell_type": "code",
   "source": [
    "params = {\n",
    "    'load': -1000e3,\n",
    "    'volumetric_weight': 78.5e3\n",
    "}\n",
    "\n",
    "a = .01\n",
    "e = 120e9\n",
    "\n",
    "for i in range(5):\n",
    "    params[f\"A_{i}\"] = a\n",
    "    params[f\"E_{i}\"] = e\n",
    "\n",
    "struct = DummyTruss()\n",
    "struct.generate_model(params)\n",
    "LinearAnalysis().run_analysis()\n",
    "g = DummyTrussGenerator()\n",
    "results = g.construct_result(params)\n",
    "display_structure(def_scale=100)"
   ],
   "id": "d28dd29c71232146",
   "outputs": [
    {
     "data": {
      "text/plain": [
       "<Figure size 640x480 with 1 Axes>"
      ],
      "image/png": "[encoded data removed]"
     },
     "metadata": {},
     "output_type": "display_data"
    }
   ],
   "execution_count": 3
  },
  {
   "metadata": {
    "ExecuteTime": {
     "end_time": "2025-08-05T15:47:25.685955Z",
     "start_time": "2025-08-05T15:47:25.682235Z"
    }
   },
   "cell_type": "code",
   "source": [
    "def plot(g, def_scale=5):\n",
    "    fig, axs = plt.subplots(2, 3, figsize=(12, 8), sharex=True, sharey=True)\n",
    "\n",
    "    # Flatten the axes array for easier iteration\n",
    "    axs = axs.flatten()\n",
    "\n",
    "    for i, r in enumerate(g):\n",
    "        if i >= 6:  # Since we have 2x3=6 subplots\n",
    "            break\n",
    "\n",
    "        display_structure(ax=axs[i], def_scale=def_scale)\n",
    "\n",
    "    # After plotting all structures, adjust all axes to have same limits\n",
    "    x_min, x_max = float('inf'), float('-inf')\n",
    "    y_min, y_max = float('inf'), float('-inf')\n",
    "\n",
    "    # Find global min and max across all subplots\n",
    "    for ax in axs:\n",
    "        x_limits = ax.get_xlim()\n",
    "        y_limits = ax.get_ylim()\n",
    "        x_min = min(x_min, x_limits[0])\n",
    "        x_max = max(x_max, x_limits[1])\n",
    "        y_min = min(y_min, y_limits[0])\n",
    "        y_max = max(y_max, y_limits[1])\n",
    "\n",
    "    # Make the scale the same in both directions - take the wider range\n",
    "    total_range = max(x_max - x_min, y_max - y_min)\n",
    "    x_center = (x_max + x_min) / 2\n",
    "    y_center = (y_max + y_min) / 2\n",
    "\n",
    "    # Apply the same limits to all subplots\n",
    "    for ax in axs:\n",
    "        ax.set_xlim(x_center - total_range / 2, x_center + total_range / 2)\n",
    "        ax.set_ylim(y_center - total_range / 2, y_center + total_range / 2)\n",
    "\n",
    "        # Ensure aspect ratio is equal\n",
    "        ax.set_aspect('equal')\n",
    "\n",
    "    plt.tight_layout()"
   ],
   "id": "42c93c091d55370d",
   "outputs": [],
   "execution_count": 4
  },
  {
   "metadata": {
    "ExecuteTime": {
     "end_time": "2025-08-05T15:47:25.693817Z",
     "start_time": "2025-08-05T15:47:25.691002Z"
    }
   },
   "cell_type": "code",
   "source": [
    "def sobol_sample(ranges: Dict | Iterable, size, seed=None):\n",
    "    sampler = Sobol(d=len(ranges), scramble=True, seed=seed)\n",
    "    sampling = sampler.random(n=size)\n",
    "\n",
    "    if isinstance(ranges, dict):\n",
    "        scaled_sampling = dict()\n",
    "        for i, k in enumerate(ranges.keys()):\n",
    "            min_val, max_val = ranges[k]\n",
    "            scaled_sampling[k] = sampling[:, i] * (max_val - min_val) + min_val\n",
    "    else:\n",
    "        scaled_sampling = sampling.copy()\n",
    "        for i, (min_val, max_val) in enumerate(ranges):\n",
    "            scaled_sampling[:, i] = sampling[:, i] * (max_val - min_val) + min_val\n",
    "\n",
    "    return scaled_sampling"
   ],
   "id": "da4c6bf821e479e5",
   "outputs": [],
   "execution_count": 5
  },
  {
   "metadata": {},
   "cell_type": "markdown",
   "source": [
    "# Train set\n",
    "We will generate sets of multiple size"
   ],
   "id": "8b8d1061e64989d4"
  },
  {
   "metadata": {
    "ExecuteTime": {
     "end_time": "2025-08-05T15:47:26.646399Z",
     "start_time": "2025-08-05T15:47:25.699136Z"
    }
   },
   "cell_type": "code",
   "source": [
    "def generate_dataset(size, filepath, display=True,\n",
    "                     young_range=(150e9, 250e9), area_range=(1e-3, 5e-2), load_range=(-10_000.e3, 0.0)):\n",
    "    def routine(size, params_ranges, default_params=None):\n",
    "        if default_params is None:\n",
    "            default_params = {\n",
    "                'volumetric_weight': 78.5e3\n",
    "            }\n",
    "\n",
    "        samples = sobol_sample(\n",
    "            ranges=params_ranges,\n",
    "            size=size,\n",
    "        )\n",
    "\n",
    "        results_iterator = []\n",
    "        for i in range(size):\n",
    "            params = default_params.copy()\n",
    "            params.update({f\"A_{j}\": samples[f'a_{j}'][i] for j in range(5)})\n",
    "            params.update({f\"E_{j}\": samples[f'e_{j}'][i] for j in range(5)})\n",
    "\n",
    "            params[f\"load\"] = samples[f\"load\"][i]\n",
    "\n",
    "            struct = DummyTruss()\n",
    "            struct.generate_model(params)\n",
    "            LinearAnalysis().run_analysis()\n",
    "            g = DummyTrussGenerator(structure=struct)\n",
    "\n",
    "            results_iterator.append(g.construct_result(params))\n",
    "\n",
    "        return results_iterator\n",
    "\n",
    "    # Random loads\n",
    "    params_ranges = {f'e_{i}': young_range for i in range(5)}\n",
    "    params_ranges.update({f'a_{i}': area_range for i in range(5)})\n",
    "    params_ranges.update({f'load': load_range})\n",
    "\n",
    "    results_iterator = routine(size, params_ranges)\n",
    "\n",
    "    random.shuffle(results_iterator)  # mixing up all modes\n",
    "    if filepath is not None: g.save_from_iterator(results_iterator, filepath, max_size=len(results_iterator))\n",
    "    if display: display_structure(def_scale=10)\n",
    "\n",
    "    return results_iterator\n",
    "\n",
    "\n",
    "dir_path = f\"data/dataset/dummy_truss\"\n",
    "#for size in [2**i for i in range(7,13)]:\n",
    "#    generate_dataset(size, f'{dir_path}/{size}.hdf5')\n",
    "\n",
    "#results = generate_dataset(512, f'{dir_path}/val_512.hdf5')\n",
    "results = generate_dataset(512, f'{dir_path}/ood_val_512.hdf5',\n",
    "                           young_range=(100e9, 250e9), area_range=(1e-3, 1e-1),\n",
    "                           load_range=(-20_000.e3, -15_0000.0e3))"
   ],
   "id": "2819e5b56d0bd9e2",
   "outputs": [
    {
     "name": "stdout",
     "output_type": "stream",
     "text": [
      "Dataset saved to data/dataset/dummy_truss/ood_val_512.hdf5\n"
     ]
    },
    {
     "data": {
      "text/plain": [
       "<Figure size 640x480 with 1 Axes>"
      ],
      "image/png": "[encoded data removed]"
     },
     "metadata": {},
     "output_type": "display_data"
    }
   ],
   "execution_count": 6
  },
  {
   "metadata": {
    "ExecuteTime": {
     "end_time": "2025-08-05T15:47:26.658116Z",
     "start_time": "2025-08-05T15:47:26.656574Z"
    }
   },
   "cell_type": "code",
   "source": "",
   "id": "fcb4259554d64811",
   "outputs": [],
   "execution_count": null
  }
 ],
 "metadata": {
  "kernelspec": {
   "display_name": "Python 3",
   "language": "python",
   "name": "python3"
  },
  "language_info": {
   "codemirror_mode": {
    "name": "ipython",
    "version": 2
   },
   "file_extension": ".py",
   "mimetype": "text/x-python",
   "name": "python",
   "nbconvert_exporter": "python",
   "pygments_lexer": "ipython2",
   "version": "2.7.6"
  }
 },
 "nbformat": 4,
 "nbformat_minor": 5
}
