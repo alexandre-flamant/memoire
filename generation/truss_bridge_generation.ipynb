{
 "cells": [
  {
   "cell_type": "code",
   "id": "initial_id",
   "metadata": {
    "collapsed": true,
    "ExecuteTime": {
     "end_time": "2025-03-20T16:03:27.304686Z",
     "start_time": "2025-03-20T16:03:27.299913Z"
    }
   },
   "source": [
    "import random\n",
    "import re\n",
    "\n",
    "from default import PROJECT_HOME\n",
    "%cd {PROJECT_HOME}"
   ],
   "outputs": [
    {
     "name": "stdout",
     "output_type": "stream",
     "text": [
      "/Users/aflamant/Documents/courses/2024-2025/mémoire/03-code/memoire\n"
     ]
    }
   ],
   "execution_count": 1
  },
  {
   "metadata": {
    "ExecuteTime": {
     "end_time": "2025-03-20T16:03:30.706797Z",
     "start_time": "2025-03-20T16:03:27.310712Z"
    }
   },
   "cell_type": "code",
   "source": [
    "from dataset.structural.analysis import LinearAnalysis\n",
    "from dataset.structural.structure import PrattTruss\n",
    "from dataset.generator import PrattTrussGenerator\n",
    "from display import *\n",
    "from scipy.stats.qmc import Sobol\n",
    "import matplotlib.pyplot as plt\n",
    "from typing import Dict, Iterable"
   ],
   "id": "3b7a4f94f5806513",
   "outputs": [],
   "execution_count": 2
  },
  {
   "metadata": {
    "ExecuteTime": {
     "end_time": "2025-03-20T16:03:30.908965Z",
     "start_time": "2025-03-20T16:03:30.790559Z"
    }
   },
   "cell_type": "code",
   "source": [
    "import numpy as np\n",
    "\n",
    "n_panels = 8\n",
    "l = 7.5\n",
    "volumetric_weight = 78.5e3\n",
    "params = {\n",
    "    'n_panels': n_panels,\n",
    "    'height': l,\n",
    "    'length': n_panels * l,\n",
    "    'volumetric_weight': volumetric_weight\n",
    "}\n",
    "\n",
    "a = .2\n",
    "a_t = a\n",
    "a_b = a\n",
    "a_v = a\n",
    "a_d = a\n",
    "\n",
    "e_t = 200e9\n",
    "e_b = 200e9\n",
    "e_v = 200e9\n",
    "e_d = 200e9\n",
    "\n",
    "for i in range(8):\n",
    "    params[f\"A_{i}\"] = a_b\n",
    "    params[f\"E_{i}\"] = e_b\n",
    "for i in range(8, 14):\n",
    "    params[f\"A_{i}\"] = a_t\n",
    "    params[f\"E_{i}\"] = e_t\n",
    "for i in range(14, 21):\n",
    "    params[f\"A_{i}\"] = a_v\n",
    "    params[f\"E_{i}\"] = e_v\n",
    "params[f\"A_21\"] = a_t\n",
    "params[f\"E_21\"] = e_t\n",
    "for i in range(22, 28):\n",
    "    params[f\"A_{i}\"] = a_d\n",
    "    params[f\"E_{i}\"] = e_d\n",
    "params[f\"A_28\"] = a_t\n",
    "params[f\"E_28\"] = e_t\n",
    "\n",
    "for i in range(2 * n_panels):\n",
    "    params[f\"P_x_{i}\"] = 0.\n",
    "    params[f\"P_y_{i}\"] = 0.\n",
    "\n",
    "for i in range(1, n_panels):\n",
    "    params[f\"P_y_{i}\"] = -1000.e3\n",
    "\n",
    "struct = PrattTruss()\n",
    "struct.generate_model(params)\n",
    "LinearAnalysis().run_analysis()\n",
    "g = PrattTrussGenerator()\n",
    "results = g.construct_result(params)\n",
    "display_structure(def_scale=10)\n",
    "print(f\"{60 / np.abs(struct.nodes_displacements[:, 1]).max():.2f}\")"
   ],
   "id": "3ae6f412033923e3",
   "outputs": [
    {
     "name": "stdout",
     "output_type": "stream",
     "text": [
      "1590.84\n"
     ]
    },
    {
     "data": {
      "text/plain": [
       "<Figure size 640x480 with 1 Axes>"
      ],
      "image/png": "[encoded data removed]"
     },
     "metadata": {},
     "output_type": "display_data"
    }
   ],
   "execution_count": 3
  },
  {
   "metadata": {
    "ExecuteTime": {
     "end_time": "2025-03-20T16:03:30.917372Z",
     "start_time": "2025-03-20T16:03:30.915422Z"
    }
   },
   "cell_type": "code",
   "source": [
    "K = results['stiffness_matrix'].reshape((int(results['stiffness_matrix'].__len__() ** .5),) * 2)\n",
    "K[np.abs(K) < .1] = 0"
   ],
   "id": "db71fa539ab9a38c",
   "outputs": [],
   "execution_count": 4
  },
  {
   "metadata": {
    "ExecuteTime": {
     "end_time": "2025-03-20T16:03:30.926052Z",
     "start_time": "2025-03-20T16:03:30.923362Z"
    }
   },
   "cell_type": "code",
   "source": [
    "K = results['stiffness_matrix'].reshape((int(results['stiffness_matrix'].__len__() ** .5),) * 2)\n",
    "q = results['nodes_load'].reshape((-1, 1))\n",
    "u = results['nodes_displacement'].reshape((-1, 1))\n",
    "\n",
    "np.round(K @ u - q)"
   ],
   "id": "8c168b7928140384",
   "outputs": [
    {
     "data": {
      "text/plain": [
       "array([[ 0.],\n",
       "       [ 0.],\n",
       "       [ 0.],\n",
       "       [ 0.],\n",
       "       [-0.],\n",
       "       [ 0.],\n",
       "       [ 0.],\n",
       "       [-0.],\n",
       "       [-0.],\n",
       "       [-0.],\n",
       "       [-0.],\n",
       "       [-0.],\n",
       "       [ 0.],\n",
       "       [-0.],\n",
       "       [ 0.],\n",
       "       [ 0.],\n",
       "       [ 0.],\n",
       "       [ 0.],\n",
       "       [ 0.],\n",
       "       [ 0.],\n",
       "       [ 0.],\n",
       "       [ 0.],\n",
       "       [ 0.],\n",
       "       [ 0.],\n",
       "       [ 0.],\n",
       "       [-0.],\n",
       "       [ 0.],\n",
       "       [ 0.],\n",
       "       [ 0.],\n",
       "       [ 0.],\n",
       "       [ 0.],\n",
       "       [ 0.]])"
      ]
     },
     "execution_count": 5,
     "metadata": {},
     "output_type": "execute_result"
    }
   ],
   "execution_count": 5
  },
  {
   "metadata": {
    "ExecuteTime": {
     "end_time": "2025-03-20T16:03:34.309418Z",
     "start_time": "2025-03-20T16:03:34.305710Z"
    }
   },
   "cell_type": "code",
   "source": [
    "def plot(g, def_scale=5):\n",
    "    fig, axs = plt.subplots(2, 3, figsize=(12, 8), sharex=True, sharey=True)\n",
    "\n",
    "    # Flatten the axes array for easier iteration\n",
    "    axs = axs.flatten()\n",
    "\n",
    "    for i, r in enumerate(g):\n",
    "        if i >= 6:  # Since we have 2x3=6 subplots\n",
    "            break\n",
    "\n",
    "        display_structure(ax=axs[i], def_scale=def_scale)\n",
    "\n",
    "    # After plotting all structures, adjust all axes to have same limits\n",
    "    x_min, x_max = float('inf'), float('-inf')\n",
    "    y_min, y_max = float('inf'), float('-inf')\n",
    "\n",
    "    # Find global min and max across all subplots\n",
    "    for ax in axs:\n",
    "        x_limits = ax.get_xlim()\n",
    "        y_limits = ax.get_ylim()\n",
    "        x_min = min(x_min, x_limits[0])\n",
    "        x_max = max(x_max, x_limits[1])\n",
    "        y_min = min(y_min, y_limits[0])\n",
    "        y_max = max(y_max, y_limits[1])\n",
    "\n",
    "    # Make the scale the same in both directions - take the wider range\n",
    "    total_range = max(x_max - x_min, y_max - y_min)\n",
    "    x_center = (x_max + x_min) / 2\n",
    "    y_center = (y_max + y_min) / 2\n",
    "\n",
    "    # Apply the same limits to all subplots\n",
    "    for ax in axs:\n",
    "        ax.set_xlim(x_center - total_range / 2, x_center + total_range / 2)\n",
    "        ax.set_ylim(y_center - total_range / 2, y_center + total_range / 2)\n",
    "\n",
    "        # Ensure aspect ratio is equal\n",
    "        ax.set_aspect('equal')\n",
    "\n",
    "    plt.tight_layout()"
   ],
   "id": "42c93c091d55370d",
   "outputs": [],
   "execution_count": 6
  },
  {
   "metadata": {
    "ExecuteTime": {
     "end_time": "2025-03-20T16:03:37.471055Z",
     "start_time": "2025-03-20T16:03:37.463451Z"
    }
   },
   "cell_type": "code",
   "source": [
    "def sobol_sample(ranges: Dict | Iterable, size, seed=None):\n",
    "    sampler = Sobol(d=len(ranges), scramble=True, seed=seed)\n",
    "    sampling = sampler.random(n=size)\n",
    "\n",
    "    if isinstance(ranges, dict):\n",
    "        scaled_sampling = dict()\n",
    "        for i, k in enumerate(ranges.keys()):\n",
    "            min_val, max_val = ranges[k]\n",
    "            scaled_sampling[k] = sampling[:, i] * (max_val - min_val) + min_val\n",
    "    else:\n",
    "        scaled_sampling = sampling.copy()\n",
    "        for i, (min_val, max_val) in enumerate(ranges):\n",
    "            scaled_sampling[:, i] = sampling[:, i] * (max_val - min_val) + min_val\n",
    "\n",
    "    return scaled_sampling\n",
    "\n",
    "\n",
    "def convert_bytecode_to_mask(bytecodes, n_bits):\n",
    "    reference_masks = [2 ** i for i in range(7)]\n",
    "\n",
    "    weights = [set([j + 1 for j, mask in enumerate(reference_masks) if bool((v & mask) >> j)])\n",
    "               for v in range(128)]\n",
    "    weights = [len(s) for s in weights]\n",
    "    weights = [np.sum((np.array(weights) == i)) for i in weights]\n",
    "    weights = [np.max(weights) / w for w in weights]\n",
    "\n",
    "    targets = np.cumsum([0] + weights)\n",
    "\n",
    "    for i in range(len(targets) - 1):\n",
    "        mask = np.logical_and(targets[i] < bytecodes, bytecodes < targets[i + 1])\n",
    "        bytecodes[mask] = i\n",
    "    bytecodes = bytecodes.astype(int)\n",
    "    masks = [set([j + 1 for j, mask in enumerate(reference_masks) if bool((v & mask) >> j)])\n",
    "             for v in bytecodes]\n",
    "    return masks"
   ],
   "id": "da4c6bf821e479e5",
   "outputs": [],
   "execution_count": 7
  },
  {
   "metadata": {},
   "cell_type": "markdown",
   "source": [
    "# Train set\n",
    "We will generate sets of multiple size"
   ],
   "id": "8b8d1061e64989d4"
  },
  {
   "metadata": {
    "ExecuteTime": {
     "end_time": "2025-03-09T15:52:07.765Z",
     "start_time": "2025-03-09T15:52:07.762041Z"
    }
   },
   "cell_type": "code",
   "source": "g = PrattTrussGenerator()",
   "id": "ca9d10213576375e",
   "outputs": [],
   "execution_count": 7
  },
  {
   "metadata": {
    "ExecuteTime": {
     "end_time": "2025-03-20T16:04:57.893293Z",
     "start_time": "2025-03-20T16:04:57.884250Z"
    }
   },
   "cell_type": "code",
   "source": [
    "def generate_dataset_uniform_ea(random_load_size, shared_load_size, filepath,\n",
    "                                young_range=(150e9, 250e9), area_range=(1e-3, 5e-2), load_range=(-1_000.e3, 0.0)):\n",
    "    params_ranges = {\n",
    "        'e': young_range,\n",
    "        'a': area_range,\n",
    "        'b_P_y_1': (0, 1),\n",
    "        'b_P_y_2': (0, 1),\n",
    "        'b_P_y_3': (0, 1),\n",
    "        'b_P_y_4': (0, 1),\n",
    "        'b_P_y_5': (0, 1),\n",
    "        'b_P_y_6': (0, 1),\n",
    "        'b_P_y_7': (0, 1),\n",
    "        'P_y_1': load_range,\n",
    "        'P_y_2': load_range,\n",
    "        'P_y_3': load_range,\n",
    "        'P_y_4': load_range,\n",
    "        'P_y_5': load_range,\n",
    "        'P_y_6': load_range,\n",
    "        'P_y_7': load_range,\n",
    "    }\n",
    "\n",
    "    size = random_load_size\n",
    "    samples = sobol_sample(\n",
    "        ranges=params_ranges,\n",
    "        size=size,\n",
    "    )\n",
    "\n",
    "    results_iterator = []\n",
    "    for i in range(size):\n",
    "        params = {\n",
    "            'n_panels': 8,\n",
    "            'length': 60.0,\n",
    "            'height': 7.5,\n",
    "            'volumetric_weight': 78.5e3\n",
    "        }\n",
    "        params.update({f\"A_{j}\": samples['a'][i] for j in range(29)})\n",
    "        params.update({f\"E_{j}\": samples['e'][i] for j in range(29)})\n",
    "        params.update({f\"P_x_{i}\": 0. for i in range(16)})\n",
    "        params.update({f\"P_y_{i}\": 0. for i in range(16)})\n",
    "\n",
    "        for j in range(1, 8):\n",
    "            trigger = True if samples[f'b_P_y_{j}'][i] >= .5 else False\n",
    "            if trigger:\n",
    "                params[f\"P_y_{j}\"] = samples[f\"P_y_{j}\"][i]\n",
    "\n",
    "        struct = PrattTruss()\n",
    "        struct.generate_model(params)\n",
    "        LinearAnalysis().run_analysis()\n",
    "        results_iterator.append(g.construct_result(params))\n",
    "\n",
    "    params_ranges = {\n",
    "        'e': young_range,\n",
    "        'a': area_range,\n",
    "        'b_P_y_1': (0, 1),\n",
    "        'b_P_y_2': (0, 1),\n",
    "        'b_P_y_3': (0, 1),\n",
    "        'b_P_y_4': (0, 1),\n",
    "        'b_P_y_5': (0, 1),\n",
    "        'b_P_y_6': (0, 1),\n",
    "        'b_P_y_7': (0, 1),\n",
    "        'P_y': load_range,\n",
    "    }\n",
    "\n",
    "    size = shared_load_size\n",
    "    samples = sobol_sample(\n",
    "        ranges=params_ranges,\n",
    "        size=size,\n",
    "    )\n",
    "\n",
    "    for i in range(size):\n",
    "        params = {\n",
    "            'n_panels': 8,\n",
    "            'length': 60.0,\n",
    "            'height': 7.5,\n",
    "            'volumetric_weight': 78.5e3\n",
    "        }\n",
    "        params.update({f\"A_{j}\": samples['a'][i] for j in range(29)})\n",
    "        params.update({f\"E_{j}\": samples['e'][i] for j in range(29)})\n",
    "        params.update({f\"P_x_{i}\": 0. for i in range(16)})\n",
    "        params.update({f\"P_y_{i}\": 0. for i in range(16)})\n",
    "\n",
    "        for j in range(1, 8):\n",
    "            trigger = True if samples[f'b_P_y_{j}'][i] >= .5 else False\n",
    "            if trigger:\n",
    "                params[f\"P_y_{j}\"] = samples[f\"P_y\"][i]\n",
    "\n",
    "        struct = PrattTruss()\n",
    "        struct.generate_model(params)\n",
    "        LinearAnalysis().run_analysis()\n",
    "        results_iterator.append(g.construct_result(params))\n",
    "\n",
    "    random.shuffle(results_iterator)  # mixing up the two modes\n",
    "    g.save_from_iterator(results_iterator, filepath, max_size=len(results_iterator))"
   ],
   "id": "79b24bc992666ca7",
   "outputs": [],
   "execution_count": 8
  },
  {
   "metadata": {
    "ExecuteTime": {
     "end_time": "2025-03-20T17:00:52.958362Z",
     "start_time": "2025-03-20T17:00:52.935582Z"
    }
   },
   "cell_type": "code",
   "source": [
    "def generate_dataset_non_uniform_ea(size,\n",
    "                                    uniform_ea_ratio, random_ea_ratio, three_ea_ratio,\n",
    "                                    random_load_ratio, shared_load_ratio, filepath,\n",
    "                                    young_range=(150e9, 250e9), area_range=(1e-3, 5e-2), load_range=(-1_000.e3, 0.0)):\n",
    "    if uniform_ea_ratio + random_ea_ratio + three_ea_ratio != 1.:\n",
    "        raise ValueError(\"ea ratios must sum to 1\")\n",
    "    if random_load_ratio + shared_load_ratio != 1.:\n",
    "        raise ValueError(\"load ratios must sum to 1\")\n",
    "\n",
    "    def routine(size, params_ranges, default_params=None):\n",
    "        if default_params is None:\n",
    "            default_params = {\n",
    "                'n_panels': 8,\n",
    "                'length': 60.0,\n",
    "                'height': 7.5,\n",
    "                'volumetric_weight': 78.5e3\n",
    "            }\n",
    "\n",
    "        samples = sobol_sample(\n",
    "            ranges=params_ranges,\n",
    "            size=size,\n",
    "        )\n",
    "\n",
    "        results_iterator = []\n",
    "        for i in range(size):\n",
    "            params = default_params.copy()\n",
    "            if 'a' in samples:  # Uniform\n",
    "                params.update({f\"A_{j}\": samples['a'][i] for j in range(29)})\n",
    "                params.update({f\"E_{j}\": samples['e'][i] for j in range(29)})\n",
    "            elif 'a_v' in samples:  # Uniform per class\n",
    "                params.update({f\"A_{j}\": samples['a_h'][i] for j in range(8)})\n",
    "                params.update({f\"A_{j}\": samples['a_h'][i] for j in range(8, 14)})\n",
    "                params.update({f\"A_{j}\": samples['a_h'][i] for j in [21, 28]})\n",
    "                params.update({f\"A_{j}\": samples['a_v'][i] for j in range(14, 21)})\n",
    "                params.update({f\"A_{j}\": samples['a_d'][i] for j in range(22, 28)})\n",
    "\n",
    "                params.update({f\"E_{j}\": samples['e_h'][i] for j in range(8)})\n",
    "                params.update({f\"E_{j}\": samples['e_h'][i] for j in range(8, 14)})\n",
    "                params.update({f\"E_{j}\": samples['e_h'][i] for j in [21, 28]})\n",
    "                params.update({f\"E_{j}\": samples['e_v'][i] for j in range(14, 21)})\n",
    "                params.update({f\"E_{j}\": samples['e_d'][i] for j in range(22, 28)})\n",
    "            else:  # Non-uniform\n",
    "                params.update({f\"A_{j}\": samples[f'a_{j}'][i] for j in range(29)})\n",
    "                params.update({f\"E_{j}\": samples[f'e_{j}'][i] for j in range(29)})\n",
    "\n",
    "            params.update({f\"P_x_{i}\": 0. for i in range(16)})\n",
    "            params.update({f\"P_y_{i}\": 0. for i in range(16)})\n",
    "\n",
    "            for j in range(1, 8):\n",
    "                trigger = True if samples[f'b_P_y_{j}'][i] >= .5 else False\n",
    "                if trigger:\n",
    "                    if 'P_y' in samples:  # Uniform load\n",
    "                        params[f\"P_y_{j}\"] = samples[f\"P_y\"][i]\n",
    "                    else:  # Non-uniform load\n",
    "                        params[f\"P_y_{j}\"] = samples[f\"P_y_{j}\"][i]\n",
    "\n",
    "            struct = PrattTruss()\n",
    "            struct.generate_model(params)\n",
    "            LinearAnalysis().run_analysis()\n",
    "            results_iterator.append(g.construct_result(params))\n",
    "\n",
    "        return results_iterator\n",
    "\n",
    "    results_iterator = []\n",
    "\n",
    "    size_r = size * random_load_ratio\n",
    "    # Random loads\n",
    "    params_ranges = {f'e_{i}': young_range for i in range(29)}\n",
    "    params_ranges.update({f'a_{i}': area_range for i in range(29)})\n",
    "    params_ranges.update({f'b_P_y_{i}': (0, 1) for i in range(1, 9)})\n",
    "    params_ranges.update({f'P_y_{i}': load_range for i in range(1, 9)})\n",
    "    size_r_r = int(random_ea_ratio * size_r)\n",
    "\n",
    "    results_iterator += routine(size_r_r, params_ranges)\n",
    "\n",
    "    params_ranges = {f'e': young_range}\n",
    "    params_ranges.update({f'a': area_range})\n",
    "    params_ranges.update({f'b_P_y_{i}': (0, 1) for i in range(1, 9)})\n",
    "    params_ranges.update({f'P_y_{i}': load_range for i in range(1, 9)})\n",
    "    size_r_u = int(uniform_ea_ratio * size_r)\n",
    "\n",
    "    results_iterator += routine(size_r_u, params_ranges)\n",
    "\n",
    "    params_ranges = {f'e_{i}': young_range for i in ['h', 'v', 'd']}\n",
    "    params_ranges.update({f'a_{i}': area_range for i in ['h', 'v', 'd']})\n",
    "    params_ranges.update({f'b_P_y_{i}': (0, 1) for i in range(1, 9)})\n",
    "    params_ranges.update({f'P_y_{i}': load_range for i in range(1, 9)})\n",
    "    size_r_t = int(size_r - size_r_r - size_r_u)\n",
    "\n",
    "    results_iterator += routine(size_r_t, params_ranges)\n",
    "\n",
    "    size_u = size - size_r\n",
    "    # Uniform loads\n",
    "    params_ranges = {f'e_{i}': young_range for i in range(29)}\n",
    "    params_ranges.update({f'a_{i}': area_range for i in range(29)})\n",
    "    params_ranges.update({f'b_P_y_{i}': (0, 1) for i in range(1, 9)})\n",
    "    params_ranges.update({f'P_y': load_range})\n",
    "    size_u_r = int(random_ea_ratio * size_u)\n",
    "\n",
    "    results_iterator += routine(size_u_r, params_ranges)\n",
    "\n",
    "    params_ranges = {f'e': young_range}\n",
    "    params_ranges.update({f'a': area_range})\n",
    "    params_ranges.update({f'b_P_y_{i}': (0, 1) for i in range(1, 9)})\n",
    "    params_ranges.update({f'P_y': load_range})\n",
    "    size_u_u = int(uniform_ea_ratio * size_u)\n",
    "    results_iterator += routine(size_u_u, params_ranges)\n",
    "\n",
    "    params_ranges = {f'e_{i}': young_range for i in ['h', 'v', 'd']}\n",
    "    params_ranges.update({f'a_{i}': area_range for i in ['h', 'v', 'd']})\n",
    "    params_ranges.update({f'b_P_y_{i}': (0, 1) for i in range(1, 9)})\n",
    "    params_ranges.update({f'P_y': load_range})\n",
    "    size_u_t = int(size_u - size_u_r - size_u_u)\n",
    "\n",
    "    results_iterator += routine(size_u_t, params_ranges)\n",
    "\n",
    "    random.shuffle(results_iterator)  # mixing up all modes\n",
    "    g.save_from_iterator(results_iterator, filepath, max_size=len(results_iterator))\n",
    "\n",
    "    return results_iterator"
   ],
   "id": "7519065e730ae81a",
   "outputs": [],
   "execution_count": 25
  },
  {
   "metadata": {
    "ExecuteTime": {
     "end_time": "2025-03-20T17:13:05.964383Z",
     "start_time": "2025-03-20T17:00:53.957950Z"
    }
   },
   "cell_type": "code",
   "source": [
    "if True:\n",
    "    for size in [100, 200, 500, 1_000, 2_000, 10_000, 20_000, 50_000, 100_000]:\n",
    "        print(f\"Generating data set of size {size}\\n   \", end='')\n",
    "        generate_dataset_non_uniform_ea(size,\n",
    "                                        .3, .2, .5,\n",
    "                                        .8, .2,\n",
    "                                        f'data/dataset/pratt_truss_bridge/multiple_ea/train_{size}.hdf5')"
   ],
   "id": "3c001139a6a90d0",
   "outputs": [
    {
     "name": "stdout",
     "output_type": "stream",
     "text": [
      "Generating data set of size 100\n",
      "   Dataset saved to data/dataset/pratt_truss_bridge/multiple_ea/train_100.hdf5\n",
      "Generating data set of size 200\n",
      "   Dataset saved to data/dataset/pratt_truss_bridge/multiple_ea/train_200.hdf5\n",
      "Generating data set of size 500\n",
      "   Dataset saved to data/dataset/pratt_truss_bridge/multiple_ea/train_500.hdf5\n",
      "Generating data set of size 1000\n",
      "   Dataset saved to data/dataset/pratt_truss_bridge/multiple_ea/train_1000.hdf5\n",
      "Generating data set of size 2000\n",
      "   Dataset saved to data/dataset/pratt_truss_bridge/multiple_ea/train_2000.hdf5\n",
      "Generating data set of size 10000\n",
      "   Dataset saved to data/dataset/pratt_truss_bridge/multiple_ea/train_10000.hdf5\n",
      "Generating data set of size 20000\n",
      "   Dataset saved to data/dataset/pratt_truss_bridge/multiple_ea/train_20000.hdf5\n",
      "Generating data set of size 50000\n",
      "   Dataset saved to data/dataset/pratt_truss_bridge/multiple_ea/train_50000.hdf5\n",
      "Generating data set of size 100000\n",
      "   Dataset saved to data/dataset/pratt_truss_bridge/multiple_ea/train_100000.hdf5\n"
     ]
    }
   ],
   "execution_count": 26
  },
  {
   "metadata": {
    "ExecuteTime": {
     "end_time": "2025-03-09T16:02:04.217219Z",
     "start_time": "2025-03-09T15:52:11.233296Z"
    }
   },
   "cell_type": "code",
   "source": [
    "if False:\n",
    "    for size in [100, 200, 500, 1_000, 2_000, 10_000, 20_000, 50_000, 100_000]:\n",
    "        size_1 = int(size * .8)\n",
    "        size_2 = int(size * .2)\n",
    "        print(f\"Generating data set of size {size}\\n   \", end='')\n",
    "        generate_dataset_uniform_ea(size_1, size_2, f'data/dataset/pratt_truss_bridge/single_ea/train_{size}.hdf5')"
   ],
   "id": "e3f7f3f88c7a04a8",
   "outputs": [
    {
     "name": "stdout",
     "output_type": "stream",
     "text": [
      "Generating data set of size 100\n",
      "   "
     ]
    },
    {
     "name": "stderr",
     "output_type": "stream",
     "text": [
      "/Users/aflamant/miniconda3/envs/x86Memoire/lib/python3.12/site-packages/scipy/stats/_qmc.py:958: UserWarning: The balance properties of Sobol' points require n to be a power of 2.\n",
      "  sample = self._random(n, workers=workers)\n"
     ]
    },
    {
     "name": "stdout",
     "output_type": "stream",
     "text": [
      "Dataset saved to data/dataset/pratt_truss_bridge/single_ea/train_100.hdf5\n",
      "Generating data set of size 200\n",
      "   Dataset saved to data/dataset/pratt_truss_bridge/single_ea/train_200.hdf5\n",
      "Generating data set of size 500\n",
      "   Dataset saved to data/dataset/pratt_truss_bridge/single_ea/train_500.hdf5\n",
      "Generating data set of size 1000\n",
      "   Dataset saved to data/dataset/pratt_truss_bridge/single_ea/train_1000.hdf5\n",
      "Generating data set of size 2000\n",
      "   Dataset saved to data/dataset/pratt_truss_bridge/single_ea/train_2000.hdf5\n",
      "Generating data set of size 10000\n",
      "   Dataset saved to data/dataset/pratt_truss_bridge/single_ea/train_10000.hdf5\n",
      "Generating data set of size 20000\n",
      "   Dataset saved to data/dataset/pratt_truss_bridge/single_ea/train_20000.hdf5\n",
      "Generating data set of size 50000\n",
      "   Dataset saved to data/dataset/pratt_truss_bridge/single_ea/train_50000.hdf5\n",
      "Generating data set of size 100000\n",
      "   Dataset saved to data/dataset/pratt_truss_bridge/single_ea/train_100000.hdf5\n"
     ]
    }
   ],
   "execution_count": 9
  },
  {
   "metadata": {},
   "cell_type": "markdown",
   "source": "# Test set",
   "id": "84f536cf655a7349"
  },
  {
   "metadata": {
    "ExecuteTime": {
     "end_time": "2025-03-09T16:03:52.209840Z",
     "start_time": "2025-03-09T16:02:04.227048Z"
    }
   },
   "cell_type": "code",
   "source": [
    "if False:\n",
    "    for size in [1_000, 2_000, 10_000, 20_000]:\n",
    "        print(f\"Generating data set of size {size}\\n   \", end='')\n",
    "        size_1 = int(size * .8)\n",
    "        size_2 = int(size * .2)\n",
    "        generate_dataset_uniform_ea(size_1, size_2, f'data/dataset/pratt_truss_bridge/single_ea/test_{size}.hdf5')"
   ],
   "id": "c33c0f286e4abdeb",
   "outputs": [
    {
     "name": "stdout",
     "output_type": "stream",
     "text": [
      "Generating data set of size 1000\n",
      "   Dataset saved to data/dataset/pratt_truss_bridge/single_ea/test_1000.hdf5\n",
      "Generating data set of size 2000\n",
      "   Dataset saved to data/dataset/pratt_truss_bridge/single_ea/test_2000.hdf5\n",
      "Generating data set of size 10000\n",
      "   Dataset saved to data/dataset/pratt_truss_bridge/single_ea/test_10000.hdf5\n",
      "Generating data set of size 20000\n",
      "   Dataset saved to data/dataset/pratt_truss_bridge/single_ea/test_20000.hdf5\n"
     ]
    }
   ],
   "execution_count": 10
  },
  {
   "metadata": {
    "ExecuteTime": {
     "end_time": "2025-03-20T17:15:16.124286Z",
     "start_time": "2025-03-20T17:13:05.983294Z"
    }
   },
   "cell_type": "code",
   "source": [
    "if True:\n",
    "    for size in [1_000, 2_000, 10_000, 20_000]:\n",
    "        print(f\"Generating data set of size {size}\\n   \", end='')\n",
    "        generate_dataset_non_uniform_ea(size,\n",
    "                                        .3, .2, .5,\n",
    "                                        .8, .2,\n",
    "                                        f'data/dataset/pratt_truss_bridge/multiple_ea/test_{size}.hdf5')"
   ],
   "id": "8abb96151ca35dcc",
   "outputs": [
    {
     "name": "stdout",
     "output_type": "stream",
     "text": [
      "Generating data set of size 1000\n",
      "   Dataset saved to data/dataset/pratt_truss_bridge/multiple_ea/test_1000.hdf5\n",
      "Generating data set of size 2000\n",
      "   Dataset saved to data/dataset/pratt_truss_bridge/multiple_ea/test_2000.hdf5\n",
      "Generating data set of size 10000\n",
      "   Dataset saved to data/dataset/pratt_truss_bridge/multiple_ea/test_10000.hdf5\n",
      "Generating data set of size 20000\n",
      "   Dataset saved to data/dataset/pratt_truss_bridge/multiple_ea/test_20000.hdf5\n"
     ]
    }
   ],
   "execution_count": 27
  }
 ],
 "metadata": {
  "kernelspec": {
   "display_name": "Python 3",
   "language": "python",
   "name": "python3"
  },
  "language_info": {
   "codemirror_mode": {
    "name": "ipython",
    "version": 2
   },
   "file_extension": ".py",
   "mimetype": "text/x-python",
   "name": "python",
   "nbconvert_exporter": "python",
   "pygments_lexer": "ipython2",
   "version": "2.7.6"
  }
 },
 "nbformat": 4,
 "nbformat_minor": 5
}
