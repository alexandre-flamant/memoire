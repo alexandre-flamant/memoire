{
 "cells": [
  {
   "cell_type": "code",
   "execution_count": 4,
   "id": "42d2dada-5a37-49b4-aa94-622305f985b6",
   "metadata": {},
   "outputs": [
    {
     "data": {
      "text/plain": [
       "'C:\\\\Users\\\\Alexandre\\\\Documents\\\\Courses\\\\2024-2025\\\\mémoire\\\\03-code\\\\dataset'"
      ]
     },
     "execution_count": 4,
     "metadata": {},
     "output_type": "execute_result"
    }
   ],
   "source": [
    "import os\n",
    "os.getcwd()"
   ]
  },
  {
   "cell_type": "code",
   "execution_count": 8,
   "id": "5d2966d6-91db-4283-82ed-fed479bcf905",
   "metadata": {
    "ExecuteTime": {
     "end_time": "2024-11-01T21:30:46.149520Z",
     "start_time": "2024-11-01T21:30:44.153821Z"
    }
   },
   "outputs": [
    {
     "ename": "ModuleNotFoundError",
     "evalue": "No module named 'analysis'",
     "output_type": "error",
     "traceback": [
      "\u001b[1;31m---------------------------------------------------------------------------\u001b[0m",
      "\u001b[1;31mModuleNotFoundError\u001b[0m                       Traceback (most recent call last)",
      "Cell \u001b[1;32mIn[8], line 16\u001b[0m\n\u001b[0;32m     10\u001b[0m \u001b[38;5;28;01mfrom\u001b[39;00m \u001b[38;5;21;01mdatetime\u001b[39;00m \u001b[38;5;28;01mimport\u001b[39;00m  datetime\n\u001b[0;32m     11\u001b[0m \u001b[38;5;28;01mfrom\u001b[39;00m \u001b[38;5;21;01mpolars\u001b[39;00m   \u001b[38;5;28;01mimport\u001b[39;00m (Int8, \n\u001b[0;32m     12\u001b[0m                       Float32, \n\u001b[0;32m     13\u001b[0m                       Float64, \n\u001b[0;32m     14\u001b[0m                       Boolean)\n\u001b[1;32m---> 16\u001b[0m \u001b[38;5;28;01mfrom\u001b[39;00m \u001b[38;5;21;01mgeneration\u001b[39;00m\u001b[38;5;21;01m.\u001b[39;00m\u001b[38;5;21;01mgenerator\u001b[39;00m \u001b[38;5;28;01mimport\u001b[39;00m (StructuralDatasetGenerator,\n\u001b[0;32m     17\u001b[0m                                           PlanarTrussGenerator,\n\u001b[0;32m     18\u001b[0m                                           LinearCantileverTrussGenerator,\n\u001b[0;32m     19\u001b[0m                                           LinearTwoBarTruss)\n\u001b[0;32m     20\u001b[0m \u001b[38;5;28;01mfrom\u001b[39;00m \u001b[38;5;21;01mgeneration\u001b[39;00m\u001b[38;5;21;01m.\u001b[39;00m\u001b[38;5;21;01manalysis\u001b[39;00m  \u001b[38;5;28;01mimport\u001b[39;00m LinearAnalysis\n\u001b[0;32m     21\u001b[0m \u001b[38;5;28;01mfrom\u001b[39;00m \u001b[38;5;21;01mvisualization\u001b[39;00m                \u001b[38;5;28;01mimport\u001b[39;00m ops_plot\n",
      "File \u001b[1;32m~\\Documents\\Courses\\2024-2025\\mémoire\\03-code\\dataset\\generation\\generator.py:20\u001b[0m\n\u001b[0;32m     13\u001b[0m \u001b[38;5;28;01mfrom\u001b[39;00m \u001b[38;5;21;01mpolars\u001b[39;00m \u001b[38;5;28;01mimport\u001b[39;00m (Int8 \u001b[38;5;28;01mas\u001b[39;00m i8,\n\u001b[0;32m     14\u001b[0m                     Float32 \u001b[38;5;28;01mas\u001b[39;00m f32,\n\u001b[0;32m     15\u001b[0m                     Float64 \u001b[38;5;28;01mas\u001b[39;00m f64,\n\u001b[0;32m     16\u001b[0m                     Boolean,\n\u001b[0;32m     17\u001b[0m                     List)\n\u001b[0;32m     18\u001b[0m \u001b[38;5;28;01mfrom\u001b[39;00m \u001b[38;5;21;01mpywin\u001b[39;00m\u001b[38;5;21;01m.\u001b[39;00m\u001b[38;5;21;01mmfc\u001b[39;00m\u001b[38;5;21;01m.\u001b[39;00m\u001b[38;5;21;01mobject\u001b[39;00m \u001b[38;5;28;01mimport\u001b[39;00m Object\n\u001b[1;32m---> 20\u001b[0m \u001b[38;5;28;01mfrom\u001b[39;00m \u001b[38;5;21;01mdataset\u001b[39;00m\u001b[38;5;21;01m.\u001b[39;00m\u001b[38;5;21;01mgeneration\u001b[39;00m\u001b[38;5;21;01m.\u001b[39;00m\u001b[38;5;21;01manalysis\u001b[39;00m \u001b[38;5;28;01mimport\u001b[39;00m \u001b[38;5;241m*\u001b[39m\n\u001b[0;32m     22\u001b[0m np\u001b[38;5;241m.\u001b[39mset_printoptions(threshold\u001b[38;5;241m=\u001b[39mnp\u001b[38;5;241m.\u001b[39minf)\n\u001b[0;32m     23\u001b[0m np\u001b[38;5;241m.\u001b[39mset_printoptions(linewidth\u001b[38;5;241m=\u001b[39mnp\u001b[38;5;241m.\u001b[39minf)\n",
      "\u001b[1;31mModuleNotFoundError\u001b[0m: No module named 'analysis'"
     ]
    }
   ],
   "source": [
    "# Imports\n",
    "import matplotlib.pyplot   as plt\n",
    "import numpy               as np\n",
    "import openseespy.opensees as ops\n",
    "import pprint\n",
    "import vfo.vfo             as vfo\n",
    "import sys\n",
    "import os\n",
    "\n",
    "from datetime import  datetime\n",
    "from polars   import (Int8, \n",
    "                      Float32, \n",
    "                      Float64, \n",
    "                      Boolean)\n",
    "\n",
    "from generation.generator import (StructuralDatasetGenerator,\n",
    "                                          PlanarTrussGenerator,\n",
    "                                          LinearCantileverTrussGenerator,\n",
    "                                          LinearTwoBarTruss)\n",
    "from generation.analysis  import LinearAnalysis\n",
    "from visualization                import ops_plot\n",
    "\n",
    "np.set_printoptions(threshold=sys.maxsize)\n",
    "np.set_printoptions(linewidth=sys.maxsize)\n",
    "np.set_printoptions(formatter={'float_kind':\n",
    "                                   lambda x:\n",
    "                                   f\"{x:.2e}\".rjust(11, ' ') if abs(x) > 1e-4\n",
    "                                   else \"0.\".rjust(11, ' ') if x == 0 else \"~0.\".rjust(11, ' ')})"
   ]
  },
  {
   "cell_type": "raw",
   "id": "532efd92-486b-4678-900e-f33bda9aeda1",
   "metadata": {
    "ExecuteTime": {
     "end_time": "2024-11-01T21:36:12.207985Z",
     "start_time": "2024-11-01T21:36:12.202563Z"
    }
   },
   "source": [
    "structure_df = LinearTwoBarTruss({\n",
    "    'parameters': {\n",
    "        'length': {\n",
    "            'default': {'type': 'UNIFORM', 'parameters': (2., 10.)}\n",
    "        },\n",
    "        'height': {\n",
    "            'default': {'type': 'UNIFORM', 'parameters': (2., 10.)}\n",
    "        },\n",
    "        'supports': {\n",
    "            '0-x': {'type': 'CONSTANT', 'parameters': (1,)},\n",
    "            '0-y': {'type': 'CONSTANT', 'parameters': (1,)},\n",
    "            '1-x': {'type': 'CONSTANT', 'parameters': (1,)},\n",
    "            '1-y': {'type': 'CONSTANT', 'parameters': (1,)},\n",
    "        },\n",
    "        'youngs':{\n",
    "            'default': {'type': 'UNIFORM_CONST', 'parameters': (70.e9, 200.e9)}\n",
    "        },\n",
    "        'loads': {\n",
    "            '2-y': {'type': 'DISTRIBUTION', 'parameters': ('load',)},\n",
    "        }\n",
    "    },\n",
    "    'distributions': {\n",
    "        'load': {'type': 'CONSTANT', 'parameters': (-500.e3,)},\n",
    "    }\n",
    "}\n",
    ")"
   ]
  },
  {
   "cell_type": "code",
   "execution_count": null,
   "id": "33d794b8-0b58-4eab-80e6-27a8bfc9c91d",
   "metadata": {},
   "outputs": [],
   "source": [
    "structure_df = LinearCantileverTrussGenerator({\n",
    "    'parameters': {\n",
    "        'cell_number': {\n",
    "            'default': {'type': 'RANDOM_CHOICE', 'parameters': (2, 3,)}\n",
    "        },\n",
    "        'cell_length': {\n",
    "            'default': {'type': 'DISTRIBUTION', 'parameters': ('length',)}\n",
    "        },\n",
    "        'cell_height': {\n",
    "            'default': {'type': 'DISTRIBUTION', 'parameters': ('length',)}\n",
    "        },\n",
    "        'supports': {\n",
    "            '0-x': {'type': 'CONSTANT', 'parameters': (1,)},\n",
    "            '0-y': {'type': 'CONSTANT', 'parameters': (1,)},\n",
    "            '1-x': {'type': 'CONSTANT', 'parameters': (1,)},\n",
    "            '1-y': {'type': 'CONSTANT', 'parameters': (1,)},\n",
    "        },\n",
    "        'areas': {\n",
    "            'default': {'type': 'UNIFORM_CONST', 'parameters': (1.e-3, 1.e-1)}\n",
    "        },\n",
    "        'youngs': {\n",
    "            'default': {'type': 'UNIFORM_CONST', 'parameters': (50.e9, 100.e9)}\n",
    "        },\n",
    "        'loads': {\n",
    "            '3-y': {'type': 'DISTRIBUTION', 'parameters': ('load',)},\n",
    "            '5-y': {'type': 'DISTRIBUTION', 'parameters': ('load',)},\n",
    "        }\n",
    "    },\n",
    "    'distributions': {\n",
    "        'length': {'type': 'UNIFORM', 'parameters': (4., 10.)},\n",
    "        'load': {'type': 'UNIFORM', 'parameters': (-1000.e3, -1.e3)},\n",
    "    }\n",
    "}\n",
    ")"
   ]
  },
  {
   "cell_type": "code",
   "execution_count": null,
   "id": "64c1d92d00469d16",
   "metadata": {
    "ExecuteTime": {
     "end_time": "2024-11-01T21:37:11.275984Z",
     "start_time": "2024-11-01T21:36:50.008314Z"
    }
   },
   "outputs": [],
   "source": [
    "structure_df.save(size=100_000)"
   ]
  },
  {
   "cell_type": "code",
   "execution_count": null,
   "id": "d943e39c-6e68-4689-866d-444d4b5d7612",
   "metadata": {
    "ExecuteTime": {
     "end_time": "2024-11-01T21:36:15.069212Z",
     "start_time": "2024-11-01T21:36:14.495063Z"
    }
   },
   "outputs": [],
   "source": [
    "for i in structure_df.__iter__(5):\n",
    "    ops_plot.plot()"
   ]
  },
  {
   "cell_type": "code",
   "execution_count": null,
   "id": "3f141798e76fda65",
   "metadata": {},
   "outputs": [],
   "source": []
  }
 ],
 "metadata": {
  "kernelspec": {
   "display_name": "Python 3 (ipykernel)",
   "language": "python",
   "name": "python3"
  },
  "language_info": {
   "codemirror_mode": {
    "name": "ipython",
    "version": 3
   },
   "file_extension": ".py",
   "mimetype": "text/x-python",
   "name": "python",
   "nbconvert_exporter": "python",
   "pygments_lexer": "ipython3",
   "version": "3.12.3"
  }
 },
 "nbformat": 4,
 "nbformat_minor": 5
}
